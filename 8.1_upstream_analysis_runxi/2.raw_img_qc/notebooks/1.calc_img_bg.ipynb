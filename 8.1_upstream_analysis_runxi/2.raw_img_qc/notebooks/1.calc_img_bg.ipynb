{
 "cells": [
  {
   "cell_type": "markdown",
   "id": "132394d5",
   "metadata": {},
   "source": [
    "# Calculate the background per plate\n",
    "\n",
    "__Flag low-signal/quality image wells__"
   ]
  },
  {
   "cell_type": "code",
   "execution_count": 2,
   "id": "b5a7d279",
   "metadata": {},
   "outputs": [],
   "source": [
    "import numpy as np\n",
    "import matplotlib.pyplot as plt\n",
    "import matplotlib.patches as patches\n",
    "from skimage.io import imread\n",
    "from tqdm import tqdm"
   ]
  },
  {
   "cell_type": "code",
   "execution_count": null,
   "id": "a30fbda5",
   "metadata": {},
   "outputs": [],
   "source": []
  }
 ],
 "metadata": {
  "kernelspec": {
   "display_name": "varchamp",
   "language": "python",
   "name": "python3"
  },
  "language_info": {
   "codemirror_mode": {
    "name": "ipython",
    "version": 3
   },
   "file_extension": ".py",
   "mimetype": "text/x-python",
   "name": "python",
   "nbconvert_exporter": "python",
   "pygments_lexer": "ipython3",
   "version": "3.8.18"
  }
 },
 "nbformat": 4,
 "nbformat_minor": 5
}
