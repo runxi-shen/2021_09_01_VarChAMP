{
 "cells": [
  {
   "cell_type": "markdown",
   "id": "132394d5",
   "metadata": {},
   "source": [
    "# Calculate the background per plate"
   ]
  },
  {
   "cell_type": "code",
   "execution_count": 4,
   "id": "b5a7d279",
   "metadata": {},
   "outputs": [],
   "source": [
    "import os\n",
    "import re\n",
    "import sys\n",
    "import glob\n",
    "import numpy as np\n",
    "import polars as pl\n",
    "import matplotlib.pyplot as plt\n",
    "import matplotlib.patches as patches\n",
    "from skimage.io import imread\n",
    "from concurrent.futures import ProcessPoolExecutor, as_completed\n",
    "from tqdm import tqdm\n",
    "\n",
    "sys.path.append(\"../scripts\")\n",
    "from img_utils import letter_dict, channel_dict\n",
    "letter_dict_rev = {v: k for k, v in letter_dict.items()}\n",
    "channel_dict_rev = {v: k for k, v in channel_dict.items()}"
   ]
  },
  {
   "cell_type": "code",
   "execution_count": 5,
   "id": "f7c6987b",
   "metadata": {},
   "outputs": [
    {
     "data": {
      "text/plain": [
       "{'01': 'A',\n",
       " '02': 'B',\n",
       " '03': 'C',\n",
       " '04': 'D',\n",
       " '05': 'E',\n",
       " '06': 'F',\n",
       " '07': 'G',\n",
       " '08': 'H',\n",
       " '09': 'I',\n",
       " '10': 'J',\n",
       " '11': 'K',\n",
       " '12': 'L',\n",
       " '13': 'M',\n",
       " '14': 'N',\n",
       " '15': 'O',\n",
       " '16': 'P'}"
      ]
     },
     "execution_count": 5,
     "metadata": {},
     "output_type": "execute_result"
    }
   ],
   "source": [
    "letter_dict_rev"
   ]
  },
  {
   "cell_type": "code",
   "execution_count": null,
   "id": "81745917",
   "metadata": {},
   "outputs": [],
   "source": [
    "def summarize_tiff_img(tiff_image_path):\n",
    "    img = imread(tiff_image_path)\n",
    "    arr = img.ravel()\n",
    "    # cast to float64 for safe sum\n",
    "    s = arr.sum(dtype=np.float64)\n",
    "    ss = (arr.astype(np.float64) ** 2).sum()\n",
    "    n = arr.size\n",
    "    # integer images → bincount histogram\n",
    "    # minlength covers full dynamic range e.g. 0–65535 for uint16\n",
    "    hist = np.bincount(arr, minlength=65536)\n",
    "    return n, s, ss, hist\n",
    "\n",
    "\n",
    "def summarize_img_group(tiff_imgs, output_dict, workers=1):\n",
    "    \"\"\"\n",
    "    Summarize a list of TIFF images in parallel, returning list of (n, s, ss, hist) tuples.\n",
    "    \"\"\"\n",
    "    if type(tiff_imgs)==str:\n",
    "        tiff_imgs = glob.glob(tiff_imgs, recursive=True)\n",
    "\n",
    "    if (tiff_imgs):\n",
    "        results = []\n",
    "        # process in parallel with a progress bar\n",
    "        with ProcessPoolExecutor(max_workers=workers) as exe:\n",
    "            futures = {exe.submit(summarize_tiff_img, path): path for path in tiff_imgs}\n",
    "            for fut in tqdm(as_completed(futures), total=len(futures), desc=\"Summarizing TIFFs\"):\n",
    "                results.append(fut.result())\n",
    "        # reduce\n",
    "        total_n    = sum(r[0] for r in results)\n",
    "        total_sum  = sum(r[1] for r in results)\n",
    "        total_sumsq= sum(r[2] for r in results)\n",
    "        # element-wise sum of histograms\n",
    "        total_hist = sum(r[3] for r in results)\n",
    "        # mean & std\n",
    "        mean = total_sum / total_n\n",
    "        std  = np.sqrt(total_sumsq/total_n - mean**2)\n",
    "        # median: find intensity bin where cumsum ≥ N/2\n",
    "        cum = np.cumsum(total_hist)\n",
    "        median = np.searchsorted(cum, total_n//2)\n",
    "\n",
    "        output_dict.update({\"median\": median, \"mean\": mean, \"std\": std})\n",
    "        return output_dict\n",
    "    \n",
    "    else:\n",
    "        output_dict.update({\"median\": np.nan, \"mean\": np.nan, \"std\": np.nan})\n",
    "        return output_dict"
   ]
  },
  {
   "cell_type": "code",
   "execution_count": null,
   "id": "de3b9d73",
   "metadata": {},
   "outputs": [
    {
     "name": "stdout",
     "output_type": "stream",
     "text": [
      "Summarize the per-channel well-level summary statistics:\n",
      "384\n"
     ]
    },
    {
     "name": "stderr",
     "output_type": "stream",
     "text": [
      "100%|██████████| 384/384 [00:00<00:00, 174327.60it/s]\n"
     ]
    },
    {
     "name": "stdout",
     "output_type": "stream",
     "text": [
      "384\n"
     ]
    },
    {
     "name": "stderr",
     "output_type": "stream",
     "text": [
      "100%|██████████| 384/384 [00:00<00:00, 161805.58it/s]\n"
     ]
    },
    {
     "name": "stdout",
     "output_type": "stream",
     "text": [
      "384\n"
     ]
    },
    {
     "name": "stderr",
     "output_type": "stream",
     "text": [
      "100%|██████████| 384/384 [00:00<00:00, 197912.60it/s]\n"
     ]
    },
    {
     "name": "stdout",
     "output_type": "stream",
     "text": [
      "384\n"
     ]
    },
    {
     "name": "stderr",
     "output_type": "stream",
     "text": [
      "100%|██████████| 384/384 [00:00<00:00, 171105.15it/s]\n"
     ]
    },
    {
     "name": "stdout",
     "output_type": "stream",
     "text": [
      "384\n"
     ]
    },
    {
     "name": "stderr",
     "output_type": "stream",
     "text": [
      "100%|██████████| 384/384 [00:00<00:00, 174082.66it/s]\n"
     ]
    },
    {
     "name": "stdout",
     "output_type": "stream",
     "text": [
      "384\n"
     ]
    },
    {
     "name": "stderr",
     "output_type": "stream",
     "text": [
      "100%|██████████| 384/384 [00:00<00:00, 195178.47it/s]\n"
     ]
    },
    {
     "name": "stdout",
     "output_type": "stream",
     "text": [
      "384\n"
     ]
    },
    {
     "name": "stderr",
     "output_type": "stream",
     "text": [
      "100%|██████████| 384/384 [00:00<00:00, 170525.44it/s]\n"
     ]
    },
    {
     "name": "stdout",
     "output_type": "stream",
     "text": [
      "384\n"
     ]
    },
    {
     "name": "stderr",
     "output_type": "stream",
     "text": [
      "100%|██████████| 384/384 [00:00<00:00, 169022.22it/s]\n"
     ]
    }
   ],
   "source": [
    "TIFF_IMG_DIR = \"../inputs/images\"\n",
    "print(\"Summarize the per-channel well-level summary statistics:\")\n",
    "output_dir = \"../outputs/1.plate_bg_summary/\"\n",
    "batches = [\"2025_01_27_Batch_13\", \"2025_01_28_Batch_14\"]\n",
    "\n",
    "for batch in batches:\n",
    "    tiff_img_dict_mapper = []\n",
    "    plates = os.listdir(f\"{TIFF_IMG_DIR}/{batch}/images\")\n",
    "    for plate in plates:\n",
    "        all_tiffs = glob.glob(f\"{TIFF_IMG_DIR}/{batch}/images/{plate}/Images/*.tiff\")\n",
    "        unique_wells = sorted(set([tiff.split('/')[-1][:6] for tiff in all_tiffs]))\n",
    "        print(len(unique_wells)) ## 384\n",
    "        for well in tqdm(unique_wells):\n",
    "            well_letter = letter_dict_rev[re.search(r'(?<=r)(\\d{2})(?=c)', well)[0]]\n",
    "            well_num = re.search(r'(?<=c)(\\d{2})', well)[0]\n",
    "            # print(well, result_dict[\"well\"])\n",
    "            for channel in channel_dict_rev.keys():\n",
    "                result_dict = {\"plate\": plate.split(\"__\")[0], \n",
    "                               \"well\": f\"{well_letter}{well_num}\",\n",
    "                               \"channel\": channel_dict_rev[channel]}\n",
    "                channel_tiffs = f\"{TIFF_IMG_DIR}/{batch}/images/{plate}/Images/{well}*-ch{channel}sk*.tiff\" # glob.glob(f\"{TIFF_IMG_DIR}/{batch}/images/{plate}/Images/{well}*_ch{channel}sk*.tiff\", recursive=True)[:100]\n",
    "                # print(channel_tiffs)\n",
    "                tiff_img_dict_mapper.append((channel_tiffs, result_dict))\n",
    "\n",
    "    results_per_well = []\n",
    "    with ProcessPoolExecutor(max_workers=384) as exe:\n",
    "        # submit each (tiff_imgs, output_dict) pair as separate job\n",
    "        futures = [\n",
    "            exe.submit(summarize_img_group, tiff_imgs, output_dict)\n",
    "            for tiff_imgs, output_dict in tiff_img_dict_mapper\n",
    "        ]\n",
    "        for fut in tqdm(as_completed(futures), total=len(futures), desc=\"Processing tiffs per well\"):\n",
    "            result = fut.result()\n",
    "            results_per_well.append(result)\n",
    "\n",
    "    df = pl.DataFrame(results_per_well)\n",
    "    df.write_parquet(os.path.join(output_dir, batch, \"plate_well_sum_stats.parquet\"))"
   ]
  },
  {
   "cell_type": "code",
   "execution_count": 24,
   "id": "e452807c",
   "metadata": {},
   "outputs": [
    {
     "name": "stdout",
     "output_type": "stream",
     "text": [
      "Summarize the per-channel well-level summary statistics:\n",
      "Summarize the per-channel plate-level summary statistics:\n"
     ]
    },
    {
     "name": "stderr",
     "output_type": "stream",
     "text": [
      "100%|██████████| 8/8 [00:00<00:00, 12.63it/s]\n",
      "Summarizing TIFFs: 100%|██████████| 100/100 [07:14<00:00,  4.34s/it]\n",
      "Summarizing TIFFs: 100%|██████████| 100/100 [06:24<00:00,  3.85s/it]\n",
      "Summarizing TIFFs: 100%|██████████| 100/100 [07:07<00:00,  4.27s/it]\n",
      "Summarizing TIFFs: 100%|██████████| 100/100 [06:59<00:00,  4.19s/it]3.38s/it]\n",
      "Summarizing TIFFs: 100%|██████████| 100/100 [06:10<00:00,  3.70s/it]\n",
      "Summarizing TIFFs: 100%|██████████| 100/100 [07:07<00:00,  4.27s/it]\n",
      "Summarizing TIFFs: 100%|██████████| 100/100 [07:00<00:00,  4.20s/it]\n",
      "Summarizing TIFFs: 100%|██████████| 100/100 [07:12<00:00,  4.32s/it]\n",
      "Summarizing TIFFs: 100%|██████████| 100/100 [06:59<00:00,  4.19s/it]\n",
      "Summarizing TIFFs: 100%|██████████| 100/100 [06:28<00:00,  3.89s/it]\n",
      "Summarizing TIFFs: 100%|██████████| 100/100 [06:51<00:00,  4.11s/it]\n",
      "Summarizing TIFFs: 100%|██████████| 100/100 [06:15<00:00,  3.75s/it]\n",
      "Summarizing TIFFs: 100%|██████████| 100/100 [06:39<00:00,  4.00s/it]\n",
      "Summarizing TIFFs: 100%|██████████| 100/100 [07:09<00:00,  4.29s/it]\n",
      "Summarizing TIFFs: 100%|██████████| 100/100 [07:15<00:00,  4.35s/it]\n",
      "Summarizing TIFFs: 100%|██████████| 100/100 [07:10<00:00,  4.31s/it]\n",
      "Summarizing TIFFs: 100%|██████████| 100/100 [07:18<00:00,  4.38s/it]2.72s/it]\n",
      "Summarizing TIFFs: 100%|██████████| 100/100 [06:19<00:00,  3.79s/it]\n",
      "Summarizing TIFFs: 100%|██████████| 100/100 [07:24<00:00,  4.44s/it]2s/it]   \n",
      "Summarizing TIFFs: 100%|██████████| 100/100 [07:16<00:00,  4.37s/it]\n",
      "Summarizing TIFFs: 100%|██████████| 100/100 [06:21<00:00,  3.82s/it]8s/it]\n",
      "Summarizing TIFFs: 100%|██████████| 100/100 [07:03<00:00,  4.23s/it]4s/it]\n",
      "Summarizing TIFFs: 100%|██████████| 100/100 [07:03<00:00,  4.23s/it]2s/it]\n",
      "Summarizing TIFFs: 100%|██████████| 100/100 [07:09<00:00,  4.29s/it]\n",
      "Summarizing TIFFs: 100%|██████████| 100/100 [07:21<00:00,  4.42s/it]\n",
      "Summarizing TIFFs: 100%|██████████| 100/100 [07:27<00:00,  4.47s/it]\n",
      "Summarizing TIFFs: 100%|██████████| 100/100 [07:27<00:00,  4.48s/it]\n",
      "Summarizing TIFFs: 100%|██████████| 100/100 [07:31<00:00,  4.52s/it]\n",
      "Summarizing TIFFs: 100%|██████████| 100/100 [07:17<00:00,  4.37s/it]\n",
      "Summarizing TIFFs: 100%|██████████| 100/100 [06:35<00:00,  3.95s/it]\n",
      "Summarizing TIFFs: 100%|██████████| 100/100 [07:37<00:00,  4.57s/it]96s/it]\n",
      "Summarizing TIFFs: 100%|██████████| 100/100 [07:32<00:00,  4.53s/it]37s/it]\n",
      "Processing tiffs per plate: 100%|██████████| 32/32 [08:06<00:00, 15.21s/it]\n",
      "100%|██████████| 8/8 [00:05<00:00,  1.53it/s]\n",
      "Summarizing TIFFs: 100%|██████████| 100/100 [00:00<00:00, 1296.91it/s]\n",
      "Summarizing TIFFs: 100%|██████████| 100/100 [00:05<00:00, 18.48it/s]\n",
      "Summarizing TIFFs: 100%|██████████| 100/100 [00:06<00:00, 15.57it/s]\n",
      "Summarizing TIFFs: 100%|██████████| 100/100 [00:05<00:00, 19.09it/s]\n",
      "Summarizing TIFFs: 100%|██████████| 100/100 [00:05<00:00, 19.50it/s]\n",
      "Summarizing TIFFs: 100%|██████████| 100/100 [00:05<00:00, 17.93it/s]\n",
      "Summarizing TIFFs: 100%|██████████| 100/100 [00:05<00:00, 17.93it/s]\n",
      "Summarizing TIFFs: 100%|██████████| 100/100 [00:05<00:00, 18.12it/s]\n",
      "Summarizing TIFFs: 100%|██████████| 100/100 [00:05<00:00, 18.20it/s]\n",
      "Summarizing TIFFs: 100%|██████████| 100/100 [00:05<00:00, 17.41it/s]\n",
      "Summarizing TIFFs: 100%|██████████| 100/100 [00:05<00:00, 17.43it/s]\n",
      "Summarizing TIFFs: 100%|██████████| 100/100 [00:06<00:00, 14.76it/s]\n",
      "Summarizing TIFFs: 100%|██████████| 100/100 [00:05<00:00, 17.10it/s]\n",
      "Summarizing TIFFs: 100%|██████████| 100/100 [00:00<00:00, 162.99it/s]\n",
      "Summarizing TIFFs: 100%|██████████| 100/100 [00:06<00:00, 14.61it/s]\n",
      "Summarizing TIFFs: 100%|██████████| 100/100 [00:06<00:00, 14.99it/s]\n",
      "Summarizing TIFFs: 100%|██████████| 100/100 [00:06<00:00, 14.35it/s]\n",
      "\n",
      "Summarizing TIFFs: 100%|██████████| 100/100 [00:07<00:00, 14.05it/s]\n",
      "\n",
      "Summarizing TIFFs: 100%|██████████| 100/100 [00:04<00:00, 22.49it/s]\n",
      "Summarizing TIFFs: 100%|██████████| 100/100 [00:28<00:00,  3.49it/s]\n",
      "Summarizing TIFFs: 100%|██████████| 100/100 [00:29<00:00,  3.42it/s]\n",
      "Summarizing TIFFs: 100%|██████████| 100/100 [00:32<00:00,  3.12it/s]\n",
      "Summarizing TIFFs: 100%|██████████| 100/100 [00:32<00:00,  3.12it/s]\n",
      "Summarizing TIFFs: 100%|██████████| 100/100 [00:00<00:00, 154.80it/s]4it/s]\n",
      "Summarizing TIFFs: 100%|██████████| 100/100 [00:00<00:00, 117.75it/s]2it/s]\n",
      "Summarizing TIFFs: 100%|██████████| 100/100 [00:01<00:00, 63.29it/s]\n",
      "Summarizing TIFFs: 100%|██████████| 100/100 [00:01<00:00, 57.47it/s]\n",
      "Summarizing TIFFs: 100%|██████████| 100/100 [00:02<00:00, 47.04it/s]\n",
      "Summarizing TIFFs: 100%|██████████| 100/100 [00:02<00:00, 47.25it/s]\n",
      "Summarizing TIFFs: 100%|██████████| 100/100 [00:02<00:00, 48.79it/s]\n",
      "Processing tiffs per plate: 100%|██████████| 32/32 [01:04<00:00,  2.02s/it]\n"
     ]
    }
   ],
   "source": [
    "TIFF_IMG_DIR = \"../inputs/images\"\n",
    "print(\"Summarize the per-channel well-level summary statistics:\")\n",
    "output_dir = \"../outputs/1.plate_bg_summary/\"\n",
    "batches = [\"2025_01_27_Batch_13\", \"2025_01_28_Batch_14\"]\n",
    "\n",
    "print(\"Summarize the per-channel plate-level summary statistics:\")\n",
    "for batch in batches:\n",
    "    tiff_img_dict_mapper = []\n",
    "    plates = os.listdir(f\"{TIFF_IMG_DIR}/{batch}/images\")\n",
    "    for plate in tqdm(plates):\n",
    "        for channel in channel_dict_rev.keys():\n",
    "            channel_tiffs = glob.glob(f\"{TIFF_IMG_DIR}/{batch}/images/{plate}/Images/*ch{channel}sk*.tiff\", recursive=True)[:100]\n",
    "            if channel_tiffs:\n",
    "                result_dict = {\"plate\": plate.split(\"__\")[0], \n",
    "                               \"channel\": channel_dict_rev[channel]}\n",
    "                result_dict[\"channel\"] = channel_dict_rev[channel]\n",
    "                tiff_img_dict_mapper.append((channel_tiffs, result_dict))\n",
    "                \n",
    "    results_per_plate = []\n",
    "    with ProcessPoolExecutor(max_workers=384) as exe:\n",
    "        # submit each (tiff_imgs, output_dict) pair as separate job\n",
    "        futures = [\n",
    "            exe.submit(summarize_img_group, tiff_imgs, output_dict)\n",
    "            for tiff_imgs, output_dict in tiff_img_dict_mapper\n",
    "        ]\n",
    "        for fut in tqdm(as_completed(futures), total=len(futures), desc=\"Processing tiffs per plate\"):\n",
    "            result = fut.result()\n",
    "            results_per_plate.append(result)\n",
    "\n",
    "    df_plate = pl.DataFrame(results_per_plate)\n",
    "    df_plate.write_parquet(os.path.join(output_dir, batch, \"plate_sum_stats.parquet\"))"
   ]
  },
  {
   "cell_type": "code",
   "execution_count": null,
   "id": "0649796b",
   "metadata": {},
   "outputs": [
    {
     "data": {
      "text/html": [
       "<div><style>\n",
       ".dataframe > thead > tr,\n",
       ".dataframe > tbody > tr {\n",
       "  text-align: right;\n",
       "  white-space: pre-wrap;\n",
       "}\n",
       "</style>\n",
       "<small>shape: (96, 15)</small><table border=\"1\" class=\"dataframe\"><thead><tr><th>plate</th><th>img_path</th><th>site</th><th>channel</th><th>well</th><th>perc_50</th><th>perc_60</th><th>perc_70</th><th>perc_75</th><th>perc_80</th><th>perc_90</th><th>perc_95</th><th>perc_99</th><th>plate_channel_median</th><th>plate_channel_mad</th></tr><tr><td>str</td><td>str</td><td>str</td><td>str</td><td>str</td><td>f64</td><td>f64</td><td>f64</td><td>f64</td><td>f64</td><td>f64</td><td>f64</td><td>f64</td><td>f64</td><td>f64</td></tr></thead><tbody><tr><td>&quot;2025_01_27_B13A7A8P2_T2&quot;</td><td>&quot;../inputs/images//2025_01_27_B…</td><td>&quot;02&quot;</td><td>&quot;GFP&quot;</td><td>&quot;P16&quot;</td><td>159.0</td><td>165.0</td><td>170.0</td><td>173.0</td><td>175.0</td><td>182.0</td><td>188.0</td><td>197.0</td><td>174.0</td><td>15.0</td></tr><tr><td>&quot;2025_01_27_B13A7A8P2_T2&quot;</td><td>&quot;../inputs/images//2025_01_27_B…</td><td>&quot;09&quot;</td><td>&quot;GFP&quot;</td><td>&quot;D20&quot;</td><td>156.0</td><td>162.0</td><td>167.0</td><td>170.0</td><td>172.0</td><td>179.0</td><td>184.0</td><td>194.0</td><td>174.0</td><td>15.0</td></tr><tr><td>&quot;2025_01_27_B13A7A8P2_T2&quot;</td><td>&quot;../inputs/images//2025_01_27_B…</td><td>&quot;08&quot;</td><td>&quot;GFP&quot;</td><td>&quot;J24&quot;</td><td>152.0</td><td>157.0</td><td>163.0</td><td>166.0</td><td>169.0</td><td>176.0</td><td>181.0</td><td>193.0</td><td>174.0</td><td>15.0</td></tr><tr><td>&quot;2025_01_27_B13A7A8P2_T2&quot;</td><td>&quot;../inputs/images//2025_01_27_B…</td><td>&quot;04&quot;</td><td>&quot;GFP&quot;</td><td>&quot;F14&quot;</td><td>156.0</td><td>161.0</td><td>167.0</td><td>169.0</td><td>172.0</td><td>179.0</td><td>184.0</td><td>193.0</td><td>174.0</td><td>15.0</td></tr><tr><td>&quot;2025_01_27_B13A7A8P2_T2&quot;</td><td>&quot;../inputs/images//2025_01_27_B…</td><td>&quot;09&quot;</td><td>&quot;GFP&quot;</td><td>&quot;B24&quot;</td><td>153.0</td><td>158.0</td><td>163.0</td><td>166.0</td><td>168.0</td><td>175.0</td><td>180.0</td><td>189.0</td><td>174.0</td><td>15.0</td></tr><tr><td>&hellip;</td><td>&hellip;</td><td>&hellip;</td><td>&hellip;</td><td>&hellip;</td><td>&hellip;</td><td>&hellip;</td><td>&hellip;</td><td>&hellip;</td><td>&hellip;</td><td>&hellip;</td><td>&hellip;</td><td>&hellip;</td><td>&hellip;</td><td>&hellip;</td></tr><tr><td>&quot;2025_01_27_B13A7A8P1_T1&quot;</td><td>&quot;../inputs/images//2025_01_27_B…</td><td>&quot;09&quot;</td><td>&quot;GFP&quot;</td><td>&quot;A23&quot;</td><td>155.0</td><td>159.0</td><td>164.0</td><td>166.0</td><td>169.0</td><td>175.0</td><td>180.0</td><td>189.0</td><td>169.0</td><td>15.0</td></tr><tr><td>&quot;2025_01_27_B13A7A8P2_T2&quot;</td><td>&quot;../inputs/images//2025_01_27_B…</td><td>&quot;06&quot;</td><td>&quot;GFP&quot;</td><td>&quot;B16&quot;</td><td>159.0</td><td>164.0</td><td>169.0</td><td>172.0</td><td>175.0</td><td>182.0</td><td>187.0</td><td>196.0</td><td>174.0</td><td>15.0</td></tr><tr><td>&quot;2025_01_27_B13A7A8P2_T2&quot;</td><td>&quot;../inputs/images//2025_01_27_B…</td><td>&quot;08&quot;</td><td>&quot;GFP&quot;</td><td>&quot;D14&quot;</td><td>160.0</td><td>165.0</td><td>170.0</td><td>173.0</td><td>176.0</td><td>183.0</td><td>188.0</td><td>198.0</td><td>174.0</td><td>15.0</td></tr><tr><td>&quot;2025_01_27_B13A7A8P2_T2&quot;</td><td>&quot;../inputs/images//2025_01_27_B…</td><td>&quot;03&quot;</td><td>&quot;GFP&quot;</td><td>&quot;I03&quot;</td><td>156.0</td><td>162.0</td><td>167.0</td><td>170.0</td><td>173.0</td><td>181.0</td><td>186.0</td><td>196.0</td><td>174.0</td><td>15.0</td></tr><tr><td>&quot;2025_01_27_B13A7A8P1_T4&quot;</td><td>&quot;../inputs/images//2025_01_27_B…</td><td>&quot;08&quot;</td><td>&quot;GFP&quot;</td><td>&quot;J04&quot;</td><td>152.0</td><td>157.0</td><td>163.0</td><td>166.0</td><td>169.0</td><td>177.0</td><td>182.0</td><td>196.0</td><td>168.0</td><td>15.0</td></tr></tbody></table></div>"
      ],
      "text/plain": [
       "shape: (96, 15)\n",
       "┌──────────────┬──────────────┬──────┬─────────┬───┬─────────┬─────────┬─────────────┬─────────────┐\n",
       "│ plate        ┆ img_path     ┆ site ┆ channel ┆ … ┆ perc_95 ┆ perc_99 ┆ plate_chann ┆ plate_chann │\n",
       "│ ---          ┆ ---          ┆ ---  ┆ ---     ┆   ┆ ---     ┆ ---     ┆ el_median   ┆ el_mad      │\n",
       "│ str          ┆ str          ┆ str  ┆ str     ┆   ┆ f64     ┆ f64     ┆ ---         ┆ ---         │\n",
       "│              ┆              ┆      ┆         ┆   ┆         ┆         ┆ f64         ┆ f64         │\n",
       "╞══════════════╪══════════════╪══════╪═════════╪═══╪═════════╪═════════╪═════════════╪═════════════╡\n",
       "│ 2025_01_27_B ┆ ../inputs/im ┆ 02   ┆ GFP     ┆ … ┆ 188.0   ┆ 197.0   ┆ 174.0       ┆ 15.0        │\n",
       "│ 13A7A8P2_T2  ┆ ages//2025_0 ┆      ┆         ┆   ┆         ┆         ┆             ┆             │\n",
       "│              ┆ 1_27_B…      ┆      ┆         ┆   ┆         ┆         ┆             ┆             │\n",
       "│ 2025_01_27_B ┆ ../inputs/im ┆ 09   ┆ GFP     ┆ … ┆ 184.0   ┆ 194.0   ┆ 174.0       ┆ 15.0        │\n",
       "│ 13A7A8P2_T2  ┆ ages//2025_0 ┆      ┆         ┆   ┆         ┆         ┆             ┆             │\n",
       "│              ┆ 1_27_B…      ┆      ┆         ┆   ┆         ┆         ┆             ┆             │\n",
       "│ 2025_01_27_B ┆ ../inputs/im ┆ 08   ┆ GFP     ┆ … ┆ 181.0   ┆ 193.0   ┆ 174.0       ┆ 15.0        │\n",
       "│ 13A7A8P2_T2  ┆ ages//2025_0 ┆      ┆         ┆   ┆         ┆         ┆             ┆             │\n",
       "│              ┆ 1_27_B…      ┆      ┆         ┆   ┆         ┆         ┆             ┆             │\n",
       "│ 2025_01_27_B ┆ ../inputs/im ┆ 04   ┆ GFP     ┆ … ┆ 184.0   ┆ 193.0   ┆ 174.0       ┆ 15.0        │\n",
       "│ 13A7A8P2_T2  ┆ ages//2025_0 ┆      ┆         ┆   ┆         ┆         ┆             ┆             │\n",
       "│              ┆ 1_27_B…      ┆      ┆         ┆   ┆         ┆         ┆             ┆             │\n",
       "│ 2025_01_27_B ┆ ../inputs/im ┆ 09   ┆ GFP     ┆ … ┆ 180.0   ┆ 189.0   ┆ 174.0       ┆ 15.0        │\n",
       "│ 13A7A8P2_T2  ┆ ages//2025_0 ┆      ┆         ┆   ┆         ┆         ┆             ┆             │\n",
       "│              ┆ 1_27_B…      ┆      ┆         ┆   ┆         ┆         ┆             ┆             │\n",
       "│ …            ┆ …            ┆ …    ┆ …       ┆ … ┆ …       ┆ …       ┆ …           ┆ …           │\n",
       "│ 2025_01_27_B ┆ ../inputs/im ┆ 09   ┆ GFP     ┆ … ┆ 180.0   ┆ 189.0   ┆ 169.0       ┆ 15.0        │\n",
       "│ 13A7A8P1_T1  ┆ ages//2025_0 ┆      ┆         ┆   ┆         ┆         ┆             ┆             │\n",
       "│              ┆ 1_27_B…      ┆      ┆         ┆   ┆         ┆         ┆             ┆             │\n",
       "│ 2025_01_27_B ┆ ../inputs/im ┆ 06   ┆ GFP     ┆ … ┆ 187.0   ┆ 196.0   ┆ 174.0       ┆ 15.0        │\n",
       "│ 13A7A8P2_T2  ┆ ages//2025_0 ┆      ┆         ┆   ┆         ┆         ┆             ┆             │\n",
       "│              ┆ 1_27_B…      ┆      ┆         ┆   ┆         ┆         ┆             ┆             │\n",
       "│ 2025_01_27_B ┆ ../inputs/im ┆ 08   ┆ GFP     ┆ … ┆ 188.0   ┆ 198.0   ┆ 174.0       ┆ 15.0        │\n",
       "│ 13A7A8P2_T2  ┆ ages//2025_0 ┆      ┆         ┆   ┆         ┆         ┆             ┆             │\n",
       "│              ┆ 1_27_B…      ┆      ┆         ┆   ┆         ┆         ┆             ┆             │\n",
       "│ 2025_01_27_B ┆ ../inputs/im ┆ 03   ┆ GFP     ┆ … ┆ 186.0   ┆ 196.0   ┆ 174.0       ┆ 15.0        │\n",
       "│ 13A7A8P2_T2  ┆ ages//2025_0 ┆      ┆         ┆   ┆         ┆         ┆             ┆             │\n",
       "│              ┆ 1_27_B…      ┆      ┆         ┆   ┆         ┆         ┆             ┆             │\n",
       "│ 2025_01_27_B ┆ ../inputs/im ┆ 08   ┆ GFP     ┆ … ┆ 182.0   ┆ 196.0   ┆ 168.0       ┆ 15.0        │\n",
       "│ 13A7A8P1_T4  ┆ ages//2025_0 ┆      ┆         ┆   ┆         ┆         ┆             ┆             │\n",
       "│              ┆ 1_27_B…      ┆      ┆         ┆   ┆         ┆         ┆             ┆             │\n",
       "└──────────────┴──────────────┴──────┴─────────┴───┴─────────┴─────────┴─────────────┴─────────────┘"
      ]
     },
     "execution_count": 11,
     "metadata": {},
     "output_type": "execute_result"
    }
   ],
   "source": [
    "plate_bg = pl.read_parquet(\"../outputs/1.plate_bg_summary/2025_01_27_Batch_13/plate_bg.parquet\")\n",
    "plate_bg.join(\n",
    "    plate_bg.group_by(\"plate\",\"channel\").agg(\n",
    "        pl.col(\"perc_50\").median().alias(\"plate_channel_median\")\n",
    "    ).with_columns(\n",
    "        (pl.col(\"plate_channel_median\")-pl.col(\"plate_channel_median\").median())\n",
    "        .abs().median()\n",
    "        .alias(\"plate_channel_mad\")\n",
    "    ),\n",
    "    on=[\"plate\",\"channel\"]\n",
    ").filter((pl.col(\"channel\")==\"GFP\")&(pl.col(\"perc_95\")<(pl.col(\"plate_channel_median\")+pl.col(\"plate_channel_mad\")))).sort(pl.col(\"well\")).unique(subset=\"well\", keep=\"first\")"
   ]
  },
  {
   "cell_type": "code",
   "execution_count": null,
   "id": "a30fbda5",
   "metadata": {},
   "outputs": [
    {
     "name": "stdout",
     "output_type": "stream",
     "text": [
      "(1080, 1080)\n"
     ]
    },
    {
     "data": {
      "text/plain": [
       "{'img_path': '../inputs/images/2025_01_27_Batch_13/images/2025_01_27_B13A7A8P1_T1__2025_01_27T08_46_50_Measurement_1/Images/r01c01f01p01-ch1sk1fk1fl1.tiff',\n",
       " 'plate': '2025_01_27_B13A7A8P1_T1',\n",
       " 'median': 188.0,\n",
       " 'perc_90': 223.0,\n",
       " 'perc_95': 235.0,\n",
       " 'perc_99': 401.0,\n",
       " 'site': '01',\n",
       " 'channel': 'DAPI',\n",
       " 'well': 'A01'}"
      ]
     },
     "execution_count": 3,
     "metadata": {},
     "output_type": "execute_result"
    }
   ],
   "source": [
    "## tiff_image\n",
    "tiff_image_path = \"../inputs/images/2025_01_27_Batch_13/images/2025_01_27_B13A7A8P1_T1__2025_01_27T08_46_50_Measurement_1/Images/r01c01f01p01-ch1sk1fk1fl1.tiff\"\n",
    "def process_tiff_img(tiff_image_path):\n",
    "    img = imread(tiff_image_path)\n",
    "    print(img.shape)\n",
    "    # median = float(np.median(img))\n",
    "    percentiles = np.percentile(img, q=np.array([50,90,95,99]))\n",
    "    tiff_img_name = tiff_image_path.split(\"/\")[-1]\n",
    "    site = re.search(r\"(?<=f)(\\d{2})(?=p)\", tiff_img_name.split('-')[0])[0]\n",
    "    channel = channel_dict_rev[re.search(r\"(?<=ch)(\\d+)(?=sk)\", tiff_img_name.split('-')[1])[0]]\n",
    "    well_letter = letter_dict_rev[re.search(r'(?<=r)(\\d{2})(?=c)', tiff_img_name.split('-')[0])[0]]\n",
    "    well_num = re.search(r'(?<=c)(\\d{2})(?=f)', tiff_img_name.split('-')[0])[0]\n",
    "    well = f\"{well_letter}{well_num}\"\n",
    "\n",
    "    return {\"img_path\": tiff_image_path, \"plate\": tiff_image_path.split('/')[-3].split(\"__\")[0], \n",
    "            \"median\": percentiles[0], \"perc_90\": percentiles[1], \"perc_95\": percentiles[2], \"perc_99\": percentiles[3],\n",
    "            \"site\": site, \"channel\": channel, \"well\": well}\n",
    "\n",
    "process_tiff_img(tiff_image_path)\n",
    "\n",
    "# find all TIFFs\n",
    "# tiff_img_dir = \"../inputs/images/\"\n",
    "# paths = glob.glob(f\"{tiff_img_dir}/*/images/*/Images/*.tiff\", recursive=True)[:100]\n",
    "# records = []\n",
    "# # process in parallel with a progress bar\n",
    "# with ProcessPoolExecutor(max_workers=384) as exe:\n",
    "#     futures = {exe.submit(process_tiff_img, p): p for p in paths}\n",
    "#     for fut in tqdm(as_completed(futures), total=len(futures), desc=\"Processing TIFFs\"):\n",
    "#         rec = fut.result()\n",
    "#         records.append(rec)\n",
    "\n",
    "# # build DataFrame and write Parquet\n",
    "# df = pl.DataFrame(records)"
   ]
  },
  {
   "cell_type": "code",
   "execution_count": null,
   "id": "58d43d99",
   "metadata": {},
   "outputs": [],
   "source": [
    "img = imread(tiff_image_path)\n",
    "arr = img.ravel()\n",
    "# cast to float64 for safe sum\n",
    "s = arr.sum(dtype=np.float64)\n",
    "ss = (arr.astype(np.float64) ** 2).sum()\n",
    "n = arr.size\n",
    "# integer images → bincount histogram\n",
    "# minlength covers full dynamic range e.g. 0–65535 for uint16\n",
    "hist = np.bincount(arr, minlength=65536)"
   ]
  }
 ],
 "metadata": {
  "kernelspec": {
   "display_name": "varchamp",
   "language": "python",
   "name": "python3"
  },
  "language_info": {
   "codemirror_mode": {
    "name": "ipython",
    "version": 3
   },
   "file_extension": ".py",
   "mimetype": "text/x-python",
   "name": "python",
   "nbconvert_exporter": "python",
   "pygments_lexer": "ipython3",
   "version": "3.8.18"
  }
 },
 "nbformat": 4,
 "nbformat_minor": 5
}
