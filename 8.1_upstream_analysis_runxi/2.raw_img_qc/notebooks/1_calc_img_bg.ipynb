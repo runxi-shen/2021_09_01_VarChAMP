{
 "cells": [
  {
   "cell_type": "markdown",
   "id": "132394d5",
   "metadata": {},
   "source": [
    "# Calculate the background per plate"
   ]
  },
  {
   "cell_type": "code",
   "execution_count": 26,
   "id": "b5a7d279",
   "metadata": {},
   "outputs": [],
   "source": [
    "import os\n",
    "import re\n",
    "import sys\n",
    "import glob\n",
    "import numpy as np\n",
    "import polars as pl\n",
    "import matplotlib.pyplot as plt\n",
    "import matplotlib.patches as patches\n",
    "from skimage.io import imread\n",
    "from concurrent.futures import ProcessPoolExecutor, as_completed\n",
    "from tqdm import tqdm\n",
    "\n",
    "sys.path.append(\"../scripts\")\n",
    "from img_utils import letter_dict, channel_dict\n",
    "letter_dict_rev = {v: k for k, v in letter_dict.items()}\n",
    "channel_dict_rev = {v: k for k, v in channel_dict.items()}\n",
    "\n",
    "# letter_dict_rev\n",
    "# channel_dict_rev"
   ]
  },
  {
   "cell_type": "code",
   "execution_count": 27,
   "id": "2d94893f",
   "metadata": {},
   "outputs": [],
   "source": [
    "%%bash\n",
    "\n",
    "# python ../scripts/1_calc_plate_bg.py --batch_list \"2024_01_23_Batch_7,2024_02_06_Batch_8,2025_01_27_Batch_13,2025_01_28_Batch_14,2025_03_17_Batch_15,2025_03_17_Batch_16\""
   ]
  },
  {
   "cell_type": "markdown",
   "id": "1a139d10",
   "metadata": {},
   "source": [
    "## 1. Read in the results"
   ]
  },
  {
   "cell_type": "code",
   "execution_count": 10,
   "id": "c977d5a7",
   "metadata": {},
   "outputs": [],
   "source": [
    "batch = \"2025_03_17_Batch_16\"\n",
    "\n",
    "plate_sum = pl.read_parquet(f\"../outputs/1.plate_bg_summary/{batch}/plate_sum_stats.parquet\")\n",
    "plate_well_sum = pl.read_parquet(f\"../outputs/1.plate_bg_summary/{batch}/plate_well_sum_stats.parquet\")\n",
    "plate_site_sum = pl.read_parquet(f\"../outputs/1.plate_bg_summary/{batch}/plate_site_channel.parquet\")\n",
    "\n",
    "# plate_well_sum.filter(~(pl.col(\"channel\").str.contains(\"Brightfield\"))).sort(by=[\"plate\",\"well\"])\n",
    "plate_well_sum = plate_well_sum.filter(~(pl.col(\"channel\").str.contains(\"Brightfield\"))).sort(by=[\"plate\",\"well\"]).join(plate_sum, on=[\"plate\",\"channel\"], how=\"left\", suffix=\"_plate\")\n",
    "plate_site_sum = plate_site_sum.filter(~(pl.col(\"channel\").str.contains(\"Brightfield\"))).sort(by=[\"plate\",\"well\"]).join(plate_sum, on=[\"plate\",\"channel\"], how=\"left\", suffix=\"_plate\")\n",
    "\n",
    "# plate_bg.join(\n",
    "#     plate_bg.group_by(\"plate\",\"channel\").agg(\n",
    "#         pl.col(\"perc_50\").median().alias(\"plate_channel_median\")\n",
    "#     ).with_columns(\n",
    "#         (pl.col(\"plate_channel_median\")-pl.col(\"plate_channel_median\").median())\n",
    "#         .abs().median()\n",
    "#         .alias(\"plate_channel_mad\")\n",
    "#     ),\n",
    "#     on=[\"plate\",\"channel\"]\n",
    "# ).filter((pl.col(\"channel\")==\"GFP\")&(pl.col(\"perc_95\")<(pl.col(\"plate_channel_median\")+pl.col(\"plate_channel_mad\")))).sort(pl.col(\"well\")).unique(subset=\"well\", keep=\"first\")"
   ]
  },
  {
   "cell_type": "code",
   "execution_count": 11,
   "id": "cfd6eda7",
   "metadata": {},
   "outputs": [
    {
     "data": {
      "text/html": [
       "<div><style>\n",
       ".dataframe > thead > tr,\n",
       ".dataframe > tbody > tr {\n",
       "  text-align: right;\n",
       "  white-space: pre-wrap;\n",
       "}\n",
       "</style>\n",
       "<small>shape: (55_296, 15)</small><table border=\"1\" class=\"dataframe\"><thead><tr><th>plate</th><th>img_path</th><th>site</th><th>channel</th><th>well</th><th>perc_25</th><th>perc_50</th><th>perc_75</th><th>perc_80</th><th>perc_90</th><th>perc_95</th><th>perc_99</th><th>median</th><th>mean</th><th>std</th></tr><tr><td>str</td><td>str</td><td>str</td><td>str</td><td>str</td><td>f64</td><td>f64</td><td>f64</td><td>f64</td><td>f64</td><td>f64</td><td>f64</td><td>i64</td><td>f64</td><td>f64</td></tr></thead><tbody><tr><td>&quot;2025-03-17_B16A1A2_P1T1&quot;</td><td>&quot;../inputs/images//2025_03_17_B…</td><td>&quot;02&quot;</td><td>&quot;GFP&quot;</td><td>&quot;A01&quot;</td><td>162.0</td><td>244.0</td><td>374.0</td><td>419.0</td><td>571.0</td><td>715.0</td><td>1102.0</td><td>156</td><td>469.882565</td><td>2663.648157</td></tr><tr><td>&quot;2025-03-17_B16A1A2_P1T1&quot;</td><td>&quot;../inputs/images//2025_03_17_B…</td><td>&quot;05&quot;</td><td>&quot;DAPI&quot;</td><td>&quot;A01&quot;</td><td>161.0</td><td>182.0</td><td>200.0</td><td>204.0</td><td>221.0</td><td>340.0</td><td>480.0</td><td>182</td><td>193.376867</td><td>83.841649</td></tr><tr><td>&quot;2025-03-17_B16A1A2_P1T1&quot;</td><td>&quot;../inputs/images//2025_03_17_B…</td><td>&quot;07&quot;</td><td>&quot;DAPI&quot;</td><td>&quot;A01&quot;</td><td>163.0</td><td>183.0</td><td>200.0</td><td>204.0</td><td>216.0</td><td>272.0</td><td>449.0</td><td>182</td><td>193.376867</td><td>83.841649</td></tr><tr><td>&quot;2025-03-17_B16A1A2_P1T1&quot;</td><td>&quot;../inputs/images//2025_03_17_B…</td><td>&quot;01&quot;</td><td>&quot;AGP&quot;</td><td>&quot;A01&quot;</td><td>192.0</td><td>1244.0</td><td>1718.0</td><td>1840.0</td><td>2191.0</td><td>2521.0</td><td>3365.0</td><td>179</td><td>518.982116</td><td>613.368581</td></tr><tr><td>&quot;2025-03-17_B16A1A2_P1T1&quot;</td><td>&quot;../inputs/images//2025_03_17_B…</td><td>&quot;08&quot;</td><td>&quot;AGP&quot;</td><td>&quot;A01&quot;</td><td>163.0</td><td>189.0</td><td>1337.0</td><td>1502.0</td><td>1876.0</td><td>2166.0</td><td>2812.0</td><td>179</td><td>518.982116</td><td>613.368581</td></tr><tr><td>&hellip;</td><td>&hellip;</td><td>&hellip;</td><td>&hellip;</td><td>&hellip;</td><td>&hellip;</td><td>&hellip;</td><td>&hellip;</td><td>&hellip;</td><td>&hellip;</td><td>&hellip;</td><td>&hellip;</td><td>&hellip;</td><td>&hellip;</td><td>&hellip;</td></tr><tr><td>&quot;2025-03-18_B16A1A2_P1T4&quot;</td><td>&quot;../inputs/images//2025_03_17_B…</td><td>&quot;09&quot;</td><td>&quot;AGP&quot;</td><td>&quot;P24&quot;</td><td>137.0</td><td>154.0</td><td>167.0</td><td>170.0</td><td>178.0</td><td>183.0</td><td>196.0</td><td>173</td><td>409.051663</td><td>452.185291</td></tr><tr><td>&quot;2025-03-18_B16A1A2_P1T4&quot;</td><td>&quot;../inputs/images//2025_03_17_B…</td><td>&quot;01&quot;</td><td>&quot;GFP&quot;</td><td>&quot;P24&quot;</td><td>128.0</td><td>143.0</td><td>155.0</td><td>158.0</td><td>165.0</td><td>170.0</td><td>179.0</td><td>0</td><td>NaN</td><td>NaN</td></tr><tr><td>&quot;2025-03-18_B16A1A2_P1T4&quot;</td><td>&quot;../inputs/images//2025_03_17_B…</td><td>&quot;05&quot;</td><td>&quot;DAPI&quot;</td><td>&quot;P24&quot;</td><td>155.0</td><td>173.0</td><td>189.0</td><td>192.0</td><td>199.0</td><td>205.0</td><td>214.0</td><td>182</td><td>191.061824</td><td>79.387334</td></tr><tr><td>&quot;2025-03-18_B16A1A2_P1T4&quot;</td><td>&quot;../inputs/images//2025_03_17_B…</td><td>&quot;05&quot;</td><td>&quot;GFP&quot;</td><td>&quot;P24&quot;</td><td>129.0</td><td>143.0</td><td>154.0</td><td>156.0</td><td>162.0</td><td>167.0</td><td>176.0</td><td>0</td><td>NaN</td><td>NaN</td></tr><tr><td>&quot;2025-03-18_B16A1A2_P1T4&quot;</td><td>&quot;../inputs/images//2025_03_17_B…</td><td>&quot;08&quot;</td><td>&quot;Mito&quot;</td><td>&quot;P24&quot;</td><td>400.0</td><td>459.0</td><td>516.0</td><td>526.0</td><td>549.0</td><td>566.0</td><td>661.0</td><td>493</td><td>744.853327</td><td>873.958098</td></tr></tbody></table></div>"
      ],
      "text/plain": [
       "shape: (55_296, 15)\n",
       "┌───────────────┬───────────────┬──────┬─────────┬───┬─────────┬────────┬────────────┬─────────────┐\n",
       "│ plate         ┆ img_path      ┆ site ┆ channel ┆ … ┆ perc_99 ┆ median ┆ mean       ┆ std         │\n",
       "│ ---           ┆ ---           ┆ ---  ┆ ---     ┆   ┆ ---     ┆ ---    ┆ ---        ┆ ---         │\n",
       "│ str           ┆ str           ┆ str  ┆ str     ┆   ┆ f64     ┆ i64    ┆ f64        ┆ f64         │\n",
       "╞═══════════════╪═══════════════╪══════╪═════════╪═══╪═════════╪════════╪════════════╪═════════════╡\n",
       "│ 2025-03-17_B1 ┆ ../inputs/ima ┆ 02   ┆ GFP     ┆ … ┆ 1102.0  ┆ 156    ┆ 469.882565 ┆ 2663.648157 │\n",
       "│ 6A1A2_P1T1    ┆ ges//2025_03_ ┆      ┆         ┆   ┆         ┆        ┆            ┆             │\n",
       "│               ┆ 17_B…         ┆      ┆         ┆   ┆         ┆        ┆            ┆             │\n",
       "│ 2025-03-17_B1 ┆ ../inputs/ima ┆ 05   ┆ DAPI    ┆ … ┆ 480.0   ┆ 182    ┆ 193.376867 ┆ 83.841649   │\n",
       "│ 6A1A2_P1T1    ┆ ges//2025_03_ ┆      ┆         ┆   ┆         ┆        ┆            ┆             │\n",
       "│               ┆ 17_B…         ┆      ┆         ┆   ┆         ┆        ┆            ┆             │\n",
       "│ 2025-03-17_B1 ┆ ../inputs/ima ┆ 07   ┆ DAPI    ┆ … ┆ 449.0   ┆ 182    ┆ 193.376867 ┆ 83.841649   │\n",
       "│ 6A1A2_P1T1    ┆ ges//2025_03_ ┆      ┆         ┆   ┆         ┆        ┆            ┆             │\n",
       "│               ┆ 17_B…         ┆      ┆         ┆   ┆         ┆        ┆            ┆             │\n",
       "│ 2025-03-17_B1 ┆ ../inputs/ima ┆ 01   ┆ AGP     ┆ … ┆ 3365.0  ┆ 179    ┆ 518.982116 ┆ 613.368581  │\n",
       "│ 6A1A2_P1T1    ┆ ges//2025_03_ ┆      ┆         ┆   ┆         ┆        ┆            ┆             │\n",
       "│               ┆ 17_B…         ┆      ┆         ┆   ┆         ┆        ┆            ┆             │\n",
       "│ 2025-03-17_B1 ┆ ../inputs/ima ┆ 08   ┆ AGP     ┆ … ┆ 2812.0  ┆ 179    ┆ 518.982116 ┆ 613.368581  │\n",
       "│ 6A1A2_P1T1    ┆ ges//2025_03_ ┆      ┆         ┆   ┆         ┆        ┆            ┆             │\n",
       "│               ┆ 17_B…         ┆      ┆         ┆   ┆         ┆        ┆            ┆             │\n",
       "│ …             ┆ …             ┆ …    ┆ …       ┆ … ┆ …       ┆ …      ┆ …          ┆ …           │\n",
       "│ 2025-03-18_B1 ┆ ../inputs/ima ┆ 09   ┆ AGP     ┆ … ┆ 196.0   ┆ 173    ┆ 409.051663 ┆ 452.185291  │\n",
       "│ 6A1A2_P1T4    ┆ ges//2025_03_ ┆      ┆         ┆   ┆         ┆        ┆            ┆             │\n",
       "│               ┆ 17_B…         ┆      ┆         ┆   ┆         ┆        ┆            ┆             │\n",
       "│ 2025-03-18_B1 ┆ ../inputs/ima ┆ 01   ┆ GFP     ┆ … ┆ 179.0   ┆ 0      ┆ NaN        ┆ NaN         │\n",
       "│ 6A1A2_P1T4    ┆ ges//2025_03_ ┆      ┆         ┆   ┆         ┆        ┆            ┆             │\n",
       "│               ┆ 17_B…         ┆      ┆         ┆   ┆         ┆        ┆            ┆             │\n",
       "│ 2025-03-18_B1 ┆ ../inputs/ima ┆ 05   ┆ DAPI    ┆ … ┆ 214.0   ┆ 182    ┆ 191.061824 ┆ 79.387334   │\n",
       "│ 6A1A2_P1T4    ┆ ges//2025_03_ ┆      ┆         ┆   ┆         ┆        ┆            ┆             │\n",
       "│               ┆ 17_B…         ┆      ┆         ┆   ┆         ┆        ┆            ┆             │\n",
       "│ 2025-03-18_B1 ┆ ../inputs/ima ┆ 05   ┆ GFP     ┆ … ┆ 176.0   ┆ 0      ┆ NaN        ┆ NaN         │\n",
       "│ 6A1A2_P1T4    ┆ ges//2025_03_ ┆      ┆         ┆   ┆         ┆        ┆            ┆             │\n",
       "│               ┆ 17_B…         ┆      ┆         ┆   ┆         ┆        ┆            ┆             │\n",
       "│ 2025-03-18_B1 ┆ ../inputs/ima ┆ 08   ┆ Mito    ┆ … ┆ 661.0   ┆ 493    ┆ 744.853327 ┆ 873.958098  │\n",
       "│ 6A1A2_P1T4    ┆ ges//2025_03_ ┆      ┆         ┆   ┆         ┆        ┆            ┆             │\n",
       "│               ┆ 17_B…         ┆      ┆         ┆   ┆         ┆        ┆            ┆             │\n",
       "└───────────────┴───────────────┴──────┴─────────┴───┴─────────┴────────┴────────────┴─────────────┘"
      ]
     },
     "execution_count": 11,
     "metadata": {},
     "output_type": "execute_result"
    }
   ],
   "source": [
    "plate_site_sum"
   ]
  },
  {
   "cell_type": "code",
   "execution_count": 13,
   "id": "7af6d415",
   "metadata": {},
   "outputs": [
    {
     "data": {
      "text/html": [
       "<div><style>\n",
       ".dataframe > thead > tr,\n",
       ".dataframe > tbody > tr {\n",
       "  text-align: right;\n",
       "  white-space: pre-wrap;\n",
       "}\n",
       "</style>\n",
       "<small>shape: (3_456, 15)</small><table border=\"1\" class=\"dataframe\"><thead><tr><th>plate</th><th>img_path</th><th>site</th><th>channel</th><th>well</th><th>perc_25</th><th>perc_50</th><th>perc_75</th><th>perc_80</th><th>perc_90</th><th>perc_95</th><th>perc_99</th><th>median</th><th>mean</th><th>std</th></tr><tr><td>str</td><td>str</td><td>str</td><td>str</td><td>str</td><td>f64</td><td>f64</td><td>f64</td><td>f64</td><td>f64</td><td>f64</td><td>f64</td><td>i64</td><td>f64</td><td>f64</td></tr></thead><tbody><tr><td>&quot;2025-03-18_B16A1A2_P1T4&quot;</td><td>&quot;../inputs/images//2025_03_17_B…</td><td>&quot;09&quot;</td><td>&quot;GFP&quot;</td><td>&quot;A01&quot;</td><td>149.0</td><td>179.0</td><td>292.0</td><td>327.0</td><td>438.0</td><td>548.0</td><td>978.0</td><td>0</td><td>NaN</td><td>NaN</td></tr><tr><td>&quot;2025-03-18_B16A1A2_P1T4&quot;</td><td>&quot;../inputs/images//2025_03_17_B…</td><td>&quot;03&quot;</td><td>&quot;GFP&quot;</td><td>&quot;A01&quot;</td><td>174.0</td><td>248.0</td><td>359.0</td><td>396.0</td><td>524.0</td><td>677.0</td><td>3033.01</td><td>0</td><td>NaN</td><td>NaN</td></tr><tr><td>&quot;2025-03-18_B16A1A2_P1T4&quot;</td><td>&quot;../inputs/images//2025_03_17_B…</td><td>&quot;04&quot;</td><td>&quot;GFP&quot;</td><td>&quot;A01&quot;</td><td>183.0</td><td>280.0</td><td>412.0</td><td>461.0</td><td>648.0</td><td>888.0</td><td>1822.0</td><td>0</td><td>NaN</td><td>NaN</td></tr><tr><td>&quot;2025-03-18_B16A1A2_P1T4&quot;</td><td>&quot;../inputs/images//2025_03_17_B…</td><td>&quot;07&quot;</td><td>&quot;GFP&quot;</td><td>&quot;A01&quot;</td><td>137.0</td><td>155.0</td><td>198.0</td><td>248.0</td><td>390.0</td><td>525.0</td><td>823.0</td><td>0</td><td>NaN</td><td>NaN</td></tr><tr><td>&quot;2025-03-18_B16A1A2_P1T4&quot;</td><td>&quot;../inputs/images//2025_03_17_B…</td><td>&quot;01&quot;</td><td>&quot;GFP&quot;</td><td>&quot;A01&quot;</td><td>140.0</td><td>159.0</td><td>250.0</td><td>302.0</td><td>493.0</td><td>714.0</td><td>1246.0</td><td>0</td><td>NaN</td><td>NaN</td></tr><tr><td>&hellip;</td><td>&hellip;</td><td>&hellip;</td><td>&hellip;</td><td>&hellip;</td><td>&hellip;</td><td>&hellip;</td><td>&hellip;</td><td>&hellip;</td><td>&hellip;</td><td>&hellip;</td><td>&hellip;</td><td>&hellip;</td><td>&hellip;</td><td>&hellip;</td></tr><tr><td>&quot;2025-03-18_B16A1A2_P1T4&quot;</td><td>&quot;../inputs/images//2025_03_17_B…</td><td>&quot;09&quot;</td><td>&quot;GFP&quot;</td><td>&quot;P24&quot;</td><td>130.0</td><td>144.0</td><td>156.0</td><td>159.0</td><td>165.0</td><td>170.0</td><td>179.0</td><td>0</td><td>NaN</td><td>NaN</td></tr><tr><td>&quot;2025-03-18_B16A1A2_P1T4&quot;</td><td>&quot;../inputs/images//2025_03_17_B…</td><td>&quot;08&quot;</td><td>&quot;GFP&quot;</td><td>&quot;P24&quot;</td><td>130.0</td><td>144.0</td><td>156.0</td><td>159.0</td><td>165.0</td><td>170.0</td><td>179.0</td><td>0</td><td>NaN</td><td>NaN</td></tr><tr><td>&quot;2025-03-18_B16A1A2_P1T4&quot;</td><td>&quot;../inputs/images//2025_03_17_B…</td><td>&quot;07&quot;</td><td>&quot;GFP&quot;</td><td>&quot;P24&quot;</td><td>130.0</td><td>144.0</td><td>156.0</td><td>159.0</td><td>165.0</td><td>170.0</td><td>180.0</td><td>0</td><td>NaN</td><td>NaN</td></tr><tr><td>&quot;2025-03-18_B16A1A2_P1T4&quot;</td><td>&quot;../inputs/images//2025_03_17_B…</td><td>&quot;01&quot;</td><td>&quot;GFP&quot;</td><td>&quot;P24&quot;</td><td>128.0</td><td>143.0</td><td>155.0</td><td>158.0</td><td>165.0</td><td>170.0</td><td>179.0</td><td>0</td><td>NaN</td><td>NaN</td></tr><tr><td>&quot;2025-03-18_B16A1A2_P1T4&quot;</td><td>&quot;../inputs/images//2025_03_17_B…</td><td>&quot;05&quot;</td><td>&quot;GFP&quot;</td><td>&quot;P24&quot;</td><td>129.0</td><td>143.0</td><td>154.0</td><td>156.0</td><td>162.0</td><td>167.0</td><td>176.0</td><td>0</td><td>NaN</td><td>NaN</td></tr></tbody></table></div>"
      ],
      "text/plain": [
       "shape: (3_456, 15)\n",
       "┌──────────────────────┬──────────────────────┬──────┬─────────┬───┬─────────┬────────┬──────┬─────┐\n",
       "│ plate                ┆ img_path             ┆ site ┆ channel ┆ … ┆ perc_99 ┆ median ┆ mean ┆ std │\n",
       "│ ---                  ┆ ---                  ┆ ---  ┆ ---     ┆   ┆ ---     ┆ ---    ┆ ---  ┆ --- │\n",
       "│ str                  ┆ str                  ┆ str  ┆ str     ┆   ┆ f64     ┆ i64    ┆ f64  ┆ f64 │\n",
       "╞══════════════════════╪══════════════════════╪══════╪═════════╪═══╪═════════╪════════╪══════╪═════╡\n",
       "│ 2025-03-18_B16A1A2_P ┆ ../inputs/images//20 ┆ 09   ┆ GFP     ┆ … ┆ 978.0   ┆ 0      ┆ NaN  ┆ NaN │\n",
       "│ 1T4                  ┆ 25_03_17_B…          ┆      ┆         ┆   ┆         ┆        ┆      ┆     │\n",
       "│ 2025-03-18_B16A1A2_P ┆ ../inputs/images//20 ┆ 03   ┆ GFP     ┆ … ┆ 3033.01 ┆ 0      ┆ NaN  ┆ NaN │\n",
       "│ 1T4                  ┆ 25_03_17_B…          ┆      ┆         ┆   ┆         ┆        ┆      ┆     │\n",
       "│ 2025-03-18_B16A1A2_P ┆ ../inputs/images//20 ┆ 04   ┆ GFP     ┆ … ┆ 1822.0  ┆ 0      ┆ NaN  ┆ NaN │\n",
       "│ 1T4                  ┆ 25_03_17_B…          ┆      ┆         ┆   ┆         ┆        ┆      ┆     │\n",
       "│ 2025-03-18_B16A1A2_P ┆ ../inputs/images//20 ┆ 07   ┆ GFP     ┆ … ┆ 823.0   ┆ 0      ┆ NaN  ┆ NaN │\n",
       "│ 1T4                  ┆ 25_03_17_B…          ┆      ┆         ┆   ┆         ┆        ┆      ┆     │\n",
       "│ 2025-03-18_B16A1A2_P ┆ ../inputs/images//20 ┆ 01   ┆ GFP     ┆ … ┆ 1246.0  ┆ 0      ┆ NaN  ┆ NaN │\n",
       "│ 1T4                  ┆ 25_03_17_B…          ┆      ┆         ┆   ┆         ┆        ┆      ┆     │\n",
       "│ …                    ┆ …                    ┆ …    ┆ …       ┆ … ┆ …       ┆ …      ┆ …    ┆ …   │\n",
       "│ 2025-03-18_B16A1A2_P ┆ ../inputs/images//20 ┆ 09   ┆ GFP     ┆ … ┆ 179.0   ┆ 0      ┆ NaN  ┆ NaN │\n",
       "│ 1T4                  ┆ 25_03_17_B…          ┆      ┆         ┆   ┆         ┆        ┆      ┆     │\n",
       "│ 2025-03-18_B16A1A2_P ┆ ../inputs/images//20 ┆ 08   ┆ GFP     ┆ … ┆ 179.0   ┆ 0      ┆ NaN  ┆ NaN │\n",
       "│ 1T4                  ┆ 25_03_17_B…          ┆      ┆         ┆   ┆         ┆        ┆      ┆     │\n",
       "│ 2025-03-18_B16A1A2_P ┆ ../inputs/images//20 ┆ 07   ┆ GFP     ┆ … ┆ 180.0   ┆ 0      ┆ NaN  ┆ NaN │\n",
       "│ 1T4                  ┆ 25_03_17_B…          ┆      ┆         ┆   ┆         ┆        ┆      ┆     │\n",
       "│ 2025-03-18_B16A1A2_P ┆ ../inputs/images//20 ┆ 01   ┆ GFP     ┆ … ┆ 179.0   ┆ 0      ┆ NaN  ┆ NaN │\n",
       "│ 1T4                  ┆ 25_03_17_B…          ┆      ┆         ┆   ┆         ┆        ┆      ┆     │\n",
       "│ 2025-03-18_B16A1A2_P ┆ ../inputs/images//20 ┆ 05   ┆ GFP     ┆ … ┆ 176.0   ┆ 0      ┆ NaN  ┆ NaN │\n",
       "│ 1T4                  ┆ 25_03_17_B…          ┆      ┆         ┆   ┆         ┆        ┆      ┆     │\n",
       "└──────────────────────┴──────────────────────┴──────┴─────────┴───┴─────────┴────────┴──────┴─────┘"
      ]
     },
     "execution_count": 13,
     "metadata": {},
     "output_type": "execute_result"
    }
   ],
   "source": [
    "plate_site_sum.filter((pl.col(\"plate\")==\"2025-03-18_B16A1A2_P1T4\")&(pl.col(\"channel\")==\"GFP\"))"
   ]
  },
  {
   "cell_type": "code",
   "execution_count": 25,
   "id": "0ca6640f",
   "metadata": {},
   "outputs": [
    {
     "data": {
      "text/plain": [
       "<Figure size 640x480 with 0 Axes>"
      ]
     },
     "metadata": {},
     "output_type": "display_data"
    },
    {
     "data": {
      "image/png": "[encoded data removed]",
      "text/plain": [
       "<Figure size 500x500 with 1 Axes>"
      ]
     },
     "metadata": {},
     "output_type": "display_data"
    }
   ],
   "source": [
    "import seaborn as sns\n",
    "\n",
    "plt.clf()\n",
    "sns.displot(plate_site_sum.filter((pl.col(\"plate\")==\"2025-03-18_B16A1A2_P1T4\")&(pl.col(\"channel\")==\"GFP\"))[\"perc_50\"], log_scale=(True,False))\n",
    "plt.show()"
   ]
  },
  {
   "cell_type": "code",
   "execution_count": null,
   "id": "56f8606f",
   "metadata": {},
   "outputs": [],
   "source": [
    "plate_well_sum"
   ]
  },
  {
   "cell_type": "code",
   "execution_count": 5,
   "id": "8c567e12",
   "metadata": {},
   "outputs": [
    {
     "data": {
      "text/html": [
       "<div><style>\n",
       ".dataframe > thead > tr,\n",
       ".dataframe > tbody > tr {\n",
       "  text-align: right;\n",
       "  white-space: pre-wrap;\n",
       "}\n",
       "</style>\n",
       "<small>shape: (4, 15)</small><table border=\"1\" class=\"dataframe\"><thead><tr><th>plate</th><th>well</th><th>channel</th><th>perc_25</th><th>perc_50</th><th>perc_75</th><th>perc_80</th><th>perc_90</th><th>perc_95</th><th>perc_99</th><th>mean</th><th>std</th><th>median</th><th>mean_plate</th><th>std_plate</th></tr><tr><td>str</td><td>str</td><td>str</td><td>f64</td><td>f64</td><td>f64</td><td>f64</td><td>f64</td><td>f64</td><td>f64</td><td>f64</td><td>f64</td><td>i64</td><td>f64</td><td>f64</td></tr></thead><tbody><tr><td>&quot;2025-03-17_B16A1A2_P1T1&quot;</td><td>&quot;C17&quot;</td><td>&quot;GFP&quot;</td><td>140.0</td><td>158.0</td><td>188.0</td><td>247.0</td><td>589.0</td><td>1201.0</td><td>8253.0</td><td>606.807446</td><td>3634.110916</td><td>156</td><td>469.882565</td><td>2663.648157</td></tr><tr><td>&quot;2025-03-18_B16A1A2_P1T2&quot;</td><td>&quot;C17&quot;</td><td>&quot;GFP&quot;</td><td>144.0</td><td>162.0</td><td>192.0</td><td>258.0</td><td>669.0</td><td>1381.0</td><td>10078.0</td><td>665.546276</td><td>3828.46452</td><td>160</td><td>518.036096</td><td>2846.185983</td></tr><tr><td>&quot;2025-03-18_B16A1A2_P1T3&quot;</td><td>&quot;C17&quot;</td><td>&quot;GFP&quot;</td><td>143.0</td><td>163.0</td><td>219.0</td><td>324.0</td><td>873.0</td><td>1828.0</td><td>15078.0</td><td>833.141122</td><td>4611.384931</td><td>160</td><td>526.793039</td><td>2894.225504</td></tr><tr><td>&quot;2025-03-18_B16A1A2_P1T4&quot;</td><td>&quot;C17&quot;</td><td>&quot;GFP&quot;</td><td>136.0</td><td>153.0</td><td>169.0</td><td>174.0</td><td>272.0</td><td>699.0</td><td>3785.0</td><td>395.946341</td><td>2572.120986</td><td>0</td><td>NaN</td><td>NaN</td></tr></tbody></table></div>"
      ],
      "text/plain": [
       "shape: (4, 15)\n",
       "┌─────────────────┬──────┬─────────┬─────────┬───┬─────────────┬────────┬────────────┬─────────────┐\n",
       "│ plate           ┆ well ┆ channel ┆ perc_25 ┆ … ┆ std         ┆ median ┆ mean_plate ┆ std_plate   │\n",
       "│ ---             ┆ ---  ┆ ---     ┆ ---     ┆   ┆ ---         ┆ ---    ┆ ---        ┆ ---         │\n",
       "│ str             ┆ str  ┆ str     ┆ f64     ┆   ┆ f64         ┆ i64    ┆ f64        ┆ f64         │\n",
       "╞═════════════════╪══════╪═════════╪═════════╪═══╪═════════════╪════════╪════════════╪═════════════╡\n",
       "│ 2025-03-17_B16A ┆ C17  ┆ GFP     ┆ 140.0   ┆ … ┆ 3634.110916 ┆ 156    ┆ 469.882565 ┆ 2663.648157 │\n",
       "│ 1A2_P1T1        ┆      ┆         ┆         ┆   ┆             ┆        ┆            ┆             │\n",
       "│ 2025-03-18_B16A ┆ C17  ┆ GFP     ┆ 144.0   ┆ … ┆ 3828.46452  ┆ 160    ┆ 518.036096 ┆ 2846.185983 │\n",
       "│ 1A2_P1T2        ┆      ┆         ┆         ┆   ┆             ┆        ┆            ┆             │\n",
       "│ 2025-03-18_B16A ┆ C17  ┆ GFP     ┆ 143.0   ┆ … ┆ 4611.384931 ┆ 160    ┆ 526.793039 ┆ 2894.225504 │\n",
       "│ 1A2_P1T3        ┆      ┆         ┆         ┆   ┆             ┆        ┆            ┆             │\n",
       "│ 2025-03-18_B16A ┆ C17  ┆ GFP     ┆ 136.0   ┆ … ┆ 2572.120986 ┆ 0      ┆ NaN        ┆ NaN         │\n",
       "│ 1A2_P1T4        ┆      ┆         ┆         ┆   ┆             ┆        ┆            ┆             │\n",
       "└─────────────────┴──────┴─────────┴─────────┴───┴─────────────┴────────┴────────────┴─────────────┘"
      ]
     },
     "execution_count": 5,
     "metadata": {},
     "output_type": "execute_result"
    }
   ],
   "source": [
    "plate_well_sum.filter((pl.col(\"channel\").str.contains(\"GFP\"))).sort(by=[\"plate\",\"well\"]).join(\n",
    "    plate_sum, on=[\"plate\",\"channel\"], how=\"left\", suffix=\"_plate\"\n",
    ").filter(pl.col(\"well\")==\"C17\") ## pl.col(\"perc_90\")<pl.col(\"median\")"
   ]
  },
  {
   "cell_type": "code",
   "execution_count": null,
   "id": "81745917",
   "metadata": {},
   "outputs": [],
   "source": [
    "def summarize_tiff_img(tiff_image_path):\n",
    "    img = imread(tiff_image_path)\n",
    "    arr = img.ravel()\n",
    "    # cast to float64 for safe sum\n",
    "    s = arr.sum(dtype=np.float64)\n",
    "    ss = (arr.astype(np.float64) ** 2).sum()\n",
    "    n = arr.size\n",
    "    # integer images → bincount histogram\n",
    "    # minlength covers full dynamic range e.g. 0–65535 for uint16\n",
    "    hist = np.bincount(arr, minlength=65536)\n",
    "    return n, s, ss, hist\n",
    "\n",
    "\n",
    "def summarize_img_parallel(tiff_imgs, output_dict, workers=128):\n",
    "    \"\"\"\n",
    "    Summarize a list of TIFF images in parallel, returning list of (n, s, ss, hist) tuples.\n",
    "    \"\"\"\n",
    "    if type(tiff_imgs)==str:\n",
    "        tiff_imgs = glob.glob(tiff_imgs, recursive=True)\n",
    "\n",
    "    if (tiff_imgs):\n",
    "        results = []\n",
    "        ## process in parallel with a progress bar\n",
    "        with ProcessPoolExecutor(max_workers=workers) as exe:\n",
    "            futures = {exe.submit(summarize_tiff_img, path): path for path in tiff_imgs}\n",
    "            for fut in tqdm(as_completed(futures), total=len(futures), desc=\"Summarizing TIFFs\"):\n",
    "                results.append(fut.result())\n",
    "        \n",
    "        # reduce\n",
    "        total_n    = sum(r[0] for r in results)\n",
    "        total_sum  = sum(r[1] for r in results)\n",
    "        total_sumsq= sum(r[2] for r in results)\n",
    "        # element-wise sum of histograms\n",
    "        total_hist = sum(r[3] for r in results)\n",
    "        # mean & std\n",
    "        mean = total_sum / total_n\n",
    "        std  = np.sqrt(total_sumsq/total_n - mean**2)\n",
    "        # median: find intensity bin where cumsum ≥ N/2\n",
    "        cum = np.cumsum(total_hist)\n",
    "        median = np.searchsorted(cum, total_n//2)\n",
    "        output_dict.update({\"median\": median, \"mean\": mean, \"std\": std})\n",
    "        return output_dict\n",
    "    \n",
    "    else:\n",
    "        output_dict.update({\"median\": np.nan, \"mean\": np.nan, \"std\": np.nan})\n",
    "        return output_dict\n",
    "\n",
    "\n",
    "def summarize_img_sequential(tiff_imgs, output_dict):\n",
    "    \"\"\"\n",
    "    Summarize a list of TIFF images in parallel, returning list of (n, s, ss, hist) tuples.\n",
    "    \"\"\"\n",
    "    if type(tiff_imgs)==str:\n",
    "        tiff_imgs = glob.glob(tiff_imgs, recursive=True)\n",
    "\n",
    "    if (tiff_imgs):\n",
    "        results = []\n",
    "        for path in tiff_imgs:\n",
    "            results.append(summarize_tiff_img(path, output_dict))\n",
    "        # reduce\n",
    "        total_n    = sum(r[0] for r in results)\n",
    "        total_sum  = sum(r[1] for r in results)\n",
    "        total_sumsq= sum(r[2] for r in results)\n",
    "        # element-wise sum of histograms\n",
    "        total_hist = sum(r[3] for r in results)\n",
    "        # mean & std\n",
    "        mean = total_sum / total_n\n",
    "        std  = np.sqrt(total_sumsq/total_n - mean**2)\n",
    "        # median: find intensity bin where cumsum ≥ N/2\n",
    "        cum = np.cumsum(total_hist)\n",
    "        median = np.searchsorted(cum, total_n//2)\n",
    "        output_dict.update({\"median\": median, \"mean\": mean, \"std\": std})\n",
    "        return output_dict\n",
    "    else:\n",
    "        output_dict.update({\"median\": np.nan, \"mean\": np.nan, \"std\": np.nan})\n",
    "        return output_dict"
   ]
  },
  {
   "cell_type": "code",
   "execution_count": null,
   "id": "de3b9d73",
   "metadata": {},
   "outputs": [
    {
     "name": "stdout",
     "output_type": "stream",
     "text": [
      "Summarize the per-channel well-level summary statistics:\n",
      "384\n"
     ]
    },
    {
     "name": "stderr",
     "output_type": "stream",
     "text": [
      "100%|██████████| 384/384 [00:00<00:00, 174327.60it/s]\n"
     ]
    },
    {
     "name": "stdout",
     "output_type": "stream",
     "text": [
      "384\n"
     ]
    },
    {
     "name": "stderr",
     "output_type": "stream",
     "text": [
      "100%|██████████| 384/384 [00:00<00:00, 161805.58it/s]\n"
     ]
    },
    {
     "name": "stdout",
     "output_type": "stream",
     "text": [
      "384\n"
     ]
    },
    {
     "name": "stderr",
     "output_type": "stream",
     "text": [
      "100%|██████████| 384/384 [00:00<00:00, 197912.60it/s]\n"
     ]
    },
    {
     "name": "stdout",
     "output_type": "stream",
     "text": [
      "384\n"
     ]
    },
    {
     "name": "stderr",
     "output_type": "stream",
     "text": [
      "100%|██████████| 384/384 [00:00<00:00, 171105.15it/s]\n"
     ]
    },
    {
     "name": "stdout",
     "output_type": "stream",
     "text": [
      "384\n"
     ]
    },
    {
     "name": "stderr",
     "output_type": "stream",
     "text": [
      "100%|██████████| 384/384 [00:00<00:00, 174082.66it/s]\n"
     ]
    },
    {
     "name": "stdout",
     "output_type": "stream",
     "text": [
      "384\n"
     ]
    },
    {
     "name": "stderr",
     "output_type": "stream",
     "text": [
      "100%|██████████| 384/384 [00:00<00:00, 195178.47it/s]\n"
     ]
    },
    {
     "name": "stdout",
     "output_type": "stream",
     "text": [
      "384\n"
     ]
    },
    {
     "name": "stderr",
     "output_type": "stream",
     "text": [
      "100%|██████████| 384/384 [00:00<00:00, 170525.44it/s]\n"
     ]
    },
    {
     "name": "stdout",
     "output_type": "stream",
     "text": [
      "384\n"
     ]
    },
    {
     "name": "stderr",
     "output_type": "stream",
     "text": [
      "100%|██████████| 384/384 [00:00<00:00, 169022.22it/s]\n"
     ]
    }
   ],
   "source": [
    "TIFF_IMG_DIR = \"../inputs/images\"\n",
    "print(\"Summarize the per-channel well-level summary statistics:\")\n",
    "output_dir = \"../outputs/1.plate_bg_summary/\"\n",
    "batches = [\"2025_01_27_Batch_13\", \"2025_01_28_Batch_14\"]\n",
    "\n",
    "for batch in batches:\n",
    "    tiff_img_dict_mapper = []\n",
    "    plates = os.listdir(f\"{TIFF_IMG_DIR}/{batch}/images\")\n",
    "    for plate in plates:\n",
    "        all_tiffs = glob.glob(f\"{TIFF_IMG_DIR}/{batch}/images/{plate}/Images/*.tiff\")\n",
    "        unique_wells = sorted(set([tiff.split('/')[-1][:6] for tiff in all_tiffs]))\n",
    "        print(len(unique_wells)) ## 384\n",
    "        for well in tqdm(unique_wells):\n",
    "            well_letter = letter_dict_rev[re.search(r'(?<=r)(\\d{2})(?=c)', well)[0]]\n",
    "            well_num = re.search(r'(?<=c)(\\d{2})', well)[0]\n",
    "            # print(well, result_dict[\"well\"])\n",
    "            for channel in channel_dict_rev.keys():\n",
    "                result_dict = {\"plate\": plate.split(\"__\")[0], \n",
    "                               \"well\": f\"{well_letter}{well_num}\",\n",
    "                               \"channel\": channel_dict_rev[channel]}\n",
    "                channel_tiffs = f\"{TIFF_IMG_DIR}/{batch}/images/{plate}/Images/{well}*-ch{channel}sk*.tiff\" # glob.glob(f\"{TIFF_IMG_DIR}/{batch}/images/{plate}/Images/{well}*_ch{channel}sk*.tiff\", recursive=True)[:100]\n",
    "                # print(channel_tiffs)\n",
    "                tiff_img_dict_mapper.append((channel_tiffs, result_dict))\n",
    "\n",
    "    results_per_well = []\n",
    "    with ProcessPoolExecutor(max_workers=256) as exe:\n",
    "        ## submit each (tiff_imgs, output_dict) pair as separate job\n",
    "        futures = [\n",
    "            exe.submit(summarize_img_sequential, tiff_imgs, output_dict)\n",
    "            for tiff_imgs, output_dict in tiff_img_dict_mapper\n",
    "        ]\n",
    "        for fut in tqdm(as_completed(futures), total=len(futures), desc=\"Processing tiffs per well\"):\n",
    "            result = fut.result()\n",
    "            results_per_well.append(result)\n",
    "\n",
    "    df = pl.DataFrame(results_per_well)\n",
    "    df.write_parquet(os.path.join(output_dir, batch, \"plate_well_sum_stats.parquet\"))"
   ]
  },
  {
   "cell_type": "code",
   "execution_count": null,
   "id": "e452807c",
   "metadata": {},
   "outputs": [
    {
     "name": "stdout",
     "output_type": "stream",
     "text": [
      "Summarize the per-channel well-level summary statistics:\n",
      "Summarize the per-channel plate-level summary statistics:\n"
     ]
    },
    {
     "name": "stderr",
     "output_type": "stream",
     "text": [
      "100%|██████████| 8/8 [00:00<00:00, 12.63it/s]\n",
      "Summarizing TIFFs: 100%|██████████| 100/100 [07:14<00:00,  4.34s/it]\n",
      "Summarizing TIFFs: 100%|██████████| 100/100 [06:24<00:00,  3.85s/it]\n",
      "Summarizing TIFFs: 100%|██████████| 100/100 [07:07<00:00,  4.27s/it]\n",
      "Summarizing TIFFs: 100%|██████████| 100/100 [06:59<00:00,  4.19s/it]3.38s/it]\n",
      "Summarizing TIFFs: 100%|██████████| 100/100 [06:10<00:00,  3.70s/it]\n",
      "Summarizing TIFFs: 100%|██████████| 100/100 [07:07<00:00,  4.27s/it]\n",
      "Summarizing TIFFs: 100%|██████████| 100/100 [07:00<00:00,  4.20s/it]\n",
      "Summarizing TIFFs: 100%|██████████| 100/100 [07:12<00:00,  4.32s/it]\n",
      "Summarizing TIFFs: 100%|██████████| 100/100 [06:59<00:00,  4.19s/it]\n",
      "Summarizing TIFFs: 100%|██████████| 100/100 [06:28<00:00,  3.89s/it]\n",
      "Summarizing TIFFs: 100%|██████████| 100/100 [06:51<00:00,  4.11s/it]\n",
      "Summarizing TIFFs: 100%|██████████| 100/100 [06:15<00:00,  3.75s/it]\n",
      "Summarizing TIFFs: 100%|██████████| 100/100 [06:39<00:00,  4.00s/it]\n",
      "Summarizing TIFFs: 100%|██████████| 100/100 [07:09<00:00,  4.29s/it]\n",
      "Summarizing TIFFs: 100%|██████████| 100/100 [07:15<00:00,  4.35s/it]\n",
      "Summarizing TIFFs: 100%|██████████| 100/100 [07:10<00:00,  4.31s/it]\n",
      "Summarizing TIFFs: 100%|██████████| 100/100 [07:18<00:00,  4.38s/it]2.72s/it]\n",
      "Summarizing TIFFs: 100%|██████████| 100/100 [06:19<00:00,  3.79s/it]\n",
      "Summarizing TIFFs: 100%|██████████| 100/100 [07:24<00:00,  4.44s/it]2s/it]   \n",
      "Summarizing TIFFs: 100%|██████████| 100/100 [07:16<00:00,  4.37s/it]\n",
      "Summarizing TIFFs: 100%|██████████| 100/100 [06:21<00:00,  3.82s/it]8s/it]\n",
      "Summarizing TIFFs: 100%|██████████| 100/100 [07:03<00:00,  4.23s/it]4s/it]\n",
      "Summarizing TIFFs: 100%|██████████| 100/100 [07:03<00:00,  4.23s/it]2s/it]\n",
      "Summarizing TIFFs: 100%|██████████| 100/100 [07:09<00:00,  4.29s/it]\n",
      "Summarizing TIFFs: 100%|██████████| 100/100 [07:21<00:00,  4.42s/it]\n",
      "Summarizing TIFFs: 100%|██████████| 100/100 [07:27<00:00,  4.47s/it]\n",
      "Summarizing TIFFs: 100%|██████████| 100/100 [07:27<00:00,  4.48s/it]\n",
      "Summarizing TIFFs: 100%|██████████| 100/100 [07:31<00:00,  4.52s/it]\n",
      "Summarizing TIFFs: 100%|██████████| 100/100 [07:17<00:00,  4.37s/it]\n",
      "Summarizing TIFFs: 100%|██████████| 100/100 [06:35<00:00,  3.95s/it]\n",
      "Summarizing TIFFs: 100%|██████████| 100/100 [07:37<00:00,  4.57s/it]96s/it]\n",
      "Summarizing TIFFs: 100%|██████████| 100/100 [07:32<00:00,  4.53s/it]37s/it]\n",
      "Processing tiffs per plate: 100%|██████████| 32/32 [08:06<00:00, 15.21s/it]\n",
      "100%|██████████| 8/8 [00:05<00:00,  1.53it/s]\n",
      "Summarizing TIFFs: 100%|██████████| 100/100 [00:00<00:00, 1296.91it/s]\n",
      "Summarizing TIFFs: 100%|██████████| 100/100 [00:05<00:00, 18.48it/s]\n",
      "Summarizing TIFFs: 100%|██████████| 100/100 [00:06<00:00, 15.57it/s]\n",
      "Summarizing TIFFs: 100%|██████████| 100/100 [00:05<00:00, 19.09it/s]\n",
      "Summarizing TIFFs: 100%|██████████| 100/100 [00:05<00:00, 19.50it/s]\n",
      "Summarizing TIFFs: 100%|██████████| 100/100 [00:05<00:00, 17.93it/s]\n",
      "Summarizing TIFFs: 100%|██████████| 100/100 [00:05<00:00, 17.93it/s]\n",
      "Summarizing TIFFs: 100%|██████████| 100/100 [00:05<00:00, 18.12it/s]\n",
      "Summarizing TIFFs: 100%|██████████| 100/100 [00:05<00:00, 18.20it/s]\n",
      "Summarizing TIFFs: 100%|██████████| 100/100 [00:05<00:00, 17.41it/s]\n",
      "Summarizing TIFFs: 100%|██████████| 100/100 [00:05<00:00, 17.43it/s]\n",
      "Summarizing TIFFs: 100%|██████████| 100/100 [00:06<00:00, 14.76it/s]\n",
      "Summarizing TIFFs: 100%|██████████| 100/100 [00:05<00:00, 17.10it/s]\n",
      "Summarizing TIFFs: 100%|██████████| 100/100 [00:00<00:00, 162.99it/s]\n",
      "Summarizing TIFFs: 100%|██████████| 100/100 [00:06<00:00, 14.61it/s]\n",
      "Summarizing TIFFs: 100%|██████████| 100/100 [00:06<00:00, 14.99it/s]\n",
      "Summarizing TIFFs: 100%|██████████| 100/100 [00:06<00:00, 14.35it/s]\n",
      "\n",
      "Summarizing TIFFs: 100%|██████████| 100/100 [00:07<00:00, 14.05it/s]\n",
      "\n",
      "Summarizing TIFFs: 100%|██████████| 100/100 [00:04<00:00, 22.49it/s]\n",
      "Summarizing TIFFs: 100%|██████████| 100/100 [00:28<00:00,  3.49it/s]\n",
      "Summarizing TIFFs: 100%|██████████| 100/100 [00:29<00:00,  3.42it/s]\n",
      "Summarizing TIFFs: 100%|██████████| 100/100 [00:32<00:00,  3.12it/s]\n",
      "Summarizing TIFFs: 100%|██████████| 100/100 [00:32<00:00,  3.12it/s]\n",
      "Summarizing TIFFs: 100%|██████████| 100/100 [00:00<00:00, 154.80it/s]4it/s]\n",
      "Summarizing TIFFs: 100%|██████████| 100/100 [00:00<00:00, 117.75it/s]2it/s]\n",
      "Summarizing TIFFs: 100%|██████████| 100/100 [00:01<00:00, 63.29it/s]\n",
      "Summarizing TIFFs: 100%|██████████| 100/100 [00:01<00:00, 57.47it/s]\n",
      "Summarizing TIFFs: 100%|██████████| 100/100 [00:02<00:00, 47.04it/s]\n",
      "Summarizing TIFFs: 100%|██████████| 100/100 [00:02<00:00, 47.25it/s]\n",
      "Summarizing TIFFs: 100%|██████████| 100/100 [00:02<00:00, 48.79it/s]\n",
      "Processing tiffs per plate: 100%|██████████| 32/32 [01:04<00:00,  2.02s/it]\n"
     ]
    }
   ],
   "source": [
    "# TIFF_IMG_DIR = \"../inputs/images\"\n",
    "# print(\"Summarize the per-channel well-level summary statistics:\")\n",
    "# output_dir = \"../outputs/1.plate_bg_summary/\"\n",
    "# batches = [\"2025_01_27_Batch_13\", \"2025_01_28_Batch_14\"]\n",
    "\n",
    "# print(\"Summarize the per-channel plate-level summary statistics:\")\n",
    "# for batch in batches:\n",
    "#     tiff_img_dict_mapper = []\n",
    "#     plates = os.listdir(f\"{TIFF_IMG_DIR}/{batch}/images\")\n",
    "#     for plate in tqdm(plates):\n",
    "#         for channel in channel_dict_rev.keys():\n",
    "#             channel_tiffs = glob.glob(f\"{TIFF_IMG_DIR}/{batch}/images/{plate}/Images/*ch{channel}sk*.tiff\", recursive=True)[:100]\n",
    "#             if channel_tiffs:\n",
    "#                 result_dict = {\"plate\": plate.split(\"__\")[0], \n",
    "#                                \"channel\": channel_dict_rev[channel]}\n",
    "#                 result_dict[\"channel\"] = channel_dict_rev[channel]\n",
    "#                 tiff_img_dict_mapper.append((channel_tiffs, result_dict))\n",
    "                \n",
    "#     results_per_plate = []\n",
    "#     with ProcessPoolExecutor(max_workers=384) as exe:\n",
    "#         # submit each (tiff_imgs, output_dict) pair as separate job\n",
    "#         futures = [\n",
    "#             exe.submit(summarize_img_parallel, tiff_imgs, output_dict)\n",
    "#             for tiff_imgs, output_dict in tiff_img_dict_mapper\n",
    "#         ]\n",
    "#         for fut in tqdm(as_completed(futures), total=len(futures), desc=\"Processing tiffs per plate\"):\n",
    "#             result = fut.result()\n",
    "#             results_per_plate.append(result)\n",
    "#     df_plate = pl.DataFrame(results_per_plate)\n",
    "#     df_plate.write_parquet(os.path.join(output_dir, batch, \"plate_sum_stats.parquet\"))"
   ]
  },
  {
   "cell_type": "code",
   "execution_count": null,
   "id": "a30fbda5",
   "metadata": {},
   "outputs": [
    {
     "name": "stdout",
     "output_type": "stream",
     "text": [
      "(1080, 1080)\n"
     ]
    },
    {
     "data": {
      "text/plain": [
       "{'img_path': '../inputs/images/2025_01_27_Batch_13/images/2025_01_27_B13A7A8P1_T1__2025_01_27T08_46_50_Measurement_1/Images/r01c01f01p01-ch1sk1fk1fl1.tiff',\n",
       " 'plate': '2025_01_27_B13A7A8P1_T1',\n",
       " 'median': 188.0,\n",
       " 'perc_90': 223.0,\n",
       " 'perc_95': 235.0,\n",
       " 'perc_99': 401.0,\n",
       " 'site': '01',\n",
       " 'channel': 'DAPI',\n",
       " 'well': 'A01'}"
      ]
     },
     "execution_count": 3,
     "metadata": {},
     "output_type": "execute_result"
    }
   ],
   "source": [
    "## tiff_image\n",
    "tiff_image_path = \"../inputs/images/2025_01_27_Batch_13/images/2025_01_27_B13A7A8P1_T1__2025_01_27T08_46_50_Measurement_1/Images/r01c01f01p01-ch1sk1fk1fl1.tiff\"\n",
    "def process_tiff_img(tiff_image_path):\n",
    "    img = imread(tiff_image_path)\n",
    "    print(img.shape)\n",
    "    # median = float(np.median(img))\n",
    "    percentiles = np.percentile(img, q=np.array([50,90,95,99]))\n",
    "    tiff_img_name = tiff_image_path.split(\"/\")[-1]\n",
    "    site = re.search(r\"(?<=f)(\\d{2})(?=p)\", tiff_img_name.split('-')[0])[0]\n",
    "    channel = channel_dict_rev[re.search(r\"(?<=ch)(\\d+)(?=sk)\", tiff_img_name.split('-')[1])[0]]\n",
    "    well_letter = letter_dict_rev[re.search(r'(?<=r)(\\d{2})(?=c)', tiff_img_name.split('-')[0])[0]]\n",
    "    well_num = re.search(r'(?<=c)(\\d{2})(?=f)', tiff_img_name.split('-')[0])[0]\n",
    "    well = f\"{well_letter}{well_num}\"\n",
    "\n",
    "    return {\"img_path\": tiff_image_path, \"plate\": tiff_image_path.split('/')[-3].split(\"__\")[0], \n",
    "            \"median\": percentiles[0], \"perc_90\": percentiles[1], \"perc_95\": percentiles[2], \"perc_99\": percentiles[3],\n",
    "            \"site\": site, \"channel\": channel, \"well\": well}\n",
    "\n",
    "process_tiff_img(tiff_image_path)\n",
    "\n",
    "# find all TIFFs\n",
    "# tiff_img_dir = \"../inputs/images/\"\n",
    "# paths = glob.glob(f\"{tiff_img_dir}/*/images/*/Images/*.tiff\", recursive=True)[:100]\n",
    "# records = []\n",
    "# # process in parallel with a progress bar\n",
    "# with ProcessPoolExecutor(max_workers=384) as exe:\n",
    "#     futures = {exe.submit(process_tiff_img, p): p for p in paths}\n",
    "#     for fut in tqdm(as_completed(futures), total=len(futures), desc=\"Processing TIFFs\"):\n",
    "#         rec = fut.result()\n",
    "#         records.append(rec)\n",
    "\n",
    "# # build DataFrame and write Parquet\n",
    "# df = pl.DataFrame(records)"
   ]
  },
  {
   "cell_type": "code",
   "execution_count": null,
   "id": "58d43d99",
   "metadata": {},
   "outputs": [],
   "source": [
    "img = imread(tiff_image_path)\n",
    "arr = img.ravel()\n",
    "# cast to float64 for safe sum\n",
    "s = arr.sum(dtype=np.float64)\n",
    "ss = (arr.astype(np.float64) ** 2).sum()\n",
    "n = arr.size\n",
    "# integer images → bincount histogram\n",
    "# minlength covers full dynamic range e.g. 0–65535 for uint16\n",
    "hist = np.bincount(arr, minlength=65536)"
   ]
  }
 ],
 "metadata": {
  "kernelspec": {
   "display_name": "varchamp",
   "language": "python",
   "name": "python3"
  },
  "language_info": {
   "codemirror_mode": {
    "name": "ipython",
    "version": 3
   },
   "file_extension": ".py",
   "mimetype": "text/x-python",
   "name": "python",
   "nbconvert_exporter": "python",
   "pygments_lexer": "ipython3",
   "version": "3.8.18"
  }
 },
 "nbformat": 4,
 "nbformat_minor": 5
}
