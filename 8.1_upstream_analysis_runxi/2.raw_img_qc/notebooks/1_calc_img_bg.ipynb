{
 "cells": [
  {
   "cell_type": "markdown",
   "id": "132394d5",
   "metadata": {},
   "source": [
    "# Calculate the background per plate"
   ]
  },
  {
   "cell_type": "code",
   "execution_count": 2,
   "id": "b5a7d279",
   "metadata": {},
   "outputs": [],
   "source": [
    "import os\n",
    "import re\n",
    "import sys\n",
    "import glob\n",
    "import numpy as np\n",
    "import polars as pl\n",
    "import matplotlib.pyplot as plt\n",
    "import matplotlib.patches as patches\n",
    "from skimage.io import imread\n",
    "from concurrent.futures import ProcessPoolExecutor, as_completed\n",
    "from tqdm import tqdm\n",
    "\n",
    "sys.path.append(\"../scripts\")\n",
    "from img_utils import letter_dict, channel_dict\n",
    "letter_dict_rev = {v: k for k, v in letter_dict.items()}\n",
    "channel_dict_rev = {v: k for k, v in channel_dict.items()}"
   ]
  },
  {
   "cell_type": "code",
   "execution_count": 11,
   "id": "0649796b",
   "metadata": {},
   "outputs": [
    {
     "data": {
      "text/html": [
       "<div><style>\n",
       ".dataframe > thead > tr,\n",
       ".dataframe > tbody > tr {\n",
       "  text-align: right;\n",
       "  white-space: pre-wrap;\n",
       "}\n",
       "</style>\n",
       "<small>shape: (6, 10)</small><table border=\"1\" class=\"dataframe\"><thead><tr><th>img_path</th><th>plate</th><th>median</th><th>perc_90</th><th>perc_95</th><th>perc_99</th><th>site</th><th>channel</th><th>well</th><th>plate_channel_median</th></tr><tr><td>str</td><td>str</td><td>f64</td><td>f64</td><td>f64</td><td>f64</td><td>str</td><td>str</td><td>str</td><td>f64</td></tr></thead><tbody><tr><td>&quot;../inputs/images//2025_01_27_B…</td><td>&quot;2025_01_27_B13A7A8P2_T1&quot;</td><td>152.0</td><td>173.0</td><td>178.0</td><td>187.0</td><td>&quot;03&quot;</td><td>&quot;GFP&quot;</td><td>&quot;F24&quot;</td><td>174.0</td></tr><tr><td>&quot;../inputs/images//2025_01_27_B…</td><td>&quot;2025_01_27_B13A7A8P2_T3&quot;</td><td>153.0</td><td>173.0</td><td>178.0</td><td>186.0</td><td>&quot;03&quot;</td><td>&quot;GFP&quot;</td><td>&quot;H24&quot;</td><td>174.0</td></tr><tr><td>&quot;../inputs/images//2025_01_27_B…</td><td>&quot;2025_01_27_B13A7A8P2_T4&quot;</td><td>149.0</td><td>170.0</td><td>175.0</td><td>183.0</td><td>&quot;02&quot;</td><td>&quot;GFP&quot;</td><td>&quot;H24&quot;</td><td>171.0</td></tr><tr><td>&quot;../inputs/images//2025_01_27_B…</td><td>&quot;2025_01_27_B13A7A8P2_T3&quot;</td><td>148.0</td><td>169.0</td><td>174.0</td><td>183.0</td><td>&quot;06&quot;</td><td>&quot;GFP&quot;</td><td>&quot;I03&quot;</td><td>174.0</td></tr><tr><td>&quot;../inputs/images//2025_01_27_B…</td><td>&quot;2025_01_27_B13A7A8P2_T2&quot;</td><td>147.0</td><td>168.0</td><td>172.0</td><td>181.0</td><td>&quot;05&quot;</td><td>&quot;GFP&quot;</td><td>&quot;N18&quot;</td><td>174.0</td></tr><tr><td>&quot;../inputs/images//2025_01_27_B…</td><td>&quot;2025_01_27_B13A7A8P2_T2&quot;</td><td>152.0</td><td>173.0</td><td>178.0</td><td>187.0</td><td>&quot;07&quot;</td><td>&quot;GFP&quot;</td><td>&quot;N24&quot;</td><td>174.0</td></tr></tbody></table></div>"
      ],
      "text/plain": [
       "shape: (6, 10)\n",
       "┌─────────────────┬────────────────┬────────┬─────────┬───┬──────┬─────────┬──────┬────────────────┐\n",
       "│ img_path        ┆ plate          ┆ median ┆ perc_90 ┆ … ┆ site ┆ channel ┆ well ┆ plate_channel_ │\n",
       "│ ---             ┆ ---            ┆ ---    ┆ ---     ┆   ┆ ---  ┆ ---     ┆ ---  ┆ median         │\n",
       "│ str             ┆ str            ┆ f64    ┆ f64     ┆   ┆ str  ┆ str     ┆ str  ┆ ---            │\n",
       "│                 ┆                ┆        ┆         ┆   ┆      ┆         ┆      ┆ f64            │\n",
       "╞═════════════════╪════════════════╪════════╪═════════╪═══╪══════╪═════════╪══════╪════════════════╡\n",
       "│ ../inputs/image ┆ 2025_01_27_B13 ┆ 152.0  ┆ 173.0   ┆ … ┆ 03   ┆ GFP     ┆ F24  ┆ 174.0          │\n",
       "│ s//2025_01_27_B ┆ A7A8P2_T1      ┆        ┆         ┆   ┆      ┆         ┆      ┆                │\n",
       "│ …               ┆                ┆        ┆         ┆   ┆      ┆         ┆      ┆                │\n",
       "│ ../inputs/image ┆ 2025_01_27_B13 ┆ 153.0  ┆ 173.0   ┆ … ┆ 03   ┆ GFP     ┆ H24  ┆ 174.0          │\n",
       "│ s//2025_01_27_B ┆ A7A8P2_T3      ┆        ┆         ┆   ┆      ┆         ┆      ┆                │\n",
       "│ …               ┆                ┆        ┆         ┆   ┆      ┆         ┆      ┆                │\n",
       "│ ../inputs/image ┆ 2025_01_27_B13 ┆ 149.0  ┆ 170.0   ┆ … ┆ 02   ┆ GFP     ┆ H24  ┆ 171.0          │\n",
       "│ s//2025_01_27_B ┆ A7A8P2_T4      ┆        ┆         ┆   ┆      ┆         ┆      ┆                │\n",
       "│ …               ┆                ┆        ┆         ┆   ┆      ┆         ┆      ┆                │\n",
       "│ ../inputs/image ┆ 2025_01_27_B13 ┆ 148.0  ┆ 169.0   ┆ … ┆ 06   ┆ GFP     ┆ I03  ┆ 174.0          │\n",
       "│ s//2025_01_27_B ┆ A7A8P2_T3      ┆        ┆         ┆   ┆      ┆         ┆      ┆                │\n",
       "│ …               ┆                ┆        ┆         ┆   ┆      ┆         ┆      ┆                │\n",
       "│ ../inputs/image ┆ 2025_01_27_B13 ┆ 147.0  ┆ 168.0   ┆ … ┆ 05   ┆ GFP     ┆ N18  ┆ 174.0          │\n",
       "│ s//2025_01_27_B ┆ A7A8P2_T2      ┆        ┆         ┆   ┆      ┆         ┆      ┆                │\n",
       "│ …               ┆                ┆        ┆         ┆   ┆      ┆         ┆      ┆                │\n",
       "│ ../inputs/image ┆ 2025_01_27_B13 ┆ 152.0  ┆ 173.0   ┆ … ┆ 07   ┆ GFP     ┆ N24  ┆ 174.0          │\n",
       "│ s//2025_01_27_B ┆ A7A8P2_T2      ┆        ┆         ┆   ┆      ┆         ┆      ┆                │\n",
       "│ …               ┆                ┆        ┆         ┆   ┆      ┆         ┆      ┆                │\n",
       "└─────────────────┴────────────────┴────────┴─────────┴───┴──────┴─────────┴──────┴────────────────┘"
      ]
     },
     "execution_count": 11,
     "metadata": {},
     "output_type": "execute_result"
    }
   ],
   "source": [
    "plate_bg = pl.read_parquet(\"../outputs/1.plate_bg_summary/2025_01_27_Batch_13/plate_bg.parquet\")\n",
    "plate_bg.join(\n",
    "    plate_bg.group_by(\"plate\",\"channel\").agg(pl.col(\"median\").median().alias(\"plate_channel_median\")), \n",
    "    on=[\"plate\",\"channel\"]\n",
    ").filter((pl.col(\"channel\")==\"GFP\")&(pl.col(\"perc_90\")<pl.col(\"plate_channel_median\"))).sort(pl.col(\"well\"))"
   ]
  },
  {
   "cell_type": "code",
   "execution_count": 8,
   "id": "b492cdbe",
   "metadata": {},
   "outputs": [
    {
     "data": {
      "text/html": [
       "<div><style>\n",
       ".dataframe > thead > tr,\n",
       ".dataframe > tbody > tr {\n",
       "  text-align: right;\n",
       "  white-space: pre-wrap;\n",
       "}\n",
       "</style>\n",
       "<small>shape: (32, 3)</small><table border=\"1\" class=\"dataframe\"><thead><tr><th>plate</th><th>channel</th><th>plate_channel_median</th></tr><tr><td>str</td><td>str</td><td>f64</td></tr></thead><tbody><tr><td>&quot;2025_01_27_B13A7A8P2_T4&quot;</td><td>&quot;DAPI&quot;</td><td>190.0</td></tr><tr><td>&quot;2025_01_27_B13A7A8P2_T1&quot;</td><td>&quot;DAPI&quot;</td><td>192.0</td></tr><tr><td>&quot;2025_01_27_B13A7A8P1_T1&quot;</td><td>&quot;AGP&quot;</td><td>197.0</td></tr><tr><td>&quot;2025_01_27_B13A7A8P2_T1&quot;</td><td>&quot;GFP&quot;</td><td>174.0</td></tr><tr><td>&quot;2025_01_27_B13A7A8P1_T2&quot;</td><td>&quot;Mito&quot;</td><td>556.0</td></tr><tr><td>&hellip;</td><td>&hellip;</td><td>&hellip;</td></tr><tr><td>&quot;2025_01_27_B13A7A8P2_T2&quot;</td><td>&quot;AGP&quot;</td><td>192.0</td></tr><tr><td>&quot;2025_01_27_B13A7A8P2_T3&quot;</td><td>&quot;AGP&quot;</td><td>189.0</td></tr><tr><td>&quot;2025_01_27_B13A7A8P1_T3&quot;</td><td>&quot;DAPI&quot;</td><td>187.0</td></tr><tr><td>&quot;2025_01_27_B13A7A8P2_T4&quot;</td><td>&quot;GFP&quot;</td><td>171.0</td></tr><tr><td>&quot;2025_01_27_B13A7A8P1_T1&quot;</td><td>&quot;DAPI&quot;</td><td>189.0</td></tr></tbody></table></div>"
      ],
      "text/plain": [
       "shape: (32, 3)\n",
       "┌─────────────────────────┬─────────┬──────────────────────┐\n",
       "│ plate                   ┆ channel ┆ plate_channel_median │\n",
       "│ ---                     ┆ ---     ┆ ---                  │\n",
       "│ str                     ┆ str     ┆ f64                  │\n",
       "╞═════════════════════════╪═════════╪══════════════════════╡\n",
       "│ 2025_01_27_B13A7A8P2_T4 ┆ DAPI    ┆ 190.0                │\n",
       "│ 2025_01_27_B13A7A8P2_T1 ┆ DAPI    ┆ 192.0                │\n",
       "│ 2025_01_27_B13A7A8P1_T1 ┆ AGP     ┆ 197.0                │\n",
       "│ 2025_01_27_B13A7A8P2_T1 ┆ GFP     ┆ 174.0                │\n",
       "│ 2025_01_27_B13A7A8P1_T2 ┆ Mito    ┆ 556.0                │\n",
       "│ …                       ┆ …       ┆ …                    │\n",
       "│ 2025_01_27_B13A7A8P2_T2 ┆ AGP     ┆ 192.0                │\n",
       "│ 2025_01_27_B13A7A8P2_T3 ┆ AGP     ┆ 189.0                │\n",
       "│ 2025_01_27_B13A7A8P1_T3 ┆ DAPI    ┆ 187.0                │\n",
       "│ 2025_01_27_B13A7A8P2_T4 ┆ GFP     ┆ 171.0                │\n",
       "│ 2025_01_27_B13A7A8P1_T1 ┆ DAPI    ┆ 189.0                │\n",
       "└─────────────────────────┴─────────┴──────────────────────┘"
      ]
     },
     "execution_count": 8,
     "metadata": {},
     "output_type": "execute_result"
    }
   ],
   "source": [
    "plate_bg.group_by(\"plate\",\"channel\").agg(pl.col(\"median\").median().alias(\"plate_channel_median\"))"
   ]
  },
  {
   "cell_type": "code",
   "execution_count": null,
   "id": "a30fbda5",
   "metadata": {},
   "outputs": [
    {
     "data": {
      "text/plain": [
       "{'img_path': '../inputs/images/2025_01_27_Batch_13/images/2025_01_27_B13A7A8P1_T1__2025_01_27T08_46_50_Measurement_1/Images/r01c01f01p01-ch1sk1fk1fl1.tiff',\n",
       " 'plate': '2025_01_27_B13A7A8P1_T1',\n",
       " 'median': 188.0,\n",
       " 'perc_90': 223.0,\n",
       " 'perc_95': 235.0,\n",
       " 'perc_99': 401.0,\n",
       " 'site': '01',\n",
       " 'channel': 'DAPI',\n",
       " 'well': 'A01'}"
      ]
     },
     "execution_count": 58,
     "metadata": {},
     "output_type": "execute_result"
    }
   ],
   "source": [
    "## tiff_image\n",
    "tiff_image_path = \"../inputs/images/2025_01_27_Batch_13/images/2025_01_27_B13A7A8P1_T1__2025_01_27T08_46_50_Measurement_1/Images/r01c01f01p01-ch1sk1fk1fl1.tiff\"\n",
    "def process_tiff_img(tiff_image_path):\n",
    "    img = imread(tiff_image_path)\n",
    "    # median = float(np.median(img))\n",
    "    percentiles = np.percentile(img, q=np.array([50,90,95,99]))\n",
    "    tiff_img_name = tiff_image_path.split(\"/\")[-1]\n",
    "    site = re.search(r\"(?<=f)(\\d{2})(?=p)\", tiff_img_name.split('-')[0])[0]\n",
    "    channel = channel_dict_rev[re.search(r\"(?<=ch)(\\d+)(?=sk)\", tiff_img_name.split('-')[1])[0]]\n",
    "    well_letter = letter_dict_rev[re.search(r'(?<=r)(\\d{2})(?=c)', tiff_img_name.split('-')[0])[0]]\n",
    "    well_num = re.search(r'(?<=c)(\\d{2})(?=f)', tiff_img_name.split('-')[0])[0]\n",
    "    well = f\"{well_letter}{well_num}\"\n",
    "\n",
    "    return {\"img_path\": tiff_image_path, \"plate\": tiff_image_path.split('/')[-3].split(\"__\")[0], \n",
    "            \"median\": percentiles[0], \"perc_90\": percentiles[1], \"perc_95\": percentiles[2], \"perc_99\": percentiles[3],\n",
    "            \"site\": site, \"channel\": channel, \"well\": well}\n",
    "\n",
    "# process_tiff_img(tiff_image_path)\n",
    "# find all TIFFs\n",
    "tiff_img_dir = \"../inputs/images/\"\n",
    "paths = glob.glob(f\"{tiff_img_dir}/*/images/*/Images/*.tiff\", recursive=True)[:100]\n",
    "records = []\n",
    "# process in parallel with a progress bar\n",
    "with ProcessPoolExecutor(max_workers=384) as exe:\n",
    "    futures = {exe.submit(process_tiff_img, p): p for p in paths}\n",
    "    for fut in tqdm(as_completed(futures), total=len(futures), desc=\"Processing TIFFs\"):\n",
    "        rec = fut.result()\n",
    "        records.append(rec)\n",
    "\n",
    "# # build DataFrame and write Parquet\n",
    "# df = pl.DataFrame(records)"
   ]
  }
 ],
 "metadata": {
  "kernelspec": {
   "display_name": "varchamp",
   "language": "python",
   "name": "python3"
  },
  "language_info": {
   "codemirror_mode": {
    "name": "ipython",
    "version": 3
   },
   "file_extension": ".py",
   "mimetype": "text/x-python",
   "name": "python",
   "nbconvert_exporter": "python",
   "pygments_lexer": "ipython3",
   "version": "3.8.18"
  }
 },
 "nbformat": 4,
 "nbformat_minor": 5
}
