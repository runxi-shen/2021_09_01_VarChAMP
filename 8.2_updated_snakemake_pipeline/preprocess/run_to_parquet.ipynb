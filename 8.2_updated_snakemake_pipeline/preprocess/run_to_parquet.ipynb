{
 "cells": [
  {
   "cell_type": "code",
   "execution_count": 1,
   "id": "4fbbd0ef-2212-4e80-8baa-165539ca2204",
   "metadata": {},
   "outputs": [],
   "source": [
    "'''Download and prepare data.'''\n",
    "from cytotable import convert\n",
    "from parsl.config import Config\n",
    "from parsl.executors import ThreadPoolExecutor\n",
    "import random\n",
    "\n",
    "COLUMNS = (\n",
    "    \"TableNumber\",\n",
    "    \"ImageNumber\",\n",
    "    \"ObjectNumber\",\n",
    "    \"Metadata_Well\",\n",
    "    \"Metadata_Plate\",\n",
    "    \"Parent_Cells\",\n",
    "    \"Parent_Nuclei\",\n",
    "    \"Cytoplasm_Parent_Cells\",\n",
    "    \"Cytoplasm_Parent_Nuclei\",\n",
    ")\n",
    "\n",
    "COMMANDS =  \"\"\"\n",
    "            WITH Image_Filtered AS (\n",
    "                SELECT\n",
    "                    Metadata_TableNumber,\n",
    "                    Metadata_ImageNumber,\n",
    "                    Metadata_Well,\n",
    "                    Metadata_Plate\n",
    "                FROM\n",
    "                    read_parquet('image.parquet')\n",
    "                )\n",
    "            SELECT\n",
    "                *\n",
    "            FROM\n",
    "                Image_Filtered AS image\n",
    "            JOIN read_parquet('cytoplasm.parquet') AS cytoplasm ON\n",
    "                cytoplasm.Metadata_TableNumber = image.Metadata_TableNumber\n",
    "                AND cytoplasm.Metadata_ImageNumber = image.Metadata_ImageNumber\n",
    "            JOIN read_parquet('cells.parquet') AS cells ON\n",
    "                cells.Metadata_TableNumber = cytoplasm.Metadata_TableNumber\n",
    "                AND cells.Metadata_ImageNumber = cytoplasm.Metadata_ImageNumber\n",
    "                AND cells.Metadata_ObjectNumber = cytoplasm.Metadata_Cytoplasm_Parent_Cells\n",
    "            JOIN read_parquet('nuclei.parquet') AS nuclei ON\n",
    "                nuclei.Metadata_TableNumber = cytoplasm.Metadata_TableNumber\n",
    "                AND nuclei.Metadata_ImageNumber = cytoplasm.Metadata_ImageNumber\n",
    "                AND nuclei.Metadata_ObjectNumber = cytoplasm.Metadata_Cytoplasm_Parent_Nuclei\n",
    "            \"\"\"\n",
    "\n",
    "\n",
    "\n",
    "def convert_parquet(\n",
    "    input_file,\n",
    "    output_file,\n",
    "    cols=COLUMNS,\n",
    "    chunk_size=150000,\n",
    "    joins=COMMANDS,\n",
    "    thread=2,\n",
    "):\n",
    "    \"\"\"Convert sqlite profiles to parquet\"\"\"\n",
    "\n",
    "    hash_str = str(random.getrandbits(128))\n",
    "    parsl_config = Config(\n",
    "                        executors=[\n",
    "                            ThreadPoolExecutor(\n",
    "                                max_threads=thread\n",
    "                            )\n",
    "                        ],\n",
    "                        run_dir=f'./runinfo/{hash_str}'\n",
    "                    )\n",
    "   \n",
    "    convert(\n",
    "        source_path=input_file,\n",
    "        dest_path=output_file,\n",
    "        identifying_columns=cols,\n",
    "        dest_datatype='parquet',\n",
    "        chunk_size=chunk_size,\n",
    "        preset=\"cell-health-cellprofiler-to-cytominer-database\",\n",
    "        joins=joins,\n",
    "        reload_parsl_config=True,\n",
    "        parsl_config=parsl_config\n",
    "    )"
   ]
  },
  {
   "cell_type": "code",
   "execution_count": 2,
   "id": "00b6a209-47e6-43e4-bdc2-c4deaa334743",
   "metadata": {},
   "outputs": [],
   "source": [
    "import os\n",
    "batch = '2024_02_06_Batch_8'\n",
    "plates = os.listdir(f\"../inputs/single_cell_profiles/{batch}/\")"
   ]
  },
  {
   "cell_type": "code",
   "execution_count": 3,
   "id": "521eff24-ea27-4c65-b29c-5014bc18428e",
   "metadata": {},
   "outputs": [
    {
     "name": "stdout",
     "output_type": "stream",
     "text": [
      "../inputs/single_cell_profiles/2024_02_06_Batch_8/2024_02_05_B8A1R2_P4T3/2024_02_05_B8A1R2_P4T3.sqlite\n",
      "../inputs/single_cell_profiles/2024_02_06_Batch_8/2024_02_02_B8A1R2_P3T2/2024_02_02_B8A1R2_P3T2.sqlite\n",
      "../inputs/single_cell_profiles/2024_02_06_Batch_8/2024_02_01_B8A1R2_P2T4/2024_02_01_B8A1R2_P2T4.sqlite\n",
      "../inputs/single_cell_profiles/2024_02_06_Batch_8/2024_02_01_B8A1R2_P2T3/2024_02_01_B8A1R2_P2T3.sqlite\n",
      "../inputs/single_cell_profiles/2024_02_06_Batch_8/2024_01_31_B8A1R2_P1T2/2024_01_31_B8A1R2_P1T2.sqlite\n",
      "../inputs/single_cell_profiles/2024_02_06_Batch_8/2024_02_02_B8A1R2_P3T4/2024_02_02_B8A1R2_P3T4.sqlite\n",
      "../inputs/single_cell_profiles/2024_02_06_Batch_8/2024_01_31_B8A1R2_P1T4/2024_01_31_B8A1R2_P1T4.sqlite\n",
      "../inputs/single_cell_profiles/2024_02_06_Batch_8/2024_02_02_B8A1R2_P3T1/2024_02_02_B8A1R2_P3T1.sqlite\n",
      "../inputs/single_cell_profiles/2024_02_06_Batch_8/2024_02_05_B8A1R2_P4T2/2024_02_05_B8A1R2_P4T2.sqlite\n",
      "../inputs/single_cell_profiles/2024_02_06_Batch_8/2024_02_05_B8A1R2_P4T4/2024_02_05_B8A1R2_P4T4.sqlite\n",
      "../inputs/single_cell_profiles/2024_02_06_Batch_8/2024_02_02_B8A1R2_P4T1/2024_02_02_B8A1R2_P4T1.sqlite\n",
      "../inputs/single_cell_profiles/2024_02_06_Batch_8/2024_01_31_B8A1R2_P2T1/2024_01_31_B8A1R2_P2T1.sqlite\n",
      "../inputs/single_cell_profiles/2024_02_06_Batch_8/2024_01_31_B8A1R2_P1T3/2024_01_31_B8A1R2_P1T3.sqlite\n",
      "../inputs/single_cell_profiles/2024_02_06_Batch_8/2024_01_31_B8A1R2_P1T1/2024_01_31_B8A1R2_P1T1.sqlite\n",
      "../inputs/single_cell_profiles/2024_02_06_Batch_8/2024_02_02_B8A1R2_P3T3/2024_02_02_B8A1R2_P3T3.sqlite\n",
      "../inputs/single_cell_profiles/2024_02_06_Batch_8/2024_02_01_B8A1R2_P2T2/2024_02_01_B8A1R2_P2T2.sqlite\n"
     ]
    }
   ],
   "source": [
    "for plate in plates:\n",
    "    input_path = f\"../inputs/single_cell_profiles/{batch}/{plate}/{plate}.sqlite\"\n",
    "    output_path = f\"../outputs/single_cell_profiles/{batch}/{plate}_raw_.parquet\"\n",
    "    print(input_path)\n",
    "    if input_path != \"../inputs/single_cell_profiles/2024_02_06_Batch_8/2024_02_02_B8A1R2_P3T2/2024_02_02_B8A1R2_P3T2.sqlite\":\n",
    "        continue\n",
    "    if not os.path.isfile(output_path):\n",
    "        threads = 64\n",
    "        convert_parquet(input_path, output_path, thread=threads)"
   ]
  },
  {
   "cell_type": "code",
   "execution_count": null,
   "id": "a7a66ffb",
   "metadata": {},
   "outputs": [],
   "source": [
    "# aws s3 cp s3://cellpainting-gallery/cpg0020-varchamp/broad/workspace/backend/2024_02_06_Batch_8/2024_02_02_B8A1R2_P3T2/2024_02_02_B8A1R2_P3T2.sqlite /home/shenrunx/igvf/varchamp/2021_09_01_VarChAMP/8.2_updated_snakemake_pipeline/inputs/single_cell_profiles/2024_02_06_Batch_8/2024_02_02_B8A1R2_P3T2/2024_02_02_B8A1R2_P3T2.sqlite"
   ]
  }
 ],
 "metadata": {
  "kernelspec": {
   "display_name": "varchamp",
   "language": "python",
   "name": "python3"
  },
  "language_info": {
   "codemirror_mode": {
    "name": "ipython",
    "version": 3
   },
   "file_extension": ".py",
   "mimetype": "text/x-python",
   "name": "python",
   "nbconvert_exporter": "python",
   "pygments_lexer": "ipython3",
   "version": "3.8.18"
  }
 },
 "nbformat": 4,
 "nbformat_minor": 5
}
