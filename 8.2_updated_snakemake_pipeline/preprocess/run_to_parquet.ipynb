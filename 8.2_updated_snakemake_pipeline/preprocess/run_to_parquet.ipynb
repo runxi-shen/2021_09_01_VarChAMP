{
 "cells": [
  {
   "cell_type": "code",
   "execution_count": 1,
   "id": "d7c9de34-2330-4371-aeba-f342cb6c1f9e",
   "metadata": {},
   "outputs": [],
   "source": [
    "'''Download and prepare data.'''\n",
    "from cytotable import convert\n",
    "from parsl.config import Config\n",
    "from parsl.executors import ThreadPoolExecutor\n",
    "import random\n",
    "import os"
   ]
  },
  {
   "cell_type": "code",
   "execution_count": 25,
   "id": "4fbbd0ef-2212-4e80-8baa-165539ca2204",
   "metadata": {},
   "outputs": [],
   "source": [
    "COLUMNS = (\n",
    "    \"TableNumber\",\n",
    "    \"ImageNumber\",\n",
    "    \"ObjectNumber\",\n",
    "    \"Metadata_Well\",\n",
    "    \"Metadata_Plate\",\n",
    "    \"Parent_Cells\",\n",
    "    \"Parent_Nuclei\",\n",
    "    \"Cytoplasm_Parent_Cells\",\n",
    "    \"Cytoplasm_Parent_Nuclei\",\n",
    ")\n",
    "\n",
    "COMMANDS = \"\"\"\n",
    "            WITH Image_Filtered AS (\n",
    "                SELECT\n",
    "                    Metadata_TableNumber,\n",
    "                    Metadata_ImageNumber,\n",
    "                    Metadata_Well,\n",
    "                    Metadata_Plate\n",
    "                FROM\n",
    "                    read_parquet('image.parquet')\n",
    "                )\n",
    "            SELECT\n",
    "                *\n",
    "            FROM\n",
    "                Image_Filtered AS image\n",
    "            LEFT JOIN read_parquet('cytoplasm.parquet') AS cytoplasm ON\n",
    "                cytoplasm.Metadata_TableNumber = image.Metadata_TableNumber\n",
    "                AND cytoplasm.Metadata_ImageNumber = image.Metadata_ImageNumber\n",
    "            LEFT JOIN read_parquet('cells.parquet') AS cells ON\n",
    "                cells.Metadata_TableNumber = cytoplasm.Metadata_TableNumber\n",
    "                AND cells.Metadata_ImageNumber = cytoplasm.Metadata_ImageNumber\n",
    "                AND cells.Metadata_ObjectNumber = cytoplasm.Metadata_Cytoplasm_Parent_Cells\n",
    "            LEFT JOIN read_parquet('nuclei.parquet') AS nuclei ON\n",
    "                nuclei.Metadata_TableNumber = cytoplasm.Metadata_TableNumber\n",
    "                AND nuclei.Metadata_ImageNumber = cytoplasm.Metadata_ImageNumber\n",
    "                AND nuclei.Metadata_ObjectNumber = cytoplasm.Metadata_Cytoplasm_Parent_Nuclei\n",
    "                \"\"\"\n",
    "\n",
    "\n",
    "\n",
    "def convert_parquet(\n",
    "    input_file,\n",
    "    output_file,\n",
    "    cols=COLUMNS,\n",
    "    chunk_size=150000,\n",
    "    joins=COMMANDS,\n",
    "    thread=2,\n",
    "):\n",
    "    \"\"\"Convert sqlite profiles to parquet\"\"\"\n",
    "\n",
    "    hash_str = str(random.getrandbits(128))\n",
    "    parsl_config = Config(\n",
    "                        executors=[\n",
    "                            ThreadPoolExecutor(\n",
    "                                max_threads=thread\n",
    "                            )\n",
    "                        ],\n",
    "                        run_dir=f'./runinfo/{hash_str}'\n",
    "                    )\n",
    "   \n",
    "    convert(\n",
    "        source_path=input_file,\n",
    "        dest_path=output_file,\n",
    "        identifying_columns=cols,\n",
    "        dest_datatype='parquet',\n",
    "        chunk_size=chunk_size,\n",
    "        preset=\"cell-health-cellprofiler-to-cytominer-database\",\n",
    "        joins=joins,\n",
    "        reload_parsl_config=False,\n",
    "        parsl_config=parsl_config\n",
    "    )\n"
   ]
  },
  {
   "cell_type": "code",
   "execution_count": 26,
   "id": "00b6a209-47e6-43e4-bdc2-c4deaa334743",
   "metadata": {},
   "outputs": [],
   "source": [
    "batch = '2024_01_23_Batch_7'\n",
    "plates = os.listdir(f\"../inputs/single_cell_profiles/{batch}/\")"
   ]
  },
  {
   "cell_type": "code",
   "execution_count": null,
   "id": "521eff24-ea27-4c65-b29c-5014bc18428e",
   "metadata": {},
   "outputs": [
    {
     "name": "stderr",
     "output_type": "stream",
     "text": [
      "Reusing previously loaded Parsl configuration.\n",
      "Reusing previously loaded Parsl configuration.\n",
      "Reusing previously loaded Parsl configuration.\n",
      "Reusing previously loaded Parsl configuration.\n",
      "Reusing previously loaded Parsl configuration.\n",
      "Reusing previously loaded Parsl configuration.\n",
      "Reusing previously loaded Parsl configuration.\n",
      "Reusing previously loaded Parsl configuration.\n",
      "Reusing previously loaded Parsl configuration.\n",
      "Reusing previously loaded Parsl configuration.\n",
      "Reusing previously loaded Parsl configuration.\n"
     ]
    }
   ],
   "source": [
    "for plate in plates:\n",
    "    input_path = f\"../inputs/single_cell_profiles/{batch}/{plate}/{plate}.sqlite\"\n",
    "    output_path = f\"../outputs/single_cell_profiles/{batch}/{plate}_raw.parquet\"\n",
    "    if not os.path.isfile(output_path):\n",
    "        threads = 40\n",
    "        convert_parquet(input_path, output_path, thread=threads)"
   ]
  }
 ],
 "metadata": {
  "kernelspec": {
   "display_name": "Python 3 (ipykernel)",
   "language": "python",
   "name": "python3"
  },
  "language_info": {
   "codemirror_mode": {
    "name": "ipython",
    "version": 3
   },
   "file_extension": ".py",
   "mimetype": "text/x-python",
   "name": "python",
   "nbconvert_exporter": "python",
   "pygments_lexer": "ipython3",
   "version": "3.11.5"
  }
 },
 "nbformat": 4,
 "nbformat_minor": 5
}
