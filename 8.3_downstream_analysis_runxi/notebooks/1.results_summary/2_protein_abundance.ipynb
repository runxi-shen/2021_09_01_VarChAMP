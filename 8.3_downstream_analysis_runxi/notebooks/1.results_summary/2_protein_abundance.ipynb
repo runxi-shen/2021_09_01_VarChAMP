{
 "cells": [
  {
   "cell_type": "markdown",
   "metadata": {},
   "source": [
    "# Protein abundance change\n",
    "\n",
    "This notebook runs the analyses on protein abundance changes between variant and reference alleles using Cell Painting assays"
   ]
  },
  {
   "cell_type": "code",
   "execution_count": 11,
   "metadata": {},
   "outputs": [],
   "source": [
    "### imports\n",
    "import os\n",
    "import polars as pl\n",
    "import numpy as np\n",
    "from tqdm import tqdm\n",
    "from pathlib import Path\n",
    "import matplotlib.pyplot as plt\n",
    "import seaborn as sns\n",
    "%matplotlib inline\n",
    "\n",
    "PLATEMAP_DIR = \"../../../8.2_updated_snakemake_pipeline/inputs/metadata/platemaps/{batch_id}/platemap\"\n",
    "PROF_DIR = \"../../../8.2_updated_snakemake_pipeline/outputs/batch_profiles\"\n",
    "CLASS_DIR = \"../../../8.2_updated_snakemake_pipeline/outputs/classification_analyses\"\n",
    "\n",
    "TRN_IMBAL_THRES = 3\n",
    "MIN_CLASS_NUM = 2\n",
    "\n",
    "## Disable truncation globally\n",
    "# pl.Config.set_tbl_rows(20)  # Show all rows\n",
    "# pl.Config.set_tbl_cols(40)  # Show all columns"
   ]
  },
  {
   "cell_type": "code",
   "execution_count": 10,
   "metadata": {},
   "outputs": [],
   "source": [
    "# BIO_REP_BATCHES = [\"2024_01_23_Batch_7\", \"2024_02_06_Batch_8\"]\n",
    "# COMBINED_BIO_REP_DIR = \"2024_02_Batch_7-8\"\n",
    "\n",
    "# BIO_REP_BATCHES = [\"2024_12_09_Batch_11\", \"2024_12_09_Batch_12\"]\n",
    "# COMBINED_BIO_REP_DIR = \"2024_12_Batch_11-12\"\n",
    "\n",
    "# BIO_REP_BATCHES = [\"2024_12_09_Batch_11_widefield\", \"2024_12_09_Batch_12_widefield\"]\n",
    "# COMBINED_BIO_REP_DIR = \"2024_12_Batch_11-12_widefield\"\n",
    "\n",
    "# BIO_REP_BATCHES = [\"2025_01_27_Batch_13\", \"2025_01_28_Batch_14\"]\n",
    "# COMBINED_BIO_REP_DIR = \"2025_01_Batch_13-14\"\n",
    "\n",
    "BIO_REP_BATCHES = [\"2025_03_17_Batch_15\", \"2025_03_17_Batch_16\"]\n",
    "COMBINED_BIO_REP_DIR = \"2025_03_Batch_15-16\"\n",
    "\n",
    "OUTPUT_DIR = f\"../../outputs/{COMBINED_BIO_REP_DIR}\"\n",
    "if not os.path.exists(OUTPUT_DIR):\n",
    "    os.makedirs(OUTPUT_DIR)"
   ]
  },
  {
   "cell_type": "markdown",
   "metadata": {},
   "source": [
    "## 1. Get the comparable REF-VAR pairs\n",
    "\n",
    "The cell counts between Ref. and Var. alleles should be comparable (using a TRN_IMBAL_THRES = 3)."
   ]
  },
  {
   "cell_type": "code",
   "execution_count": 12,
   "metadata": {},
   "outputs": [
    {
     "data": {
      "text/plain": [
       "249"
      ]
     },
     "execution_count": 12,
     "metadata": {},
     "output_type": "execute_result"
    }
   ],
   "source": [
    "# Paths\n",
    "metrics_dir = \"{}/{}/profiles_tcdropped_filtered_var_mad_outlier_featselect_filtcells\"\n",
    "\n",
    "metrics_df, metrics_wtvar = pl.DataFrame(), pl.DataFrame()\n",
    "for batch in BIO_REP_BATCHES:\n",
    "    met_dir = metrics_dir.format(CLASS_DIR, batch)\n",
    "    metrics_df_batch = pl.read_csv(f\"{met_dir}/metrics.csv\")\n",
    "    metrics_df = pl.concat([metrics_df, metrics_df_batch])\n",
    "    # metrics_wtvar_batch = pl.read_csv(f\"{met_dir}/metrics_summary.csv\")\n",
    "    # metrics_wtvar = pl.concat([metrics_wtvar, metrics_wtvar_batch])\n",
    "\n",
    "## get individual classifiers pass the training imbalance threshold\n",
    "balanced_classifiers = metrics_df.filter(\n",
    "    (~pl.col(\"Metadata_Control\"))\n",
    "    & (pl.col(\"Training_imbalance\") < TRN_IMBAL_THRES)\n",
    "    & (\n",
    "        (pl.col(\"Full_Classifier_ID\").str.contains(\"true\")) ## protein_localization detection\n",
    "    )\n",
    ")\n",
    "\n",
    "balanced_class_alleles = balanced_classifiers.select(pl.col(\"allele_0\",\"allele_1\")).unique().to_numpy()\n",
    "balanced_class_alleles = np.unique(balanced_class_alleles.flatten())\n",
    "len(balanced_class_alleles)"
   ]
  },
  {
   "cell_type": "markdown",
   "metadata": {},
   "source": [
    "## 2. CellProfiler Features"
   ]
  },
  {
   "cell_type": "markdown",
   "metadata": {},
   "source": [
    "### Get the CP features for cells that passed the QC"
   ]
  },
  {
   "cell_type": "code",
   "execution_count": 13,
   "metadata": {},
   "outputs": [],
   "source": [
    "pass_qc_prof_dir = \"{}/{}/profiles_tcdropped_filtered_var_mad_outlier_featselect_filtcells.parquet\"\n",
    "cell_alleles = pl.DataFrame()\n",
    "\n",
    "for batch_id in BIO_REP_BATCHES:\n",
    "    # Get meta features\n",
    "    batch_alleles = (\n",
    "        pl.scan_parquet(\n",
    "            pass_qc_prof_dir.format(PROF_DIR, batch_id)\n",
    "        )\n",
    "        # .filter(pl.col(\"Metadata_gene_allele\").is_in(all_alleles))\n",
    "        .with_columns(\n",
    "            pl.concat_str(\n",
    "                [\n",
    "                    \"Metadata_Plate\",\n",
    "                    \"Metadata_Well\",\n",
    "                    \"Metadata_ImageNumber\",\n",
    "                    \"Metadata_ObjectNumber\",\n",
    "                ],\n",
    "                separator=\"_\",\n",
    "            ).alias(\"Metadata_CellID\")\n",
    "        )\n",
    "        .select([\n",
    "            \"Metadata_CellID\",\n",
    "            \"Metadata_gene_allele\",\n",
    "            \"Metadata_Well\",\n",
    "            \"Metadata_Plate\",\n",
    "        ])\n",
    "    )\n",
    "    cell_alleles = pl.concat([cell_alleles, batch_alleles.collect()])"
   ]
  },
  {
   "cell_type": "markdown",
   "metadata": {},
   "source": [
    "### Get the Cells_Intensity CP features per all cells\n",
    "\n",
    "Merge the Cells_Intensity features to the pass-QC cells"
   ]
  },
  {
   "cell_type": "code",
   "execution_count": 14,
   "metadata": {},
   "outputs": [],
   "source": [
    "combined_gfp_profiles = pl.DataFrame()\n",
    "for batch_id in BIO_REP_BATCHES:\n",
    "    # Get meta features\n",
    "    batch_gfp_prof = (\n",
    "        pl.scan_parquet(\n",
    "            f\"{PROF_DIR}/{batch_id}/profiles.parquet\"\n",
    "        ).with_columns(\n",
    "            pl.concat_str(\n",
    "                [\n",
    "                    \"Metadata_Plate\",\n",
    "                    \"Metadata_Well\",\n",
    "                    \"Metadata_ImageNumber\",\n",
    "                    \"Metadata_ObjectNumber\",\n",
    "                ],\n",
    "                separator=\"_\",\n",
    "            ).alias(\"Metadata_CellID\")\n",
    "        )\n",
    "    )\n",
    "    gfp_int = [i for i in batch_gfp_prof.collect_schema().names() if \"Cells_Intensity\" in i]\n",
    "    gfp_int = [\"Metadata_CellID\"] + [i for i in gfp_int if \"GFP\" in i]\n",
    "\n",
    "    combined_gfp_profiles = pl.concat([\n",
    "        combined_gfp_profiles, \n",
    "        batch_gfp_prof.select(gfp_int).collect()\n",
    "    ])\n",
    "\n",
    "profiles = cell_alleles.join(combined_gfp_profiles, on=\"Metadata_CellID\", how=\"left\")"
   ]
  },
  {
   "cell_type": "markdown",
   "metadata": {},
   "source": [
    "### Aggregate the cells to well profiles"
   ]
  },
  {
   "cell_type": "code",
   "execution_count": 15,
   "metadata": {},
   "outputs": [
    {
     "data": {
      "text/html": [
       "<div><style>\n",
       ".dataframe > thead > tr,\n",
       ".dataframe > tbody > tr {\n",
       "  text-align: right;\n",
       "  white-space: pre-wrap;\n",
       "}\n",
       "</style>\n",
       "<small>shape: (2_051, 18)</small><table border=\"1\" class=\"dataframe\"><thead><tr><th>Metadata_Plate</th><th>Metadata_Well</th><th>Metadata_gene_allele</th><th>Cells_Intensity_IntegratedIntensityEdge_GFP</th><th>Cells_Intensity_IntegratedIntensity_GFP</th><th>Cells_Intensity_LowerQuartileIntensity_GFP</th><th>Cells_Intensity_MADIntensity_GFP</th><th>Cells_Intensity_MassDisplacement_GFP</th><th>Cells_Intensity_MaxIntensityEdge_GFP</th><th>Cells_Intensity_MaxIntensity_GFP</th><th>Cells_Intensity_MeanIntensityEdge_GFP</th><th>Cells_Intensity_MeanIntensity_GFP</th><th>Cells_Intensity_MedianIntensity_GFP</th><th>Cells_Intensity_MinIntensityEdge_GFP</th><th>Cells_Intensity_MinIntensity_GFP</th><th>Cells_Intensity_StdIntensityEdge_GFP</th><th>Cells_Intensity_StdIntensity_GFP</th><th>Cells_Intensity_UpperQuartileIntensity_GFP</th></tr><tr><td>str</td><td>str</td><td>str</td><td>f64</td><td>f64</td><td>f64</td><td>f64</td><td>f64</td><td>f64</td><td>f64</td><td>f64</td><td>f64</td><td>f64</td><td>f64</td><td>f64</td><td>f64</td><td>f64</td><td>f64</td></tr></thead><tbody><tr><td>&quot;2025-03-18_B16A1A2_P1T2&quot;</td><td>&quot;E01&quot;</td><td>&quot;AP2S1_Arg15His&quot;</td><td>1.367171</td><td>45.21366</td><td>0.004318</td><td>0.001854</td><td>3.816762</td><td>0.011809</td><td>0.01801</td><td>0.004415</td><td>0.006971</td><td>0.006317</td><td>0.001611</td><td>0.001569</td><td>0.002316</td><td>0.003074</td><td>0.009053</td></tr><tr><td>&quot;2025-03-18_B16A1A2_P1T4&quot;</td><td>&quot;M03&quot;</td><td>&quot;BAG3&quot;</td><td>2.436565</td><td>100.613016</td><td>0.009334</td><td>0.004939</td><td>3.798662</td><td>0.032706</td><td>0.052522</td><td>0.007749</td><td>0.016667</td><td>0.014781</td><td>0.001707</td><td>0.001694</td><td>0.007502</td><td>0.008472</td><td>0.021114</td></tr><tr><td>&quot;2025-03-18_B16A1A2_P1T2&quot;</td><td>&quot;M20&quot;</td><td>&quot;LITAF_Asn30Tyr&quot;</td><td>0.778432</td><td>18.928242</td><td>0.002317</td><td>0.000438</td><td>2.722121</td><td>0.008269</td><td>0.025717</td><td>0.002539</td><td>0.003354</td><td>0.002728</td><td>0.001501</td><td>0.001449</td><td>0.000875</td><td>0.002012</td><td>0.00338</td></tr><tr><td>&quot;2025-03-18_B16A1A2_P1T2&quot;</td><td>&quot;D03&quot;</td><td>&quot;NR0B1_Trp105Cys&quot;</td><td>0.718962</td><td>25.092147</td><td>0.002195</td><td>0.000848</td><td>3.872764</td><td>0.006823</td><td>0.03076</td><td>0.002182</td><td>0.004361</td><td>0.002912</td><td>0.001344</td><td>0.001323</td><td>0.000872</td><td>0.003267</td><td>0.004772</td></tr><tr><td>&quot;2025-03-17_B15A1A2_P1T4&quot;</td><td>&quot;B21&quot;</td><td>&quot;SMAD3_Thr261Ile&quot;</td><td>1.128176</td><td>46.336665</td><td>0.004196</td><td>0.001858</td><td>4.057645</td><td>0.010045</td><td>0.025851</td><td>0.003603</td><td>0.007982</td><td>0.006201</td><td>0.001452</td><td>0.001432</td><td>0.001907</td><td>0.005432</td><td>0.00872</td></tr><tr><td>&hellip;</td><td>&hellip;</td><td>&hellip;</td><td>&hellip;</td><td>&hellip;</td><td>&hellip;</td><td>&hellip;</td><td>&hellip;</td><td>&hellip;</td><td>&hellip;</td><td>&hellip;</td><td>&hellip;</td><td>&hellip;</td><td>&hellip;</td><td>&hellip;</td><td>&hellip;</td><td>&hellip;</td><td>&hellip;</td></tr><tr><td>&quot;2025-03-18_B16A1A2_P1T4&quot;</td><td>&quot;G20&quot;</td><td>&quot;LITAF_Pro34Thr&quot;</td><td>0.866436</td><td>23.449473</td><td>0.002433</td><td>0.000495</td><td>3.2405</td><td>0.009297</td><td>0.033252</td><td>0.002695</td><td>0.003753</td><td>0.002893</td><td>0.00146</td><td>0.001424</td><td>0.001188</td><td>0.002577</td><td>0.003686</td></tr><tr><td>&quot;2025-03-17_B15A1A2_P1T1&quot;</td><td>&quot;G04&quot;</td><td>&quot;IMPDH1_Val317Ile&quot;</td><td>0.473601</td><td>10.301702</td><td>0.001583</td><td>0.000093</td><td>0.382814</td><td>0.002042</td><td>0.002656</td><td>0.001601</td><td>0.001693</td><td>0.001658</td><td>0.001313</td><td>0.001229</td><td>0.000109</td><td>0.000157</td><td>0.001791</td></tr><tr><td>&quot;2025-03-17_B15A1A2_P1T4&quot;</td><td>&quot;F01&quot;</td><td>&quot;NR0B1&quot;</td><td>0.631039</td><td>23.516238</td><td>0.001944</td><td>0.000632</td><td>3.720977</td><td>0.004491</td><td>0.021722</td><td>0.001796</td><td>0.003396</td><td>0.002536</td><td>0.001264</td><td>0.001238</td><td>0.00051</td><td>0.002094</td><td>0.00367</td></tr><tr><td>&quot;2025-03-18_B16A1A2_P1T3&quot;</td><td>&quot;P03&quot;</td><td>&quot;NT5C3A_Gly275Arg&quot;</td><td>0.824281</td><td>29.767313</td><td>0.002158</td><td>0.000901</td><td>5.239653</td><td>0.009805</td><td>0.031194</td><td>0.002387</td><td>0.00477</td><td>0.002912</td><td>0.001374</td><td>0.001342</td><td>0.001281</td><td>0.004375</td><td>0.005007</td></tr><tr><td>&quot;2025-03-17_B16A1A2_P1T1&quot;</td><td>&quot;B21&quot;</td><td>&quot;SMAD3_Thr261Ile&quot;</td><td>1.439743</td><td>66.853621</td><td>0.005323</td><td>0.002584</td><td>5.411012</td><td>0.012896</td><td>0.043116</td><td>0.004358</td><td>0.011296</td><td>0.007843</td><td>0.001539</td><td>0.001526</td><td>0.002533</td><td>0.00937</td><td>0.011565</td></tr></tbody></table></div>"
      ],
      "text/plain": [
       "shape: (2_051, 18)\n",
       "┌───────────┬───────────┬───────────┬───────────┬───┬───────────┬───────────┬───────────┬──────────┐\n",
       "│ Metadata_ ┆ Metadata_ ┆ Metadata_ ┆ Cells_Int ┆ … ┆ Cells_Int ┆ Cells_Int ┆ Cells_Int ┆ Cells_In │\n",
       "│ Plate     ┆ Well      ┆ gene_alle ┆ ensity_In ┆   ┆ ensity_Mi ┆ ensity_St ┆ ensity_St ┆ tensity_ │\n",
       "│ ---       ┆ ---       ┆ le        ┆ tegratedI ┆   ┆ nIntensit ┆ dIntensit ┆ dIntensit ┆ UpperQua │\n",
       "│ str       ┆ str       ┆ ---       ┆ nte…      ┆   ┆ y_G…      ┆ yEd…      ┆ y_G…      ┆ rtileI…  │\n",
       "│           ┆           ┆ str       ┆ ---       ┆   ┆ ---       ┆ ---       ┆ ---       ┆ ---      │\n",
       "│           ┆           ┆           ┆ f64       ┆   ┆ f64       ┆ f64       ┆ f64       ┆ f64      │\n",
       "╞═══════════╪═══════════╪═══════════╪═══════════╪═══╪═══════════╪═══════════╪═══════════╪══════════╡\n",
       "│ 2025-03-1 ┆ E01       ┆ AP2S1_Arg ┆ 1.367171  ┆ … ┆ 0.001569  ┆ 0.002316  ┆ 0.003074  ┆ 0.009053 │\n",
       "│ 8_B16A1A2 ┆           ┆ 15His     ┆           ┆   ┆           ┆           ┆           ┆          │\n",
       "│ _P1T2     ┆           ┆           ┆           ┆   ┆           ┆           ┆           ┆          │\n",
       "│ 2025-03-1 ┆ M03       ┆ BAG3      ┆ 2.436565  ┆ … ┆ 0.001694  ┆ 0.007502  ┆ 0.008472  ┆ 0.021114 │\n",
       "│ 8_B16A1A2 ┆           ┆           ┆           ┆   ┆           ┆           ┆           ┆          │\n",
       "│ _P1T4     ┆           ┆           ┆           ┆   ┆           ┆           ┆           ┆          │\n",
       "│ 2025-03-1 ┆ M20       ┆ LITAF_Asn ┆ 0.778432  ┆ … ┆ 0.001449  ┆ 0.000875  ┆ 0.002012  ┆ 0.00338  │\n",
       "│ 8_B16A1A2 ┆           ┆ 30Tyr     ┆           ┆   ┆           ┆           ┆           ┆          │\n",
       "│ _P1T2     ┆           ┆           ┆           ┆   ┆           ┆           ┆           ┆          │\n",
       "│ 2025-03-1 ┆ D03       ┆ NR0B1_Trp ┆ 0.718962  ┆ … ┆ 0.001323  ┆ 0.000872  ┆ 0.003267  ┆ 0.004772 │\n",
       "│ 8_B16A1A2 ┆           ┆ 105Cys    ┆           ┆   ┆           ┆           ┆           ┆          │\n",
       "│ _P1T2     ┆           ┆           ┆           ┆   ┆           ┆           ┆           ┆          │\n",
       "│ 2025-03-1 ┆ B21       ┆ SMAD3_Thr ┆ 1.128176  ┆ … ┆ 0.001432  ┆ 0.001907  ┆ 0.005432  ┆ 0.00872  │\n",
       "│ 7_B15A1A2 ┆           ┆ 261Ile    ┆           ┆   ┆           ┆           ┆           ┆          │\n",
       "│ _P1T4     ┆           ┆           ┆           ┆   ┆           ┆           ┆           ┆          │\n",
       "│ …         ┆ …         ┆ …         ┆ …         ┆ … ┆ …         ┆ …         ┆ …         ┆ …        │\n",
       "│ 2025-03-1 ┆ G20       ┆ LITAF_Pro ┆ 0.866436  ┆ … ┆ 0.001424  ┆ 0.001188  ┆ 0.002577  ┆ 0.003686 │\n",
       "│ 8_B16A1A2 ┆           ┆ 34Thr     ┆           ┆   ┆           ┆           ┆           ┆          │\n",
       "│ _P1T4     ┆           ┆           ┆           ┆   ┆           ┆           ┆           ┆          │\n",
       "│ 2025-03-1 ┆ G04       ┆ IMPDH1_Va ┆ 0.473601  ┆ … ┆ 0.001229  ┆ 0.000109  ┆ 0.000157  ┆ 0.001791 │\n",
       "│ 7_B15A1A2 ┆           ┆ l317Ile   ┆           ┆   ┆           ┆           ┆           ┆          │\n",
       "│ _P1T1     ┆           ┆           ┆           ┆   ┆           ┆           ┆           ┆          │\n",
       "│ 2025-03-1 ┆ F01       ┆ NR0B1     ┆ 0.631039  ┆ … ┆ 0.001238  ┆ 0.00051   ┆ 0.002094  ┆ 0.00367  │\n",
       "│ 7_B15A1A2 ┆           ┆           ┆           ┆   ┆           ┆           ┆           ┆          │\n",
       "│ _P1T4     ┆           ┆           ┆           ┆   ┆           ┆           ┆           ┆          │\n",
       "│ 2025-03-1 ┆ P03       ┆ NT5C3A_Gl ┆ 0.824281  ┆ … ┆ 0.001342  ┆ 0.001281  ┆ 0.004375  ┆ 0.005007 │\n",
       "│ 8_B16A1A2 ┆           ┆ y275Arg   ┆           ┆   ┆           ┆           ┆           ┆          │\n",
       "│ _P1T3     ┆           ┆           ┆           ┆   ┆           ┆           ┆           ┆          │\n",
       "│ 2025-03-1 ┆ B21       ┆ SMAD3_Thr ┆ 1.439743  ┆ … ┆ 0.001526  ┆ 0.002533  ┆ 0.00937   ┆ 0.011565 │\n",
       "│ 7_B16A1A2 ┆           ┆ 261Ile    ┆           ┆   ┆           ┆           ┆           ┆          │\n",
       "│ _P1T1     ┆           ┆           ┆           ┆   ┆           ┆           ┆           ┆          │\n",
       "└───────────┴───────────┴───────────┴───────────┴───┴───────────┴───────────┴───────────┴──────────┘"
      ]
     },
     "execution_count": 15,
     "metadata": {},
     "output_type": "execute_result"
    }
   ],
   "source": [
    "well_profiles = (\n",
    "    profiles.group_by([\"Metadata_Plate\", \"Metadata_Well\", \"Metadata_gene_allele\"])\n",
    "    .agg(\n",
    "        pl.col(col).median().alias(col)\n",
    "        for col in profiles.columns\n",
    "        if not col.startswith(\"Metadata_\")\n",
    "    )\n",
    "    .filter(pl.col(\"Metadata_gene_allele\").is_in(balanced_class_alleles))\n",
    "    .unique()\n",
    ")\n",
    "\n",
    "well_profiles"
   ]
  },
  {
   "cell_type": "markdown",
   "metadata": {},
   "source": [
    "## 3. Calculate abundance hits\n",
    "\n",
    "Use paired t-test to call abundance hits"
   ]
  },
  {
   "cell_type": "code",
   "execution_count": 16,
   "metadata": {},
   "outputs": [],
   "source": [
    "from scipy.stats import shapiro\n",
    "import re\n",
    "from scipy.stats import wilcoxon\n",
    "from scipy.stats import ttest_rel\n",
    "import pandas as pd\n",
    "\n",
    "\n",
    "# Convert letter rows to numbers\n",
    "def well_to_coordinates(well):\n",
    "    row_letter, col_number = re.match(r\"([A-P])(\\d{2})\", well).groups()\n",
    "    row_index = ord(row_letter) - ord('A') + 1  # Convert 'A'->1, 'B'->2, ..., 'P'->16\n",
    "    col_index = int(col_number)  # Convert string column to integer\n",
    "    return well, row_index, col_index\n",
    "\n",
    "\n",
    "# Compute distances from edges and find the most centered well\n",
    "def compute_distance(row, col):\n",
    "    return min(row - 1, 16 - row, col - 1, 24 - col)  # Distance from nearest edge\n",
    "\n",
    "\n",
    "## Abundance recalculation test: by Cell MeanIntensity\n",
    "def paired_ttest(dat, reference: str, var: str, intensity_type: str=\"Cells_Intensity_IntegratedIntensity_GFP\"):\n",
    "    # pivot to wide: one row per plate\n",
    "    wide_gfp = dat.pivot(index=\"Metadata_Plate\",\n",
    "                        columns=\"Metadata_gene_allele\",\n",
    "                        values=intensity_type)\n",
    "    # drop any plate that doesn’t have both measurements\n",
    "    wide_gfp = wide_gfp.dropna(subset=[reference, var])\n",
    "    if wide_gfp.shape[0] >= 3:\n",
    "        # now run paired t-test\n",
    "        t_stat, p_val = ttest_rel(wide_gfp[reference], wide_gfp[var])\n",
    "    else:\n",
    "        t_stat, p_val = None, None\n",
    "\n",
    "    # ## perform stat test\n",
    "    # dat = dat.dropna().sort_values([\"Metadata_Plate\",\"Metadata_gene_allele\"])\n",
    "    # # Assuming well_abun_stats is a DataFrame with columns 'reference_abundance' and 'variant_abundance'\n",
    "    # reference_abundance = dat[dat[\"Metadata_gene_allele\"]==reference][intensity_type].values\n",
    "    # variant_abundance = dat[dat[\"Metadata_gene_allele\"]==var][intensity_type].values\n",
    "    # t_stat, p_val = ttest_rel(variant_abundance, reference_abundance)\n",
    "    \n",
    "    # Calculate Cohen's d\n",
    "    mean_diff = np.mean(wide_gfp[var]) - np.mean(wide_gfp[reference])\n",
    "    pooled_std = np.sqrt((np.std(wide_gfp[var], ddof=1) ** 2 + np.std(wide_gfp[reference], ddof=1) ** 2) / 2)\n",
    "    cohen_d = mean_diff / pooled_std\n",
    "\n",
    "    summary_df = pl.DataFrame(\n",
    "        {\n",
    "            \"t_stat\": t_stat,\n",
    "            \"p_val\": p_val,\n",
    "            \"cohen_d\": cohen_d\n",
    "        }\n",
    "    )\n",
    "    summary_df = summary_df.with_columns(\n",
    "        pl.lit(reference).alias(\"Gene\"), pl.lit(var).alias(\"Variant\")\n",
    "    )\n",
    "    return summary_df"
   ]
  },
  {
   "cell_type": "code",
   "execution_count": 17,
   "metadata": {},
   "outputs": [
    {
     "name": "stderr",
     "output_type": "stream",
     "text": [
      "100%|██████████| 249/249 [00:01<00:00, 193.44it/s]\n"
     ]
    },
    {
     "data": {
      "text/html": [
       "<div><style>\n",
       ".dataframe > thead > tr,\n",
       ".dataframe > tbody > tr {\n",
       "  text-align: right;\n",
       "  white-space: pre-wrap;\n",
       "}\n",
       "</style>\n",
       "<small>shape: (276, 7)</small><table border=\"1\" class=\"dataframe\"><thead><tr><th>U2OS_t</th><th>p_val</th><th>cohen_d</th><th>Gene</th><th>Variant</th><th>Ref_well</th><th>Var_well</th></tr><tr><td>f64</td><td>f64</td><td>f64</td><td>str</td><td>str</td><td>str</td><td>str</td></tr></thead><tbody><tr><td>-6.709696</td><td>0.000275</td><td>2.715262</td><td>&quot;AP2S1&quot;</td><td>&quot;AP2S1_Arg15Cys&quot;</td><td>&quot;A01&quot;</td><td>&quot;C01&quot;</td></tr><tr><td>-7.557733</td><td>0.004804</td><td>5.181297</td><td>&quot;AP2S1&quot;</td><td>&quot;AP2S1_Arg15His&quot;</td><td>&quot;A01&quot;</td><td>&quot;E01&quot;</td></tr><tr><td>-10.417362</td><td>0.000016</td><td>4.139008</td><td>&quot;APOA1&quot;</td><td>&quot;APOA1_Ala188Ser&quot;</td><td>&quot;G01&quot;</td><td>&quot;K03&quot;</td></tr><tr><td>-7.47105</td><td>0.000141</td><td>3.622423</td><td>&quot;APOA1&quot;</td><td>&quot;APOA1_Ala199Pro&quot;</td><td>&quot;G01&quot;</td><td>&quot;C03&quot;</td></tr><tr><td>-5.271115</td><td>0.001159</td><td>1.79803</td><td>&quot;APOA1&quot;</td><td>&quot;APOA1_Arg34Leu&quot;</td><td>&quot;G01&quot;</td><td>&quot;I01&quot;</td></tr><tr><td>&hellip;</td><td>&hellip;</td><td>&hellip;</td><td>&hellip;</td><td>&hellip;</td><td>&hellip;</td><td>&hellip;</td></tr><tr><td>6.426477</td><td>0.000358</td><td>-1.110552</td><td>&quot;TPM1&quot;</td><td>&quot;TPM1_Ser215Leu&quot;</td><td>&quot;L04&quot;</td><td>&quot;J04&quot;</td></tr><tr><td>-25.27152</td><td>0.000015</td><td>15.349455</td><td>&quot;TPM1&quot;</td><td>&quot;TPM1_Val95Ala&quot;</td><td>&quot;P06&quot;</td><td>&quot;F08&quot;</td></tr><tr><td>0.269709</td><td>0.795162</td><td>-0.118346</td><td>&quot;TPM1&quot;</td><td>&quot;TPM1_Val95Ala&quot;</td><td>&quot;P23&quot;</td><td>&quot;F08&quot;</td></tr><tr><td>2.623651</td><td>0.034227</td><td>-0.884213</td><td>&quot;TPM1&quot;</td><td>&quot;TPM1_Val95Ala&quot;</td><td>&quot;L04&quot;</td><td>&quot;F08&quot;</td></tr><tr><td>-5.244805</td><td>0.001193</td><td>1.721999</td><td>&quot;TPM3&quot;</td><td>&quot;TPM3_Ala4Val&quot;</td><td>&quot;J08&quot;</td><td>&quot;L08&quot;</td></tr></tbody></table></div>"
      ],
      "text/plain": [
       "shape: (276, 7)\n",
       "┌────────────┬──────────┬───────────┬───────┬─────────────────┬──────────┬──────────┐\n",
       "│ U2OS_t     ┆ p_val    ┆ cohen_d   ┆ Gene  ┆ Variant         ┆ Ref_well ┆ Var_well │\n",
       "│ ---        ┆ ---      ┆ ---       ┆ ---   ┆ ---             ┆ ---      ┆ ---      │\n",
       "│ f64        ┆ f64      ┆ f64       ┆ str   ┆ str             ┆ str      ┆ str      │\n",
       "╞════════════╪══════════╪═══════════╪═══════╪═════════════════╪══════════╪══════════╡\n",
       "│ -6.709696  ┆ 0.000275 ┆ 2.715262  ┆ AP2S1 ┆ AP2S1_Arg15Cys  ┆ A01      ┆ C01      │\n",
       "│ -7.557733  ┆ 0.004804 ┆ 5.181297  ┆ AP2S1 ┆ AP2S1_Arg15His  ┆ A01      ┆ E01      │\n",
       "│ -10.417362 ┆ 0.000016 ┆ 4.139008  ┆ APOA1 ┆ APOA1_Ala188Ser ┆ G01      ┆ K03      │\n",
       "│ -7.47105   ┆ 0.000141 ┆ 3.622423  ┆ APOA1 ┆ APOA1_Ala199Pro ┆ G01      ┆ C03      │\n",
       "│ -5.271115  ┆ 0.001159 ┆ 1.79803   ┆ APOA1 ┆ APOA1_Arg34Leu  ┆ G01      ┆ I01      │\n",
       "│ …          ┆ …        ┆ …         ┆ …     ┆ …               ┆ …        ┆ …        │\n",
       "│ 6.426477   ┆ 0.000358 ┆ -1.110552 ┆ TPM1  ┆ TPM1_Ser215Leu  ┆ L04      ┆ J04      │\n",
       "│ -25.27152  ┆ 0.000015 ┆ 15.349455 ┆ TPM1  ┆ TPM1_Val95Ala   ┆ P06      ┆ F08      │\n",
       "│ 0.269709   ┆ 0.795162 ┆ -0.118346 ┆ TPM1  ┆ TPM1_Val95Ala   ┆ P23      ┆ F08      │\n",
       "│ 2.623651   ┆ 0.034227 ┆ -0.884213 ┆ TPM1  ┆ TPM1_Val95Ala   ┆ L04      ┆ F08      │\n",
       "│ -5.244805  ┆ 0.001193 ┆ 1.721999  ┆ TPM3  ┆ TPM3_Ala4Val    ┆ J08      ┆ L08      │\n",
       "└────────────┴──────────┴───────────┴───────┴─────────────────┴──────────┴──────────┘"
      ]
     },
     "execution_count": 17,
     "metadata": {},
     "output_type": "execute_result"
    }
   ],
   "source": [
    "well_abun_stats = []\n",
    "for allele in tqdm(well_profiles.select(pl.col(\"Metadata_gene_allele\")).to_pandas()[\"Metadata_gene_allele\"].unique()):\n",
    "    if allele is None or allele.split(\"_\")[0] == allele:\n",
    "        continue\n",
    "\n",
    "    reference = allele.split(\"_\")[0]\n",
    "    temp_prof = well_profiles.filter(\n",
    "        (pl.col(\"Metadata_gene_allele\") == allele) | (pl.col(\"Metadata_gene_allele\") == reference)\n",
    "    ).to_pandas()\n",
    "    \n",
    "    if (temp_prof[\"Metadata_gene_allele\"].unique().shape[0] < 2):\n",
    "        # print(temp_prof)\n",
    "        continue\n",
    "\n",
    "    var_profiles = temp_prof[temp_prof[\"Metadata_gene_allele\"]==allele]\n",
    "    ref_profiles = temp_prof[(temp_prof[\"Metadata_gene_allele\"]==reference)&(temp_prof[\"Metadata_Plate\"].isin(var_profiles[\"Metadata_Plate\"].unique()))]\n",
    "    temp_prof = pd.concat([var_profiles, ref_profiles])\n",
    "\n",
    "    ref_wells = ref_profiles[\"Metadata_Well\"].unique()\n",
    "    var_wells = var_profiles[\"Metadata_Well\"].unique()\n",
    "    ref_var_pairs = [(ref_well, var_well) for ref_well in ref_wells for var_well in var_wells]\n",
    "    \n",
    "    ## Per each ref-var well pair on the SAME plate, train and test the classifier\n",
    "    for ref_var in ref_var_pairs:\n",
    "        ## sort the wells to make sure they are from the same plate\n",
    "        df_sampled = temp_prof[temp_prof[\"Metadata_Well\"].isin(ref_var)].dropna().sort_values([\"Metadata_Plate\",\"Metadata_gene_allele\"])\n",
    "        paired_t_res = paired_ttest(\n",
    "            dat=df_sampled,\n",
    "            reference=reference,\n",
    "            var=allele\n",
    "        ).with_columns(\n",
    "            pl.lit(ref_var[0]).alias(\"Ref_well\"),\n",
    "            pl.lit(ref_var[1]).alias(\"Var_well\")\n",
    "        )\n",
    "        well_abun_stats.append(\n",
    "            paired_t_res\n",
    "        )\n",
    "\n",
    "well_abun_stats = pl.concat(well_abun_stats, how=\"vertical\")\n",
    "well_abun_stats = well_abun_stats.rename({\"t_stat\": \"U2OS_t\"})\n",
    "well_abun_stats = well_abun_stats.sort([\"Gene\", \"Variant\", \"U2OS_t\", \"p_val\", \"cohen_d\"])\n",
    "well_abun_stats"
   ]
  },
  {
   "cell_type": "code",
   "execution_count": 18,
   "metadata": {},
   "outputs": [],
   "source": [
    "well_abun_stats.write_csv(f\"../../outputs/{COMBINED_BIO_REP_DIR}/well-level_prot-abundance_changes.csv\")"
   ]
  },
  {
   "cell_type": "markdown",
   "metadata": {},
   "source": [
    "### 3.1 Single-plate layout"
   ]
  },
  {
   "cell_type": "code",
   "execution_count": 8,
   "metadata": {},
   "outputs": [
    {
     "name": "stderr",
     "output_type": "stream",
     "text": [
      "100%|██████████| 77/77 [00:00<00:00, 159.85it/s]\n"
     ]
    },
    {
     "data": {
      "text/html": [
       "<div><style>\n",
       ".dataframe > thead > tr,\n",
       ".dataframe > tbody > tr {\n",
       "  text-align: right;\n",
       "  white-space: pre-wrap;\n",
       "}\n",
       "</style>\n",
       "<small>shape: (71, 5)</small><table border=\"1\" class=\"dataframe\"><thead><tr><th>U2OS_t</th><th>p_val</th><th>cohen_d</th><th>Gene</th><th>Variant</th></tr><tr><td>f64</td><td>f64</td><td>f64</td><td>str</td><td>str</td></tr></thead><tbody><tr><td>15.103341</td><td>0.000001</td><td>-8.027915</td><td>&quot;AGXT&quot;</td><td>&quot;AGXT_Asp201Asn&quot;</td></tr><tr><td>0.941877</td><td>0.377616</td><td>-0.400286</td><td>&quot;GSS&quot;</td><td>&quot;GSS_Arg125Cys&quot;</td></tr><tr><td>2.83516</td><td>0.025219</td><td>-1.581071</td><td>&quot;HPRT1&quot;</td><td>&quot;HPRT1_His204Asp&quot;</td></tr><tr><td>-4.215618</td><td>0.003958</td><td>2.13442</td><td>&quot;MLH1&quot;</td><td>&quot;MLH1_Ala160Val&quot;</td></tr><tr><td>-5.645818</td><td>0.000778</td><td>3.137799</td><td>&quot;MLH1&quot;</td><td>&quot;MLH1_Ala29Gly&quot;</td></tr><tr><td>&hellip;</td><td>&hellip;</td><td>&hellip;</td><td>&hellip;</td><td>&hellip;</td></tr><tr><td>-5.384443</td><td>0.001025</td><td>2.394275</td><td>&quot;STXBP1&quot;</td><td>&quot;STXBP1_Pro480Leu&quot;</td></tr><tr><td>-9.601458</td><td>0.000028</td><td>5.169416</td><td>&quot;STXBP1&quot;</td><td>&quot;STXBP1_Pro94Leu&quot;</td></tr><tr><td>-10.918077</td><td>0.000012</td><td>6.403128</td><td>&quot;STXBP1&quot;</td><td>&quot;STXBP1_Thr419Met&quot;</td></tr><tr><td>-4.887526</td><td>0.001778</td><td>2.402508</td><td>&quot;STXBP1&quot;</td><td>&quot;STXBP1_Tyr411His&quot;</td></tr><tr><td>-12.72979</td><td>0.000004</td><td>5.682002</td><td>&quot;STXBP1&quot;</td><td>&quot;STXBP1_Val451Ile&quot;</td></tr></tbody></table></div>"
      ],
      "text/plain": [
       "shape: (71, 5)\n",
       "┌────────────┬──────────┬───────────┬────────┬──────────────────┐\n",
       "│ U2OS_t     ┆ p_val    ┆ cohen_d   ┆ Gene   ┆ Variant          │\n",
       "│ ---        ┆ ---      ┆ ---       ┆ ---    ┆ ---              │\n",
       "│ f64        ┆ f64      ┆ f64       ┆ str    ┆ str              │\n",
       "╞════════════╪══════════╪═══════════╪════════╪══════════════════╡\n",
       "│ 15.103341  ┆ 0.000001 ┆ -8.027915 ┆ AGXT   ┆ AGXT_Asp201Asn   │\n",
       "│ 0.941877   ┆ 0.377616 ┆ -0.400286 ┆ GSS    ┆ GSS_Arg125Cys    │\n",
       "│ 2.83516    ┆ 0.025219 ┆ -1.581071 ┆ HPRT1  ┆ HPRT1_His204Asp  │\n",
       "│ -4.215618  ┆ 0.003958 ┆ 2.13442   ┆ MLH1   ┆ MLH1_Ala160Val   │\n",
       "│ -5.645818  ┆ 0.000778 ┆ 3.137799  ┆ MLH1   ┆ MLH1_Ala29Gly    │\n",
       "│ …          ┆ …        ┆ …         ┆ …      ┆ …                │\n",
       "│ -5.384443  ┆ 0.001025 ┆ 2.394275  ┆ STXBP1 ┆ STXBP1_Pro480Leu │\n",
       "│ -9.601458  ┆ 0.000028 ┆ 5.169416  ┆ STXBP1 ┆ STXBP1_Pro94Leu  │\n",
       "│ -10.918077 ┆ 0.000012 ┆ 6.403128  ┆ STXBP1 ┆ STXBP1_Thr419Met │\n",
       "│ -4.887526  ┆ 0.001778 ┆ 2.402508  ┆ STXBP1 ┆ STXBP1_Tyr411His │\n",
       "│ -12.72979  ┆ 0.000004 ┆ 5.682002  ┆ STXBP1 ┆ STXBP1_Val451Ile │\n",
       "└────────────┴──────────┴───────────┴────────┴──────────────────┘"
      ]
     },
     "metadata": {},
     "output_type": "display_data"
    }
   ],
   "source": [
    "well_abun_stats = []\n",
    "\n",
    "for allele in tqdm(well_profiles.select(pl.col(\"Metadata_gene_allele\")).to_pandas()[\"Metadata_gene_allele\"].unique()):\n",
    "    if allele is None or allele.split(\"_\")[0] == allele:\n",
    "        continue\n",
    "\n",
    "    reference = allele.split(\"_\")[0]\n",
    "    temp_prof = well_profiles.filter(\n",
    "        (pl.col(\"Metadata_gene_allele\") == allele) | (pl.col(\"Metadata_gene_allele\") == reference)\n",
    "    ).to_pandas()\n",
    "    if (temp_prof[\"Metadata_gene_allele\"].unique().shape[0] < 2):\n",
    "        # print(temp_prof)\n",
    "        continue\n",
    "\n",
    "    var_profiles = temp_prof[temp_prof[\"Metadata_gene_allele\"]==allele]\n",
    "    ref_profiles = temp_prof[(temp_prof[\"Metadata_gene_allele\"]==reference)&(temp_prof[\"Metadata_Plate\"].isin(var_profiles[\"Metadata_Plate\"].unique()))]\n",
    "    temp_prof = pd.concat([var_profiles, ref_profiles])\n",
    "    \n",
    "    ## Per each ref-var well pair on the SAME plate, train and test the classifier\n",
    "    ## sort the wells to make sure they are from the same plate\n",
    "    df_sampled = pd.DataFrame()\n",
    "    for plate in temp_prof[\"Metadata_Plate\"].unique():\n",
    "        dat = temp_prof[temp_prof[\"Metadata_Plate\"]==plate].dropna().sort_values([\"Metadata_gene_allele\"])\n",
    "        # count rows per group\n",
    "        group_counts = dat.groupby(\"Metadata_gene_allele\").size()  #  [oai_citation:0‡Pandas](https://pandas.pydata.org/docs/user_guide/groupby.html?utm_source=chatgpt.com)\n",
    "        min_count = group_counts.min()\n",
    "        # print(\"Minimum rows in any group:\", min_count)\n",
    "        \n",
    "        shuffled = dat.sample(frac=1, random_state=42).reset_index(drop=True)  #  [oai_citation:2‡Vultr Docs](https://docs.vultr.com/python/third-party/pandas/DataFrame/sample?utm_source=chatgpt.com)\n",
    "        # Then take the first min_count rows per group\n",
    "        sampled_df2 = (\n",
    "            shuffled\n",
    "            .groupby(\"Metadata_gene_allele\", group_keys=False)  #  [oai_citation:3‡Built In](https://builtin.com/data-science/pandas-groupby?utm_source=chatgpt.com)\n",
    "            .head(min_count)\n",
    "        )\n",
    "        df_sampled = pd.concat([df_sampled, sampled_df2])\n",
    "    \n",
    "    # print(df_sampled)\n",
    "    if df_sampled.shape[0] > 3:\n",
    "        # now run paired t-test\n",
    "        t_stat, p_val = ttest_rel(df_sampled.loc[df_sampled[\"Metadata_gene_allele\"]==reference, \"Cells_Intensity_IntegratedIntensity_GFP\"].values, \n",
    "                                  df_sampled.loc[df_sampled[\"Metadata_gene_allele\"]==allele, \"Cells_Intensity_IntegratedIntensity_GFP\"].values)\n",
    "        mean_diff = np.mean(df_sampled.loc[df_sampled[\"Metadata_gene_allele\"]==allele, \"Cells_Intensity_IntegratedIntensity_GFP\"].values) - \\\n",
    "            np.mean(df_sampled.loc[df_sampled[\"Metadata_gene_allele\"]==reference, \"Cells_Intensity_IntegratedIntensity_GFP\"].values)\n",
    "        pooled_std = np.sqrt((np.std(df_sampled.loc[df_sampled[\"Metadata_gene_allele\"]==allele, \"Cells_Intensity_IntegratedIntensity_GFP\"].values, ddof=1) ** 2 + \\\n",
    "                              np.std(df_sampled.loc[df_sampled[\"Metadata_gene_allele\"]==reference, \"Cells_Intensity_IntegratedIntensity_GFP\"].values, ddof=1) ** 2) / 2)\n",
    "        cohen_d = mean_diff / pooled_std\n",
    "    else:\n",
    "        t_stat, p_val, cohen_d  = None, None, None\n",
    "        \n",
    "    # break\n",
    "    summary_df = pl.DataFrame(\n",
    "        {\n",
    "            \"t_stat\": t_stat,\n",
    "            \"p_val\": p_val,\n",
    "            \"cohen_d\": cohen_d\n",
    "        }\n",
    "    )\n",
    "    summary_df = summary_df.with_columns(\n",
    "        pl.lit(reference).alias(\"Gene\"), pl.lit(allele).alias(\"Variant\")\n",
    "    )\n",
    "    # print(paired_t_res)\n",
    "    well_abun_stats.append(\n",
    "        summary_df\n",
    "    )\n",
    "\n",
    "well_abun_stats = pl.concat(well_abun_stats,  how=\"vertical\")\n",
    "well_abun_stats = well_abun_stats.rename({\"t_stat\": \"U2OS_t\"})\n",
    "well_abun_stats = well_abun_stats.sort([\"Gene\", \"Variant\", \"U2OS_t\", \"p_val\", \"cohen_d\"])\n",
    "display(well_abun_stats)\n",
    "well_abun_stats.write_csv(f\"../../outputs/{COMBINED_BIO_REP_DIR}/well-level_prot-abundance_changes.csv\")"
   ]
  }
 ],
 "metadata": {
  "kernelspec": {
   "display_name": "varchamp",
   "language": "python",
   "name": "python3"
  },
  "language_info": {
   "codemirror_mode": {
    "name": "ipython",
    "version": 3
   },
   "file_extension": ".py",
   "mimetype": "text/x-python",
   "name": "python",
   "nbconvert_exporter": "python",
   "pygments_lexer": "ipython3",
   "version": "3.8.18"
  }
 },
 "nbformat": 4,
 "nbformat_minor": 2
}
