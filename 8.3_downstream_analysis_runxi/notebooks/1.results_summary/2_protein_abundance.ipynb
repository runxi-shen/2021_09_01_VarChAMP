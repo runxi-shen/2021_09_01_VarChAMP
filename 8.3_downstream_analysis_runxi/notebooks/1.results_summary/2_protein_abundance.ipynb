{
 "cells": [
  {
   "cell_type": "markdown",
   "metadata": {},
   "source": [
    "# Protein abundance change\n",
    "\n",
    "This notebook runs the analyses on protein abundance changes between variant and reference alleles using Cell Painting assays"
   ]
  },
  {
   "cell_type": "code",
   "execution_count": 24,
   "metadata": {},
   "outputs": [],
   "source": [
    "### imports\n",
    "import os\n",
    "import polars as pl\n",
    "import numpy as np\n",
    "from tqdm import tqdm\n",
    "from pathlib import Path\n",
    "import matplotlib.pyplot as plt\n",
    "import seaborn as sns\n",
    "%matplotlib inline\n",
    "\n",
    "PLATEMAP_DIR = \"../../../8.2_updated_snakemake_pipeline/inputs/metadata/platemaps/{batch_id}/platemap\"\n",
    "PROF_DIR = \"../../../8.2_updated_snakemake_pipeline/outputs/batch_profiles\"\n",
    "CLASS_DIR = \"../../../8.2_updated_snakemake_pipeline/outputs/classification_analyses\"\n",
    "\n",
    "TRN_IMBAL_THRES = 3\n",
    "MIN_CLASS_NUM = 2\n",
    "\n",
    "## Disable truncation globally\n",
    "# pl.Config.set_tbl_rows(20)  # Show all rows\n",
    "# pl.Config.set_tbl_cols(40)  # Show all columns"
   ]
  },
  {
   "cell_type": "code",
   "execution_count": 25,
   "metadata": {},
   "outputs": [],
   "source": [
    "BIO_REP_BATCHES = [\"2024_01_23_Batch_7\", \"2024_02_06_Batch_8\"]\n",
    "COMBINED_BIO_REP_DIR = \"2024_02_Batch_7-8\"\n",
    "\n",
    "# BIO_REP_BATCHES = [\"2025_03_17_Batch_15\", \"2025_03_17_Batch_16\"]\n",
    "# COMBINED_BIO_REP_DIR = \"2025_03_Batch_15-16\"\n",
    "\n",
    "# BIO_REP_BATCHES = [\"2025_01_27_Batch_13\", \"2025_01_28_Batch_14\"]\n",
    "# OUTPUT_DIR = \"../../outputs/2025_01_Batch_13-14\"\n",
    "\n",
    "OUTPUT_DIR = f\"../../outputs/{COMBINED_BIO_REP_DIR}\"\n",
    "if not os.path.exists(OUTPUT_DIR):\n",
    "    os.makedirs(OUTPUT_DIR)"
   ]
  },
  {
   "cell_type": "markdown",
   "metadata": {},
   "source": [
    "## 1. Get the comparable REF-VAR pairs\n",
    "\n",
    "The cell counts between Ref. and Var. alleles should be comparable (using a TRN_IMBAL_THRES = 3)."
   ]
  },
  {
   "cell_type": "code",
   "execution_count": 26,
   "metadata": {},
   "outputs": [
    {
     "data": {
      "text/plain": [
       "681"
      ]
     },
     "execution_count": 26,
     "metadata": {},
     "output_type": "execute_result"
    }
   ],
   "source": [
    "# Paths\n",
    "metrics_dir = \"{}/{}/profiles_tcdropped_filtered_var_mad_outlier_featselect_filtcells\"\n",
    "\n",
    "metrics_df, metrics_wtvar = pl.DataFrame(), pl.DataFrame()\n",
    "for batch in BIO_REP_BATCHES:\n",
    "    met_dir = metrics_dir.format(CLASS_DIR, batch)\n",
    "    metrics_df_batch = pl.read_csv(f\"{met_dir}/metrics.csv\")\n",
    "    metrics_df = pl.concat([metrics_df, metrics_df_batch])\n",
    "    # metrics_wtvar_batch = pl.read_csv(f\"{met_dir}/metrics_summary.csv\")\n",
    "    # metrics_wtvar = pl.concat([metrics_wtvar, metrics_wtvar_batch])\n",
    "\n",
    "## get individual classifiers pass the training imbalance threshold\n",
    "balanced_classifiers = metrics_df.filter(\n",
    "    (~pl.col(\"Metadata_Control\"))\n",
    "    & (pl.col(\"Training_imbalance\") < TRN_IMBAL_THRES)\n",
    "    & (\n",
    "        (pl.col(\"Full_Classifier_ID\").str.contains(\"true\")) ## protein_localization detection\n",
    "    )\n",
    ")\n",
    "balanced_class_alleles = balanced_classifiers.select(pl.col(\"allele_0\",\"allele_1\")).unique().to_numpy()\n",
    "balanced_class_alleles = np.unique(balanced_class_alleles.flatten())\n",
    "len(balanced_class_alleles)"
   ]
  },
  {
   "cell_type": "markdown",
   "metadata": {},
   "source": [
    "## 2. CellProfiler Features"
   ]
  },
  {
   "cell_type": "markdown",
   "metadata": {},
   "source": [
    "### Get the CP features for cells that passed the QC"
   ]
  },
  {
   "cell_type": "code",
   "execution_count": 27,
   "metadata": {},
   "outputs": [],
   "source": [
    "pass_qc_prof_dir = \"{}/{}/profiles_tcdropped_filtered_var_mad_outlier_featselect_filtcells.parquet\"\n",
    "cell_alleles = pl.DataFrame()\n",
    "\n",
    "for batch_id in BIO_REP_BATCHES:\n",
    "    # Get meta features\n",
    "    batch_alleles = (\n",
    "        pl.scan_parquet(\n",
    "            pass_qc_prof_dir.format(PROF_DIR, batch_id)\n",
    "        )\n",
    "        # .filter(pl.col(\"Metadata_gene_allele\").is_in(all_alleles))\n",
    "        .with_columns(\n",
    "            pl.concat_str(\n",
    "                [\n",
    "                    \"Metadata_Plate\",\n",
    "                    \"Metadata_Well\",\n",
    "                    \"Metadata_ImageNumber\",\n",
    "                    \"Metadata_ObjectNumber\",\n",
    "                ],\n",
    "                separator=\"_\",\n",
    "            ).alias(\"Metadata_CellID\")\n",
    "        )\n",
    "        .select([\n",
    "            \"Metadata_CellID\",\n",
    "            \"Metadata_gene_allele\",\n",
    "            \"Metadata_Well\",\n",
    "            \"Metadata_Plate\",\n",
    "        ])\n",
    "    )\n",
    "    cell_alleles = pl.concat([cell_alleles, batch_alleles.collect()])"
   ]
  },
  {
   "cell_type": "markdown",
   "metadata": {},
   "source": [
    "### Get the Cells_Intensity CP features per all cells\n",
    "\n",
    "Merge the Cells_Intensity features to the pass-QC cells"
   ]
  },
  {
   "cell_type": "code",
   "execution_count": 28,
   "metadata": {},
   "outputs": [],
   "source": [
    "combined_gfp_profiles = pl.DataFrame()\n",
    "for batch_id in BIO_REP_BATCHES:\n",
    "    # Get meta features\n",
    "    batch_gfp_prof = (\n",
    "        pl.scan_parquet(\n",
    "            f\"{PROF_DIR}/{batch_id}/profiles.parquet\"\n",
    "        ).with_columns(\n",
    "            pl.concat_str(\n",
    "                [\n",
    "                    \"Metadata_Plate\",\n",
    "                    \"Metadata_Well\",\n",
    "                    \"Metadata_ImageNumber\",\n",
    "                    \"Metadata_ObjectNumber\",\n",
    "                ],\n",
    "                separator=\"_\",\n",
    "            ).alias(\"Metadata_CellID\")\n",
    "        )\n",
    "    )\n",
    "    gfp_int = [i for i in batch_gfp_prof.collect_schema().names() if \"Cells_Intensity\" in i]\n",
    "    gfp_int = [\"Metadata_CellID\"] + [i for i in gfp_int if \"GFP\" in i]\n",
    "\n",
    "    combined_gfp_profiles = pl.concat([\n",
    "        combined_gfp_profiles, \n",
    "        batch_gfp_prof.select(gfp_int).collect()\n",
    "    ])\n",
    "\n",
    "profiles = cell_alleles.join(combined_gfp_profiles, on=\"Metadata_CellID\", how=\"left\")"
   ]
  },
  {
   "cell_type": "markdown",
   "metadata": {},
   "source": [
    "### Aggregate the cells to well profiles"
   ]
  },
  {
   "cell_type": "code",
   "execution_count": 29,
   "metadata": {},
   "outputs": [
    {
     "data": {
      "text/html": [
       "<div><style>\n",
       ".dataframe > thead > tr,\n",
       ".dataframe > tbody > tr {\n",
       "  text-align: right;\n",
       "  white-space: pre-wrap;\n",
       "}\n",
       "</style>\n",
       "<small>shape: (5_419, 18)</small><table border=\"1\" class=\"dataframe\"><thead><tr><th>Metadata_Plate</th><th>Metadata_Well</th><th>Metadata_gene_allele</th><th>Cells_Intensity_IntegratedIntensityEdge_GFP</th><th>Cells_Intensity_IntegratedIntensity_GFP</th><th>Cells_Intensity_LowerQuartileIntensity_GFP</th><th>Cells_Intensity_MADIntensity_GFP</th><th>Cells_Intensity_MassDisplacement_GFP</th><th>Cells_Intensity_MaxIntensityEdge_GFP</th><th>Cells_Intensity_MaxIntensity_GFP</th><th>Cells_Intensity_MeanIntensityEdge_GFP</th><th>Cells_Intensity_MeanIntensity_GFP</th><th>Cells_Intensity_MedianIntensity_GFP</th><th>Cells_Intensity_MinIntensityEdge_GFP</th><th>Cells_Intensity_MinIntensity_GFP</th><th>Cells_Intensity_StdIntensityEdge_GFP</th><th>Cells_Intensity_StdIntensity_GFP</th><th>Cells_Intensity_UpperQuartileIntensity_GFP</th></tr><tr><td>str</td><td>str</td><td>str</td><td>f64</td><td>f64</td><td>f64</td><td>f64</td><td>f64</td><td>f64</td><td>f64</td><td>f64</td><td>f64</td><td>f64</td><td>f64</td><td>f64</td><td>f64</td><td>f64</td><td>f64</td></tr></thead><tbody><tr><td>&quot;2024_02_02_B8A1R2_P3T1&quot;</td><td>&quot;J13&quot;</td><td>&quot;PLA2G6_Arg600Gln&quot;</td><td>1.010232</td><td>40.541913</td><td>0.003577</td><td>0.001655</td><td>2.797511</td><td>0.0046</td><td>0.154887</td><td>0.002229</td><td>0.006523</td><td>0.00517</td><td>0.001542</td><td>0.001542</td><td>0.000482</td><td>0.005692</td><td>0.006939</td></tr><tr><td>&quot;2024_01_23_B7A1R1_P4T2&quot;</td><td>&quot;E01&quot;</td><td>&quot;SH3BP2&quot;</td><td>1.410219</td><td>42.471292</td><td>0.003372</td><td>0.001052</td><td>3.255952</td><td>0.013581</td><td>0.041271</td><td>0.003379</td><td>0.005038</td><td>0.004481</td><td>0.00166</td><td>0.001638</td><td>0.001657</td><td>0.002698</td><td>0.006069</td></tr><tr><td>&quot;2024_01_19_B7A1R1_P4T1&quot;</td><td>&quot;G14&quot;</td><td>&quot;TH_Pro218Leu&quot;</td><td>1.043115</td><td>46.929632</td><td>0.004008</td><td>0.002468</td><td>2.220636</td><td>0.00772</td><td>0.018587</td><td>0.002728</td><td>0.00717</td><td>0.00673</td><td>0.001637</td><td>0.001615</td><td>0.00095</td><td>0.003339</td><td>0.009572</td></tr><tr><td>&quot;2024_01_19_B7A1R1_P3T4&quot;</td><td>&quot;D08&quot;</td><td>&quot;PSAP&quot;</td><td>1.086332</td><td>28.940239</td><td>0.002446</td><td>0.000824</td><td>4.004424</td><td>0.009884</td><td>0.037701</td><td>0.002463</td><td>0.004384</td><td>0.003167</td><td>0.001594</td><td>0.001577</td><td>0.000988</td><td>0.003439</td><td>0.00461</td></tr><tr><td>&quot;2024_01_17_B7A1R1_P1T3&quot;</td><td>&quot;L05&quot;</td><td>&quot;COMP_Thr585Arg&quot;</td><td>1.285733</td><td>88.390073</td><td>0.00363</td><td>0.003904</td><td>5.496468</td><td>0.014109</td><td>0.064159</td><td>0.003054</td><td>0.012199</td><td>0.007014</td><td>0.00157</td><td>0.001532</td><td>0.00217</td><td>0.010655</td><td>0.015623</td></tr><tr><td>&hellip;</td><td>&hellip;</td><td>&hellip;</td><td>&hellip;</td><td>&hellip;</td><td>&hellip;</td><td>&hellip;</td><td>&hellip;</td><td>&hellip;</td><td>&hellip;</td><td>&hellip;</td><td>&hellip;</td><td>&hellip;</td><td>&hellip;</td><td>&hellip;</td><td>&hellip;</td><td>&hellip;</td><td>&hellip;</td></tr><tr><td>&quot;2024_01_17_B7A1R1_P2T2&quot;</td><td>&quot;H06&quot;</td><td>&quot;KRT6A_Asn171Asp&quot;</td><td>1.326435</td><td>45.564932</td><td>0.003247</td><td>0.001415</td><td>4.791578</td><td>0.01652</td><td>0.074705</td><td>0.003076</td><td>0.005899</td><td>0.004561</td><td>0.001589</td><td>0.001577</td><td>0.002053</td><td>0.005386</td><td>0.006331</td></tr><tr><td>&quot;2024_01_22_B7A1R1_P4T4&quot;</td><td>&quot;F11&quot;</td><td>&quot;TTPA_Gly246Arg&quot;</td><td>1.263591</td><td>36.312624</td><td>0.003625</td><td>0.001316</td><td>2.667939</td><td>0.007165</td><td>0.012551</td><td>0.002774</td><td>0.005081</td><td>0.004993</td><td>0.001682</td><td>0.00167</td><td>0.001041</td><td>0.001779</td><td>0.006287</td></tr><tr><td>&quot;2024_02_02_B8A1R2_P3T4&quot;</td><td>&quot;D13&quot;</td><td>&quot;PLA2G6&quot;</td><td>0.960816</td><td>45.364024</td><td>0.0017</td><td>0.000116</td><td>4.517059</td><td>0.002095</td><td>0.024519</td><td>0.001708</td><td>0.003354</td><td>0.001795</td><td>0.001369</td><td>0.001336</td><td>0.000116</td><td>0.004367</td><td>0.001955</td></tr><tr><td>&quot;2024_02_01_B8A1R2_P2T3&quot;</td><td>&quot;P21&quot;</td><td>&quot;KLHL3_Cys164Phe&quot;</td><td>5.01224</td><td>290.981525</td><td>0.014256</td><td>0.018798</td><td>5.30746</td><td>0.079724</td><td>0.124565</td><td>0.009487</td><td>0.03731</td><td>0.035263</td><td>0.001759</td><td>0.001751</td><td>0.012433</td><td>0.02456</td><td>0.054699</td></tr><tr><td>&quot;2024_01_17_B7A1R1_P2T2&quot;</td><td>&quot;J12&quot;</td><td>&quot;KRT86_Glu413Lys&quot;</td><td>0.913978</td><td>23.444535</td><td>0.002245</td><td>0.000411</td><td>2.271466</td><td>0.004473</td><td>0.014195</td><td>0.002104</td><td>0.002883</td><td>0.002641</td><td>0.001518</td><td>0.001503</td><td>0.000437</td><td>0.001026</td><td>0.003212</td></tr></tbody></table></div>"
      ],
      "text/plain": [
       "shape: (5_419, 18)\n",
       "┌───────────┬───────────┬───────────┬───────────┬───┬───────────┬───────────┬───────────┬──────────┐\n",
       "│ Metadata_ ┆ Metadata_ ┆ Metadata_ ┆ Cells_Int ┆ … ┆ Cells_Int ┆ Cells_Int ┆ Cells_Int ┆ Cells_In │\n",
       "│ Plate     ┆ Well      ┆ gene_alle ┆ ensity_In ┆   ┆ ensity_Mi ┆ ensity_St ┆ ensity_St ┆ tensity_ │\n",
       "│ ---       ┆ ---       ┆ le        ┆ tegratedI ┆   ┆ nIntensit ┆ dIntensit ┆ dIntensit ┆ UpperQua │\n",
       "│ str       ┆ str       ┆ ---       ┆ nte…      ┆   ┆ y_G…      ┆ yEd…      ┆ y_G…      ┆ rtileI…  │\n",
       "│           ┆           ┆ str       ┆ ---       ┆   ┆ ---       ┆ ---       ┆ ---       ┆ ---      │\n",
       "│           ┆           ┆           ┆ f64       ┆   ┆ f64       ┆ f64       ┆ f64       ┆ f64      │\n",
       "╞═══════════╪═══════════╪═══════════╪═══════════╪═══╪═══════════╪═══════════╪═══════════╪══════════╡\n",
       "│ 2024_02_0 ┆ J13       ┆ PLA2G6_Ar ┆ 1.010232  ┆ … ┆ 0.001542  ┆ 0.000482  ┆ 0.005692  ┆ 0.006939 │\n",
       "│ 2_B8A1R2_ ┆           ┆ g600Gln   ┆           ┆   ┆           ┆           ┆           ┆          │\n",
       "│ P3T1      ┆           ┆           ┆           ┆   ┆           ┆           ┆           ┆          │\n",
       "│ 2024_01_2 ┆ E01       ┆ SH3BP2    ┆ 1.410219  ┆ … ┆ 0.001638  ┆ 0.001657  ┆ 0.002698  ┆ 0.006069 │\n",
       "│ 3_B7A1R1_ ┆           ┆           ┆           ┆   ┆           ┆           ┆           ┆          │\n",
       "│ P4T2      ┆           ┆           ┆           ┆   ┆           ┆           ┆           ┆          │\n",
       "│ 2024_01_1 ┆ G14       ┆ TH_Pro218 ┆ 1.043115  ┆ … ┆ 0.001615  ┆ 0.00095   ┆ 0.003339  ┆ 0.009572 │\n",
       "│ 9_B7A1R1_ ┆           ┆ Leu       ┆           ┆   ┆           ┆           ┆           ┆          │\n",
       "│ P4T1      ┆           ┆           ┆           ┆   ┆           ┆           ┆           ┆          │\n",
       "│ 2024_01_1 ┆ D08       ┆ PSAP      ┆ 1.086332  ┆ … ┆ 0.001577  ┆ 0.000988  ┆ 0.003439  ┆ 0.00461  │\n",
       "│ 9_B7A1R1_ ┆           ┆           ┆           ┆   ┆           ┆           ┆           ┆          │\n",
       "│ P3T4      ┆           ┆           ┆           ┆   ┆           ┆           ┆           ┆          │\n",
       "│ 2024_01_1 ┆ L05       ┆ COMP_Thr5 ┆ 1.285733  ┆ … ┆ 0.001532  ┆ 0.00217   ┆ 0.010655  ┆ 0.015623 │\n",
       "│ 7_B7A1R1_ ┆           ┆ 85Arg     ┆           ┆   ┆           ┆           ┆           ┆          │\n",
       "│ P1T3      ┆           ┆           ┆           ┆   ┆           ┆           ┆           ┆          │\n",
       "│ …         ┆ …         ┆ …         ┆ …         ┆ … ┆ …         ┆ …         ┆ …         ┆ …        │\n",
       "│ 2024_01_1 ┆ H06       ┆ KRT6A_Asn ┆ 1.326435  ┆ … ┆ 0.001577  ┆ 0.002053  ┆ 0.005386  ┆ 0.006331 │\n",
       "│ 7_B7A1R1_ ┆           ┆ 171Asp    ┆           ┆   ┆           ┆           ┆           ┆          │\n",
       "│ P2T2      ┆           ┆           ┆           ┆   ┆           ┆           ┆           ┆          │\n",
       "│ 2024_01_2 ┆ F11       ┆ TTPA_Gly2 ┆ 1.263591  ┆ … ┆ 0.00167   ┆ 0.001041  ┆ 0.001779  ┆ 0.006287 │\n",
       "│ 2_B7A1R1_ ┆           ┆ 46Arg     ┆           ┆   ┆           ┆           ┆           ┆          │\n",
       "│ P4T4      ┆           ┆           ┆           ┆   ┆           ┆           ┆           ┆          │\n",
       "│ 2024_02_0 ┆ D13       ┆ PLA2G6    ┆ 0.960816  ┆ … ┆ 0.001336  ┆ 0.000116  ┆ 0.004367  ┆ 0.001955 │\n",
       "│ 2_B8A1R2_ ┆           ┆           ┆           ┆   ┆           ┆           ┆           ┆          │\n",
       "│ P3T4      ┆           ┆           ┆           ┆   ┆           ┆           ┆           ┆          │\n",
       "│ 2024_02_0 ┆ P21       ┆ KLHL3_Cys ┆ 5.01224   ┆ … ┆ 0.001751  ┆ 0.012433  ┆ 0.02456   ┆ 0.054699 │\n",
       "│ 1_B8A1R2_ ┆           ┆ 164Phe    ┆           ┆   ┆           ┆           ┆           ┆          │\n",
       "│ P2T3      ┆           ┆           ┆           ┆   ┆           ┆           ┆           ┆          │\n",
       "│ 2024_01_1 ┆ J12       ┆ KRT86_Glu ┆ 0.913978  ┆ … ┆ 0.001503  ┆ 0.000437  ┆ 0.001026  ┆ 0.003212 │\n",
       "│ 7_B7A1R1_ ┆           ┆ 413Lys    ┆           ┆   ┆           ┆           ┆           ┆          │\n",
       "│ P2T2      ┆           ┆           ┆           ┆   ┆           ┆           ┆           ┆          │\n",
       "└───────────┴───────────┴───────────┴───────────┴───┴───────────┴───────────┴───────────┴──────────┘"
      ]
     },
     "execution_count": 29,
     "metadata": {},
     "output_type": "execute_result"
    }
   ],
   "source": [
    "well_profiles = (\n",
    "    profiles.group_by([\"Metadata_Plate\", \"Metadata_Well\", \"Metadata_gene_allele\"])\n",
    "    .agg(\n",
    "        pl.col(col).median().alias(col)\n",
    "        for col in profiles.columns\n",
    "        if not col.startswith(\"Metadata_\")\n",
    "    )\n",
    "    .filter(pl.col(\"Metadata_gene_allele\").is_in(balanced_class_alleles))\n",
    "    .unique()\n",
    ")\n",
    "\n",
    "well_profiles"
   ]
  },
  {
   "cell_type": "markdown",
   "metadata": {},
   "source": [
    "## 3. Calculate abundance hits\n",
    "\n",
    "Use paired t-test to call abundance hits"
   ]
  },
  {
   "cell_type": "code",
   "execution_count": 32,
   "metadata": {},
   "outputs": [],
   "source": [
    "from scipy.stats import shapiro\n",
    "import re\n",
    "from scipy.stats import wilcoxon\n",
    "from scipy.stats import ttest_rel\n",
    "import pandas as pd\n",
    "\n",
    "\n",
    "# Convert letter rows to numbers\n",
    "def well_to_coordinates(well):\n",
    "    row_letter, col_number = re.match(r\"([A-P])(\\d{2})\", well).groups()\n",
    "    row_index = ord(row_letter) - ord('A') + 1  # Convert 'A'->1, 'B'->2, ..., 'P'->16\n",
    "    col_index = int(col_number)  # Convert string column to integer\n",
    "    return well, row_index, col_index\n",
    "\n",
    "\n",
    "# Compute distances from edges and find the most centered well\n",
    "def compute_distance(row, col):\n",
    "    return min(row - 1, 16 - row, col - 1, 24 - col)  # Distance from nearest edge\n",
    "\n",
    "\n",
    "## Abundance recalculation test: by Cell MeanIntensity\n",
    "def paired_ttest(dat, reference: str, var: str, intensity_type: str=\"Cells_Intensity_IntegratedIntensity_GFP\"):\n",
    "    # pivot to wide: one row per plate\n",
    "    wide_gfp = dat.pivot(index=\"Metadata_Plate\",\n",
    "                        columns=\"Metadata_gene_allele\",\n",
    "                        values=intensity_type)\n",
    "    # drop any plate that doesn’t have both measurements\n",
    "    wide_gfp = wide_gfp.dropna(subset=[reference, var])\n",
    "    if wide_gfp.shape[0] >= 3:\n",
    "        # now run paired t-test\n",
    "        t_stat, p_val = ttest_rel(wide_gfp[reference], wide_gfp[var])\n",
    "    else:\n",
    "        t_stat, p_val = None, None\n",
    "\n",
    "    # ## perform stat test\n",
    "    # dat = dat.dropna().sort_values([\"Metadata_Plate\",\"Metadata_gene_allele\"])\n",
    "    # # Assuming well_abun_stats is a DataFrame with columns 'reference_abundance' and 'variant_abundance'\n",
    "    # reference_abundance = dat[dat[\"Metadata_gene_allele\"]==reference][intensity_type].values\n",
    "    # variant_abundance = dat[dat[\"Metadata_gene_allele\"]==var][intensity_type].values\n",
    "    # t_stat, p_val = ttest_rel(variant_abundance, reference_abundance)\n",
    "    \n",
    "    # Calculate Cohen's d\n",
    "    mean_diff = np.mean(wide_gfp[var]) - np.mean(wide_gfp[reference])\n",
    "    pooled_std = np.sqrt((np.std(wide_gfp[var], ddof=1) ** 2 + np.std(wide_gfp[reference], ddof=1) ** 2) / 2)\n",
    "    cohen_d = mean_diff / pooled_std\n",
    "\n",
    "    summary_df = pl.DataFrame(\n",
    "        {\n",
    "            \"t_stat\": t_stat,\n",
    "            \"p_val\": p_val,\n",
    "            \"cohen_d\": cohen_d\n",
    "        }\n",
    "    )\n",
    "    summary_df = summary_df.with_columns(\n",
    "        pl.lit(reference).alias(\"Gene\"), pl.lit(var).alias(\"Variant\")\n",
    "    )\n",
    "    return summary_df"
   ]
  },
  {
   "cell_type": "code",
   "execution_count": 33,
   "metadata": {},
   "outputs": [
    {
     "name": "stderr",
     "output_type": "stream",
     "text": [
      "100%|██████████| 681/681 [00:03<00:00, 226.67it/s]\n"
     ]
    },
    {
     "data": {
      "text/html": [
       "<div><style>\n",
       ".dataframe > thead > tr,\n",
       ".dataframe > tbody > tr {\n",
       "  text-align: right;\n",
       "  white-space: pre-wrap;\n",
       "}\n",
       "</style>\n",
       "<small>shape: (599, 7)</small><table border=\"1\" class=\"dataframe\"><thead><tr><th>U2OS_t</th><th>p_val</th><th>cohen_d</th><th>Gene</th><th>Variant</th><th>Ref_well</th><th>Var_well</th></tr><tr><td>f64</td><td>f64</td><td>f64</td><td>str</td><td>str</td><td>str</td><td>str</td></tr></thead><tbody><tr><td>-1.536429</td><td>0.168314</td><td>0.694536</td><td>&quot;ACACB&quot;</td><td>&quot;ACACB_Val1611Met&quot;</td><td>&quot;B08&quot;</td><td>&quot;F08&quot;</td></tr><tr><td>-0.243523</td><td>0.814583</td><td>0.08098</td><td>&quot;ACACB&quot;</td><td>&quot;ACACB_Val958Met&quot;</td><td>&quot;B08&quot;</td><td>&quot;D08&quot;</td></tr><tr><td>10.01713</td><td>0.00017</td><td>-2.347347</td><td>&quot;ACSF3&quot;</td><td>&quot;ACSF3_Ala197Thr&quot;</td><td>&quot;A01&quot;</td><td>&quot;C01&quot;</td></tr><tr><td>2.948178</td><td>0.021462</td><td>-0.875841</td><td>&quot;ACSF3&quot;</td><td>&quot;ACSF3_Arg10Trp&quot;</td><td>&quot;A01&quot;</td><td>&quot;C03&quot;</td></tr><tr><td>8.171615</td><td>0.00008</td><td>-2.546632</td><td>&quot;ACSF3&quot;</td><td>&quot;ACSF3_Arg471Trp&quot;</td><td>&quot;A01&quot;</td><td>&quot;G03&quot;</td></tr><tr><td>&hellip;</td><td>&hellip;</td><td>&hellip;</td><td>&hellip;</td><td>&hellip;</td><td>&hellip;</td><td>&hellip;</td></tr><tr><td>1.191583</td><td>0.272253</td><td>-0.57157</td><td>&quot;WRAP53&quot;</td><td>&quot;WRAP53_Arg68Gly&quot;</td><td>&quot;J17&quot;</td><td>&quot;N17&quot;</td></tr><tr><td>7.98476</td><td>0.000092</td><td>-1.878124</td><td>&quot;XPA&quot;</td><td>&quot;XPA_Cys108Phe&quot;</td><td>&quot;P17&quot;</td><td>&quot;B19&quot;</td></tr><tr><td>1.345042</td><td>0.220555</td><td>-0.57783</td><td>&quot;XRCC2&quot;</td><td>&quot;XRCC2_Phe270Val&quot;</td><td>&quot;D19&quot;</td><td>&quot;H19&quot;</td></tr><tr><td>-4.531025</td><td>0.002696</td><td>1.203445</td><td>&quot;ZMYND10&quot;</td><td>&quot;ZMYND10_Arg243Cys&quot;</td><td>&quot;L19&quot;</td><td>&quot;P19&quot;</td></tr><tr><td>2.866676</td><td>0.024106</td><td>-0.841941</td><td>&quot;ZMYND10&quot;</td><td>&quot;ZMYND10_Arg340Gln&quot;</td><td>&quot;L19&quot;</td><td>&quot;N19&quot;</td></tr></tbody></table></div>"
      ],
      "text/plain": [
       "shape: (599, 7)\n",
       "┌───────────┬──────────┬───────────┬─────────┬───────────────────┬──────────┬──────────┐\n",
       "│ U2OS_t    ┆ p_val    ┆ cohen_d   ┆ Gene    ┆ Variant           ┆ Ref_well ┆ Var_well │\n",
       "│ ---       ┆ ---      ┆ ---       ┆ ---     ┆ ---               ┆ ---      ┆ ---      │\n",
       "│ f64       ┆ f64      ┆ f64       ┆ str     ┆ str               ┆ str      ┆ str      │\n",
       "╞═══════════╪══════════╪═══════════╪═════════╪═══════════════════╪══════════╪══════════╡\n",
       "│ -1.536429 ┆ 0.168314 ┆ 0.694536  ┆ ACACB   ┆ ACACB_Val1611Met  ┆ B08      ┆ F08      │\n",
       "│ -0.243523 ┆ 0.814583 ┆ 0.08098   ┆ ACACB   ┆ ACACB_Val958Met   ┆ B08      ┆ D08      │\n",
       "│ 10.01713  ┆ 0.00017  ┆ -2.347347 ┆ ACSF3   ┆ ACSF3_Ala197Thr   ┆ A01      ┆ C01      │\n",
       "│ 2.948178  ┆ 0.021462 ┆ -0.875841 ┆ ACSF3   ┆ ACSF3_Arg10Trp    ┆ A01      ┆ C03      │\n",
       "│ 8.171615  ┆ 0.00008  ┆ -2.546632 ┆ ACSF3   ┆ ACSF3_Arg471Trp   ┆ A01      ┆ G03      │\n",
       "│ …         ┆ …        ┆ …         ┆ …       ┆ …                 ┆ …        ┆ …        │\n",
       "│ 1.191583  ┆ 0.272253 ┆ -0.57157  ┆ WRAP53  ┆ WRAP53_Arg68Gly   ┆ J17      ┆ N17      │\n",
       "│ 7.98476   ┆ 0.000092 ┆ -1.878124 ┆ XPA     ┆ XPA_Cys108Phe     ┆ P17      ┆ B19      │\n",
       "│ 1.345042  ┆ 0.220555 ┆ -0.57783  ┆ XRCC2   ┆ XRCC2_Phe270Val   ┆ D19      ┆ H19      │\n",
       "│ -4.531025 ┆ 0.002696 ┆ 1.203445  ┆ ZMYND10 ┆ ZMYND10_Arg243Cys ┆ L19      ┆ P19      │\n",
       "│ 2.866676  ┆ 0.024106 ┆ -0.841941 ┆ ZMYND10 ┆ ZMYND10_Arg340Gln ┆ L19      ┆ N19      │\n",
       "└───────────┴──────────┴───────────┴─────────┴───────────────────┴──────────┴──────────┘"
      ]
     },
     "execution_count": 33,
     "metadata": {},
     "output_type": "execute_result"
    }
   ],
   "source": [
    "well_abun_stats = []\n",
    "for allele in tqdm(well_profiles.select(pl.col(\"Metadata_gene_allele\")).to_pandas()[\"Metadata_gene_allele\"].unique()):\n",
    "    if allele is None or allele.split(\"_\")[0] == allele:\n",
    "        continue\n",
    "\n",
    "    reference = allele.split(\"_\")[0]\n",
    "    temp_prof = well_profiles.filter(\n",
    "        (pl.col(\"Metadata_gene_allele\") == allele) | (pl.col(\"Metadata_gene_allele\") == reference)\n",
    "    ).to_pandas()\n",
    "    \n",
    "    if (temp_prof[\"Metadata_gene_allele\"].unique().shape[0] < 2):\n",
    "        # print(temp_prof)\n",
    "        continue\n",
    "\n",
    "    var_profiles = temp_prof[temp_prof[\"Metadata_gene_allele\"]==allele]\n",
    "    ref_profiles = temp_prof[(temp_prof[\"Metadata_gene_allele\"]==reference)&(temp_prof[\"Metadata_Plate\"].isin(var_profiles[\"Metadata_Plate\"].unique()))]\n",
    "    temp_prof = pd.concat([var_profiles, ref_profiles])\n",
    "\n",
    "    ref_wells = ref_profiles[\"Metadata_Well\"].unique()\n",
    "    var_wells = var_profiles[\"Metadata_Well\"].unique()\n",
    "    ref_var_pairs = [(ref_well, var_well) for ref_well in ref_wells for var_well in var_wells]\n",
    "    \n",
    "    ## Per each ref-var well pair on the SAME plate, train and test the classifier\n",
    "    for ref_var in ref_var_pairs:\n",
    "        ## sort the wells to make sure they are from the same plate\n",
    "        df_sampled = temp_prof[temp_prof[\"Metadata_Well\"].isin(ref_var)].dropna().sort_values([\"Metadata_Plate\",\"Metadata_gene_allele\"])\n",
    "        paired_t_res = paired_ttest(\n",
    "            dat=df_sampled,\n",
    "            reference=reference,\n",
    "            var=allele\n",
    "        ).with_columns(\n",
    "            pl.lit(ref_var[0]).alias(\"Ref_well\"),\n",
    "            pl.lit(ref_var[1]).alias(\"Var_well\")\n",
    "        )\n",
    "        well_abun_stats.append(\n",
    "            paired_t_res\n",
    "        )\n",
    "\n",
    "well_abun_stats = pl.concat(well_abun_stats, how=\"vertical\")\n",
    "well_abun_stats = well_abun_stats.rename({\"t_stat\": \"U2OS_t\"})\n",
    "well_abun_stats = well_abun_stats.sort([\"Gene\", \"Variant\", \"U2OS_t\", \"p_val\", \"cohen_d\"])\n",
    "well_abun_stats"
   ]
  },
  {
   "cell_type": "code",
   "execution_count": 34,
   "metadata": {},
   "outputs": [],
   "source": [
    "well_abun_stats.write_csv(f\"../../outputs/{COMBINED_BIO_REP_DIR}/well-level_prot-abundance_changes.csv\")"
   ]
  }
 ],
 "metadata": {
  "kernelspec": {
   "display_name": "varchamp",
   "language": "python",
   "name": "python3"
  },
  "language_info": {
   "codemirror_mode": {
    "name": "ipython",
    "version": 3
   },
   "file_extension": ".py",
   "mimetype": "text/x-python",
   "name": "python",
   "nbconvert_exporter": "python",
   "pygments_lexer": "ipython3",
   "version": "3.8.18"
  }
 },
 "nbformat": 4,
 "nbformat_minor": 2
}
