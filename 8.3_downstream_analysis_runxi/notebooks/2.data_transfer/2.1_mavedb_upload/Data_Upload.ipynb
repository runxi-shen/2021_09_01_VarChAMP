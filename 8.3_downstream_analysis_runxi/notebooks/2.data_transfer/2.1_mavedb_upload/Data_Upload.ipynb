{
 "cells": [
  {
   "cell_type": "markdown",
   "id": "b8bae9bc-8f9f-4c32-aabf-da3c94b37a72",
   "metadata": {},
   "source": [
    "# Upload VarChAMP data to MaveDB\n",
    "Runxi Shen (modified from notebook by Jess Ewald)\n",
    "2025-03-06\n",
    "\n",
    "This notebook uploads VarChAMP experiments and score sets from the imaging work to [MaveDB](https://www.mavedb.org/) using the Python API client implemented in [mavetools](https://github.com/VariantEffect/mavetools). "
   ]
  },
  {
   "cell_type": "code",
   "execution_count": 1,
   "id": "62234585-4bb8-4f71-ba5d-2cb1f1900846",
   "metadata": {},
   "outputs": [
    {
     "name": "stdout",
     "output_type": "stream",
     "text": [
      "{\"message\": \"CloudWatch log handler is not enabled. Canonical logs will only be emitted to stdout.\"}\n",
      "{\"message\": \"MaveDB 2025.1.0\"}\n"
     ]
    }
   ],
   "source": [
    "import asyncio\n",
    "import urllib.request\n",
    "import json\n",
    "import csv\n",
    "import os\n",
    "import pandas as pd\n",
    "import polars as pl\n",
    "import requests\n",
    "from fqfa.util.translate import translate_dna\n",
    "from mavehgvs import Variant\n",
    "from mavedb import __version__ as mavedb_version"
   ]
  },
  {
   "cell_type": "markdown",
   "id": "b273edef-46db-44d1-af97-46cc9e1fd641",
   "metadata": {},
   "source": [
    "## Set up API key and endpoint\n",
    "\n",
    "You can view your API key by logging into MaveDB and then visiting the [settings](https://mavedb.org/#/settings) page.\n",
    "Copy the API key here, as this is required by the client to create records and view your private records.\n",
    "You can also set up the API key using an environment variable `MAVEDB_API_KEY`."
   ]
  },
  {
   "cell_type": "code",
   "execution_count": 2,
   "id": "f6edcd50-60c1-4e02-92c8-557b3ea038bb",
   "metadata": {},
   "outputs": [],
   "source": [
    "if \"MAVEDB_API_KEY\" in os.environ:\n",
    "    api_key = os.environ.get(\"MAVEDB_API_KEY\")\n",
    "else:\n",
    "    api_key = \"0NMUIcnAA4CCinU-dqnQ_yAXyW8CSc-KfGtdFVXs1Uo\" ## Runxi\n",
    "    # api_key = \"CHkJSgtKgNs7TxxP2-vWQiEsbhl8yJLOgTcMQ0TIV0Y\" ## Jess's\n",
    "\n",
    "# API URL for the production MaveDB instance\n",
    "api_url = \"https://api.mavedb.org/api/v1/\""
   ]
  },
  {
   "cell_type": "markdown",
   "id": "c0690ea0-d23a-476a-a993-f9cad1f07fb1",
   "metadata": {},
   "source": [
    "If you are having problems with validation, compare the version of the MaveDB data models mavetools is using with the version of MaveDB running on the server you are accessing."
   ]
  },
  {
   "cell_type": "code",
   "execution_count": 3,
   "id": "47e571db-856e-4205-9529-6f21cca899e5",
   "metadata": {},
   "outputs": [
    {
     "name": "stdout",
     "output_type": "stream",
     "text": [
      "API version:       2025.1.1\n",
      "Module version:    2025.1.0\n"
     ]
    }
   ],
   "source": [
    "with urllib.request.urlopen(f\"{api_url}api/version\") as response:\n",
    "    r = response.read()\n",
    "    print(f\"API version:{json.loads(r)['version']:>15}\")\n",
    "print(f\"Module version:{mavedb_version:>12}\")"
   ]
  },
  {
   "cell_type": "markdown",
   "id": "2863bc6e-6c5f-498d-8676-86b52c36a9d9",
   "metadata": {},
   "source": [
    "## Format the input data\n",
    "\n",
    "MaveDB requires data in specific formats, including precisely formatted identifiers and column names. Key changes here are the creation of the \"hgvs_pro\" column, appending the Ensembl IDs (without the version number), adding the target sequences, and reformatting the variant nucleotide changes. Each uploaded score_set file must have a \"score\" column. Also, target (gene) labels may not have any spaces. "
   ]
  },
  {
   "cell_type": "code",
   "execution_count": 55,
   "id": "88e14615",
   "metadata": {},
   "outputs": [],
   "source": [
    "## Jess' code original code for a different version of the data for REFERENCE\n",
    "\n",
    "# dat_info = dat_info.with_columns(\n",
    "#     pl.concat_str([\n",
    "#         pl.col(\"symbol\"),\n",
    "#         pl.lit(\":n.\"),\n",
    "#         pl.col(\"nt_change\")\n",
    "#     ], separator=\"\").alias(\"hgvs_nt\"),\n",
    "#     pl.col(\"ensembl_gene_id\").str.replace(r\"\\..*\", \"\", literal=False).alias(\"ensembl_gene_id\"),\n",
    "#     pl.concat_str([\n",
    "#         pl.col(\"symbol\"),\n",
    "#         pl.col(\"aa_change\")\n",
    "#     ], separator=\"_\").alias(\"Variant\")\n",
    "# ).rename({\"sequence\": \"ref_cds\"})\n",
    "\n",
    "# dat_info = dat_info.with_columns(\n",
    "#     pl.concat_str([\n",
    "#         pl.col(\"symbol\"),\n",
    "#         pl.lit(\":n.\"),\n",
    "#         pl.col(\"nt_change\")\n",
    "#     ], separator=\"\").alias(\"hgvs_nt\"),\n",
    "#     pl.col(\"ensembl_gene_id\").str.replace(r\"\\..*\", \"\", literal=False).alias(\"ensembl_gene_id\"),\n",
    "#     pl.concat_str([\n",
    "#         pl.col(\"symbol\"),\n",
    "#         pl.col(\"aa_change\")\n",
    "#     ], separator=\"_\").alias(\"Variant\")\n",
    "# ).rename({\"sequence\": \"ref_cds\"})\n",
    "\n",
    "# get only gene-level info\n",
    "# gene_info = dat_info.select(\n",
    "#     [\"symbol\", \"ensembl_gene_id\", \"ref_cds\"]\n",
    "# ).unique()"
   ]
  },
  {
   "cell_type": "markdown",
   "id": "5246cf8d",
   "metadata": {},
   "source": [
    "### Some QC\n",
    "\n",
    "Check if there's any duplicated mutations, sequence mismatches, etc."
   ]
  },
  {
   "cell_type": "code",
   "execution_count": 47,
   "id": "c5a68f1e",
   "metadata": {},
   "outputs": [
    {
     "name": "stdout",
     "output_type": "stream",
     "text": [
      "shape: (5, 6)\n",
      "┌─────────────────┬───────────┬─────────────────┬────────────────┬────────────────┬────────────────┐\n",
      "│ variant         ┆ nt_change ┆ ccsb_orf_id     ┆ ensembl_protei ┆ ref_cds        ┆ allele_cds     │\n",
      "│ ---             ┆ ---       ┆ ---             ┆ n_id           ┆ ---            ┆ ---            │\n",
      "│ str             ┆ str       ┆ str             ┆ ---            ┆ str            ┆ str            │\n",
      "│                 ┆           ┆                 ┆ str            ┆                ┆                │\n",
      "╞═════════════════╪═══════════╪═════════════════╪════════════════╪════════════════╪════════════════╡\n",
      "│ ABCD1_Arg518Trp ┆ 1552C>T   ┆ CCSBORF10000863 ┆ ENSP0000021810 ┆ ATGCCGGTGCTCTC ┆ ATGCCGGTGCTCTC │\n",
      "│                 ┆           ┆ 7               ┆ 4.3            ┆ CAGGCCCCGGCCCT ┆ CAGGCCCCGGCCCT │\n",
      "│                 ┆           ┆                 ┆                ┆ GG…            ┆ GG…            │\n",
      "│ ABCD1_Arg389Gly ┆ 1165C>G   ┆ CCSBORF10000863 ┆ ENSP0000021810 ┆ ATGCCGGTGCTCTC ┆ ATGCCGGTGCTCTC │\n",
      "│                 ┆           ┆ 7               ┆ 4.3            ┆ CAGGCCCCGGCCCT ┆ CAGGCCCCGGCCCT │\n",
      "│                 ┆           ┆                 ┆                ┆ GG…            ┆ GG…            │\n",
      "│ ABCD1_Arg518Gln ┆ 1553G>A   ┆ CCSBORF10000863 ┆ ENSP0000021810 ┆ ATGCCGGTGCTCTC ┆ ATGCCGGTGCTCTC │\n",
      "│                 ┆           ┆ 7               ┆ 4.3            ┆ CAGGCCCCGGCCCT ┆ CAGGCCCCGGCCCT │\n",
      "│                 ┆           ┆                 ┆                ┆ GG…            ┆ GG…            │\n",
      "│ BAP1_Ser596Gly  ┆ 1786A>G   ┆ CCSBORF3760     ┆ ENSP0000041713 ┆ ATGAATAAGGGCTG ┆ ATGAATAAGGGCTG │\n",
      "│                 ┆           ┆                 ┆ 2.1            ┆ GCTGGAGCTGGAGA ┆ GCTGGAGCTGGAGA │\n",
      "│                 ┆           ┆                 ┆                ┆ GC…            ┆ GC…            │\n",
      "│ BAP1_Thr423Lys  ┆ 1268C>A   ┆ CCSBORF3760     ┆ ENSP0000041713 ┆ ATGAATAAGGGCTG ┆ ATGAATAAGGGCTG │\n",
      "│                 ┆           ┆                 ┆ 2.1            ┆ GCTGGAGCTGGAGA ┆ GCTGGAGCTGGAGA │\n",
      "│                 ┆           ┆                 ┆                ┆ GC…            ┆ GC…            │\n",
      "└─────────────────┴───────────┴─────────────────┴────────────────┴────────────────┴────────────────┘\n",
      "shape: (5, 8)\n",
      "┌────────────┬───────────┬────────────┬────────────┬────────────┬────────────┬────────┬────────────┐\n",
      "│ Variant    ┆ nt_change ┆ ccsb_orf_i ┆ ensembl_pr ┆ ref_cds    ┆ allele_cds ┆ symbol ┆ hgvs_nt    │\n",
      "│ ---        ┆ ---       ┆ d          ┆ otein_id   ┆ ---        ┆ ---        ┆ ---    ┆ ---        │\n",
      "│ str        ┆ str       ┆ ---        ┆ ---        ┆ str        ┆ str        ┆ str    ┆ str        │\n",
      "│            ┆           ┆ str        ┆ str        ┆            ┆            ┆        ┆            │\n",
      "╞════════════╪═══════════╪════════════╪════════════╪════════════╪════════════╪════════╪════════════╡\n",
      "│ ABCD1_Arg5 ┆ 1552C>T   ┆ CCSBORF100 ┆ ENSP000002 ┆ ATGCCGGTGC ┆ ATGCCGGTGC ┆ ABCD1  ┆ ABCD1:n.15 │\n",
      "│ 18Trp      ┆           ┆ 008637     ┆ 18104      ┆ TCTCCAGGCC ┆ TCTCCAGGCC ┆        ┆ 52C>T      │\n",
      "│            ┆           ┆            ┆            ┆ CCGGCCCTGG ┆ CCGGCCCTGG ┆        ┆            │\n",
      "│            ┆           ┆            ┆            ┆ …          ┆ …          ┆        ┆            │\n",
      "│ ABCD1_Arg3 ┆ 1165C>G   ┆ CCSBORF100 ┆ ENSP000002 ┆ ATGCCGGTGC ┆ ATGCCGGTGC ┆ ABCD1  ┆ ABCD1:n.11 │\n",
      "│ 89Gly      ┆           ┆ 008637     ┆ 18104      ┆ TCTCCAGGCC ┆ TCTCCAGGCC ┆        ┆ 65C>G      │\n",
      "│            ┆           ┆            ┆            ┆ CCGGCCCTGG ┆ CCGGCCCTGG ┆        ┆            │\n",
      "│            ┆           ┆            ┆            ┆ …          ┆ …          ┆        ┆            │\n",
      "│ ABCD1_Arg5 ┆ 1553G>A   ┆ CCSBORF100 ┆ ENSP000002 ┆ ATGCCGGTGC ┆ ATGCCGGTGC ┆ ABCD1  ┆ ABCD1:n.15 │\n",
      "│ 18Gln      ┆           ┆ 008637     ┆ 18104      ┆ TCTCCAGGCC ┆ TCTCCAGGCC ┆        ┆ 53G>A      │\n",
      "│            ┆           ┆            ┆            ┆ CCGGCCCTGG ┆ CCGGCCCTGG ┆        ┆            │\n",
      "│            ┆           ┆            ┆            ┆ …          ┆ …          ┆        ┆            │\n",
      "│ BAP1_Ser59 ┆ 1786A>G   ┆ CCSBORF376 ┆ ENSP000004 ┆ ATGAATAAGG ┆ ATGAATAAGG ┆ BAP1   ┆ BAP1:n.178 │\n",
      "│ 6Gly       ┆           ┆ 0          ┆ 17132      ┆ GCTGGCTGGA ┆ GCTGGCTGGA ┆        ┆ 6A>G       │\n",
      "│            ┆           ┆            ┆            ┆ GCTGGAGAGC ┆ GCTGGAGAGC ┆        ┆            │\n",
      "│            ┆           ┆            ┆            ┆ …          ┆ …          ┆        ┆            │\n",
      "│ BAP1_Thr42 ┆ 1268C>A   ┆ CCSBORF376 ┆ ENSP000004 ┆ ATGAATAAGG ┆ ATGAATAAGG ┆ BAP1   ┆ BAP1:n.126 │\n",
      "│ 3Lys       ┆           ┆ 0          ┆ 17132      ┆ GCTGGCTGGA ┆ GCTGGCTGGA ┆        ┆ 8C>A       │\n",
      "│            ┆           ┆            ┆            ┆ GCTGGAGAGC ┆ GCTGGAGAGC ┆        ┆            │\n",
      "│            ┆           ┆            ┆            ┆ …          ┆ …          ┆        ┆            │\n",
      "└────────────┴───────────┴────────────┴────────────┴────────────┴────────────┴────────┴────────────┘\n"
     ]
    }
   ],
   "source": [
    "dat_info_orig = pl.read_csv(\"./B13-14_alleles_with_mutated_cds.tsv\", separator=\"\\t\", schema_overrides={\"chr\": pl.String})\n",
    "print(dat_info_orig.head())\n",
    "\n",
    "dat_info_orig = dat_info_orig.with_columns(\n",
    "    pl.col(\"variant\").str.split(\"_\").list.first().alias(\"symbol\")\n",
    ").rename({\"variant\": \"Variant\"})\n",
    "\n",
    "dat_info_orig = dat_info_orig.with_columns(\n",
    "    pl.concat_str([\n",
    "        pl.col(\"symbol\"),\n",
    "        pl.lit(\":n.\"),\n",
    "        pl.col(\"nt_change\")\n",
    "    ], separator=\"\").alias(\"hgvs_nt\"),\n",
    "    pl.col(\"ensembl_protein_id\").str.replace(r\"\\..*\", \"\", literal=False).alias(\"ensembl_protein_id\"),\n",
    ")\n",
    "print(dat_info_orig.head())"
   ]
  },
  {
   "cell_type": "code",
   "execution_count": 48,
   "id": "33a4e07f",
   "metadata": {},
   "outputs": [
    {
     "data": {
      "text/html": [
       "<div><style>\n",
       ".dataframe > thead > tr,\n",
       ".dataframe > tbody > tr {\n",
       "  text-align: right;\n",
       "  white-space: pre-wrap;\n",
       "}\n",
       "</style>\n",
       "<small>shape: (14, 8)</small><table border=\"1\" class=\"dataframe\"><thead><tr><th>Variant</th><th>nt_change</th><th>ccsb_orf_id</th><th>ensembl_protein_id</th><th>ref_cds</th><th>allele_cds</th><th>symbol</th><th>hgvs_nt</th></tr><tr><td>str</td><td>str</td><td>str</td><td>str</td><td>str</td><td>str</td><td>str</td><td>str</td></tr></thead><tbody><tr><td>&quot;F9_Glu73Lys&quot;</td><td>&quot;217G&gt;A&quot;</td><td>&quot;CCSBORF52861&quot;</td><td>&quot;ENSP00000218099&quot;</td><td>&quot;ATGCAGCGCGTGAACATGATCATGGCAGAA…</td><td>&quot;ATGCAGCGCGTGAACATGATCATGGCAGAA…</td><td>&quot;F9&quot;</td><td>&quot;F9:n.217G&gt;A&quot;</td></tr><tr><td>&quot;F9_Cys170Tyr&quot;</td><td>&quot;509G&gt;A&quot;</td><td>&quot;CCSBORF52861&quot;</td><td>&quot;ENSP00000218099&quot;</td><td>&quot;ATGCAGCGCGTGAACATGATCATGGCAGAA…</td><td>&quot;ATGCAGCGCGTGAACATGATCATGGCAGAA…</td><td>&quot;F9&quot;</td><td>&quot;F9:n.509G&gt;A&quot;</td></tr><tr><td>&quot;F9_Ile256Thr&quot;</td><td>&quot;767T&gt;C&quot;</td><td>&quot;CCSBORF52861&quot;</td><td>&quot;ENSP00000218099&quot;</td><td>&quot;ATGCAGCGCGTGAACATGATCATGGCAGAA…</td><td>&quot;ATGCAGCGCGTGAACATGATCATGGCAGAA…</td><td>&quot;F9&quot;</td><td>&quot;F9:n.767T&gt;C&quot;</td></tr><tr><td>&quot;F9_Cys124Tyr&quot;</td><td>&quot;509G&gt;A&quot;</td><td>&quot;CCSBORF52861&quot;</td><td>&quot;ENSP00000218099&quot;</td><td>&quot;ATGCAGCGCGTGAACATGATCATGGCAGAA…</td><td>&quot;ATGCAGCGCGTGAACATGATCATGGCAGAA…</td><td>&quot;F9&quot;</td><td>&quot;F9:n.509G&gt;A&quot;</td></tr><tr><td>&quot;F9_Ile210Thr&quot;</td><td>&quot;767T&gt;C&quot;</td><td>&quot;CCSBORF52861&quot;</td><td>&quot;ENSP00000218099&quot;</td><td>&quot;ATGCAGCGCGTGAACATGATCATGGCAGAA…</td><td>&quot;ATGCAGCGCGTGAACATGATCATGGCAGAA…</td><td>&quot;F9&quot;</td><td>&quot;F9:n.767T&gt;C&quot;</td></tr><tr><td>&hellip;</td><td>&hellip;</td><td>&hellip;</td><td>&hellip;</td><td>&hellip;</td><td>&hellip;</td><td>&hellip;</td><td>&hellip;</td></tr><tr><td>&quot;NF2_Gly197Cys&quot;</td><td>&quot;340G&gt;T&quot;</td><td>&quot;CCSBORF3697&quot;</td><td>&quot;ENSP00000340626&quot;</td><td>&quot;ATGGCCGGGGCCATCGCTTCCCGCATGAGC…</td><td>&quot;ATGGCCGGGGCCATCGCTTCCCGCATGAGC…</td><td>&quot;NF2&quot;</td><td>&quot;NF2:n.340G&gt;T&quot;</td></tr><tr><td>&quot;ZC4H2_Pro201Ser&quot;</td><td>&quot;601C&gt;T&quot;</td><td>&quot;CCSBORF4320&quot;</td><td>&quot;ENSP00000363972&quot;</td><td>&quot;ATGGCAGATGAGCAAGAAATCATGTGCAAA…</td><td>&quot;ATGGCAGATGAGCAAGAAATCATGTGCAAA…</td><td>&quot;ZC4H2&quot;</td><td>&quot;ZC4H2:n.601C&gt;T&quot;</td></tr><tr><td>&quot;ZC4H2_Val63Leu&quot;</td><td>&quot;187G&gt;C&quot;</td><td>&quot;CCSBORF4320&quot;</td><td>&quot;ENSP00000363972&quot;</td><td>&quot;ATGGCAGATGAGCAAGAAATCATGTGCAAA…</td><td>&quot;ATGGCAGATGAGCAAGAAATCATGTGCAAA…</td><td>&quot;ZC4H2&quot;</td><td>&quot;ZC4H2:n.187G&gt;C&quot;</td></tr><tr><td>&quot;ZC4H2_Val63Leu&quot;</td><td>&quot;187G&gt;C&quot;</td><td>&quot;CCSBORF4320&quot;</td><td>&quot;ENSP00000363972&quot;</td><td>&quot;ATGGCAGATGAGCAAGAAATCATGTGCAAA…</td><td>&quot;ATGGCAGATGAGCAAGAAATCATGTGCAAA…</td><td>&quot;ZC4H2&quot;</td><td>&quot;ZC4H2:n.187G&gt;C&quot;</td></tr><tr><td>&quot;ZC4H2_Pro201Ser&quot;</td><td>&quot;601C&gt;T&quot;</td><td>&quot;CCSBORF4320&quot;</td><td>&quot;ENSP00000363972&quot;</td><td>&quot;ATGGCAGATGAGCAAGAAATCATGTGCAAA…</td><td>&quot;ATGGCAGATGAGCAAGAAATCATGTGCAAA…</td><td>&quot;ZC4H2&quot;</td><td>&quot;ZC4H2:n.601C&gt;T&quot;</td></tr></tbody></table></div>"
      ],
      "text/plain": [
       "shape: (14, 8)\n",
       "┌────────────┬───────────┬────────────┬────────────┬────────────┬────────────┬────────┬────────────┐\n",
       "│ Variant    ┆ nt_change ┆ ccsb_orf_i ┆ ensembl_pr ┆ ref_cds    ┆ allele_cds ┆ symbol ┆ hgvs_nt    │\n",
       "│ ---        ┆ ---       ┆ d          ┆ otein_id   ┆ ---        ┆ ---        ┆ ---    ┆ ---        │\n",
       "│ str        ┆ str       ┆ ---        ┆ ---        ┆ str        ┆ str        ┆ str    ┆ str        │\n",
       "│            ┆           ┆ str        ┆ str        ┆            ┆            ┆        ┆            │\n",
       "╞════════════╪═══════════╪════════════╪════════════╪════════════╪════════════╪════════╪════════════╡\n",
       "│ F9_Glu73Ly ┆ 217G>A    ┆ CCSBORF528 ┆ ENSP000002 ┆ ATGCAGCGCG ┆ ATGCAGCGCG ┆ F9     ┆ F9:n.217G> │\n",
       "│ s          ┆           ┆ 61         ┆ 18099      ┆ TGAACATGAT ┆ TGAACATGAT ┆        ┆ A          │\n",
       "│            ┆           ┆            ┆            ┆ CATGGCAGAA ┆ CATGGCAGAA ┆        ┆            │\n",
       "│            ┆           ┆            ┆            ┆ …          ┆ …          ┆        ┆            │\n",
       "│ F9_Cys170T ┆ 509G>A    ┆ CCSBORF528 ┆ ENSP000002 ┆ ATGCAGCGCG ┆ ATGCAGCGCG ┆ F9     ┆ F9:n.509G> │\n",
       "│ yr         ┆           ┆ 61         ┆ 18099      ┆ TGAACATGAT ┆ TGAACATGAT ┆        ┆ A          │\n",
       "│            ┆           ┆            ┆            ┆ CATGGCAGAA ┆ CATGGCAGAA ┆        ┆            │\n",
       "│            ┆           ┆            ┆            ┆ …          ┆ …          ┆        ┆            │\n",
       "│ F9_Ile256T ┆ 767T>C    ┆ CCSBORF528 ┆ ENSP000002 ┆ ATGCAGCGCG ┆ ATGCAGCGCG ┆ F9     ┆ F9:n.767T> │\n",
       "│ hr         ┆           ┆ 61         ┆ 18099      ┆ TGAACATGAT ┆ TGAACATGAT ┆        ┆ C          │\n",
       "│            ┆           ┆            ┆            ┆ CATGGCAGAA ┆ CATGGCAGAA ┆        ┆            │\n",
       "│            ┆           ┆            ┆            ┆ …          ┆ …          ┆        ┆            │\n",
       "│ F9_Cys124T ┆ 509G>A    ┆ CCSBORF528 ┆ ENSP000002 ┆ ATGCAGCGCG ┆ ATGCAGCGCG ┆ F9     ┆ F9:n.509G> │\n",
       "│ yr         ┆           ┆ 61         ┆ 18099      ┆ TGAACATGAT ┆ TGAACATGAT ┆        ┆ A          │\n",
       "│            ┆           ┆            ┆            ┆ CATGGCAGAA ┆ CATGGCAGAA ┆        ┆            │\n",
       "│            ┆           ┆            ┆            ┆ …          ┆ …          ┆        ┆            │\n",
       "│ F9_Ile210T ┆ 767T>C    ┆ CCSBORF528 ┆ ENSP000002 ┆ ATGCAGCGCG ┆ ATGCAGCGCG ┆ F9     ┆ F9:n.767T> │\n",
       "│ hr         ┆           ┆ 61         ┆ 18099      ┆ TGAACATGAT ┆ TGAACATGAT ┆        ┆ C          │\n",
       "│            ┆           ┆            ┆            ┆ CATGGCAGAA ┆ CATGGCAGAA ┆        ┆            │\n",
       "│            ┆           ┆            ┆            ┆ …          ┆ …          ┆        ┆            │\n",
       "│ …          ┆ …         ┆ …          ┆ …          ┆ …          ┆ …          ┆ …      ┆ …          │\n",
       "│ NF2_Gly197 ┆ 340G>T    ┆ CCSBORF369 ┆ ENSP000003 ┆ ATGGCCGGGG ┆ ATGGCCGGGG ┆ NF2    ┆ NF2:n.340G │\n",
       "│ Cys        ┆           ┆ 7          ┆ 40626      ┆ CCATCGCTTC ┆ CCATCGCTTC ┆        ┆ >T         │\n",
       "│            ┆           ┆            ┆            ┆ CCGCATGAGC ┆ CCGCATGAGC ┆        ┆            │\n",
       "│            ┆           ┆            ┆            ┆ …          ┆ …          ┆        ┆            │\n",
       "│ ZC4H2_Pro2 ┆ 601C>T    ┆ CCSBORF432 ┆ ENSP000003 ┆ ATGGCAGATG ┆ ATGGCAGATG ┆ ZC4H2  ┆ ZC4H2:n.60 │\n",
       "│ 01Ser      ┆           ┆ 0          ┆ 63972      ┆ AGCAAGAAAT ┆ AGCAAGAAAT ┆        ┆ 1C>T       │\n",
       "│            ┆           ┆            ┆            ┆ CATGTGCAAA ┆ CATGTGCAAA ┆        ┆            │\n",
       "│            ┆           ┆            ┆            ┆ …          ┆ …          ┆        ┆            │\n",
       "│ ZC4H2_Val6 ┆ 187G>C    ┆ CCSBORF432 ┆ ENSP000003 ┆ ATGGCAGATG ┆ ATGGCAGATG ┆ ZC4H2  ┆ ZC4H2:n.18 │\n",
       "│ 3Leu       ┆           ┆ 0          ┆ 63972      ┆ AGCAAGAAAT ┆ AGCAAGAAAT ┆        ┆ 7G>C       │\n",
       "│            ┆           ┆            ┆            ┆ CATGTGCAAA ┆ CATGTGCAAA ┆        ┆            │\n",
       "│            ┆           ┆            ┆            ┆ …          ┆ …          ┆        ┆            │\n",
       "│ ZC4H2_Val6 ┆ 187G>C    ┆ CCSBORF432 ┆ ENSP000003 ┆ ATGGCAGATG ┆ ATGGCAGATG ┆ ZC4H2  ┆ ZC4H2:n.18 │\n",
       "│ 3Leu       ┆           ┆ 0          ┆ 63972      ┆ AGCAAGAAAT ┆ AGCAAGAAAT ┆        ┆ 7G>C       │\n",
       "│            ┆           ┆            ┆            ┆ CATGTGCAAA ┆ CATGTGCAAA ┆        ┆            │\n",
       "│            ┆           ┆            ┆            ┆ …          ┆ …          ┆        ┆            │\n",
       "│ ZC4H2_Pro2 ┆ 601C>T    ┆ CCSBORF432 ┆ ENSP000003 ┆ ATGGCAGATG ┆ ATGGCAGATG ┆ ZC4H2  ┆ ZC4H2:n.60 │\n",
       "│ 01Ser      ┆           ┆ 0          ┆ 63972      ┆ AGCAAGAAAT ┆ AGCAAGAAAT ┆        ┆ 1C>T       │\n",
       "│            ┆           ┆            ┆            ┆ CATGTGCAAA ┆ CATGTGCAAA ┆        ┆            │\n",
       "│            ┆           ┆            ┆            ┆ …          ┆ …          ┆        ┆            │\n",
       "└────────────┴───────────┴────────────┴────────────┴────────────┴────────────┴────────┴────────────┘"
      ]
     },
     "execution_count": 48,
     "metadata": {},
     "output_type": "execute_result"
    }
   ],
   "source": [
    "dat_info_orig.filter(pl.col(\"hgvs_nt\").is_duplicated())"
   ]
  },
  {
   "cell_type": "code",
   "execution_count": 49,
   "id": "13748518",
   "metadata": {},
   "outputs": [
    {
     "name": "stdout",
     "output_type": "stream",
     "text": [
      "Original annotations: F9_Cys124Tyr 509G>A\n",
      "Actual Nuc Ref:G, Var:A | Actual Prot Ref:Glu, Var:Glu\n",
      "========================================================\n",
      "Original annotations: F9_Ile210Thr 767T>C\n",
      "Actual Nuc Ref:T, Var:C | Actual Prot Ref:Ile, Var:Ile\n",
      "========================================================\n",
      "Original annotations: F9_Glu27Lys 217G>A\n",
      "Actual Nuc Ref:G, Var:A | Actual Prot Ref:Glu, Var:Glu\n",
      "========================================================\n",
      "Original annotations: NF2_Arg418Cys 1003C>T\n",
      "Actual Nuc Ref:C, Var:T | Actual Prot Ref:Ile, Var:Ile\n",
      "========================================================\n",
      "NF2_Leu535Pro 1355T>C | Protein seq len ONLY: 507\n",
      "========================================================\n",
      "Original annotations: NF2_Gly197Cys 340G>T\n",
      "Actual Nuc Ref:G, Var:T | Actual Prot Ref:Ile, Var:Ile\n",
      "========================================================\n"
     ]
    }
   ],
   "source": [
    "from Bio.Seq import Seq\n",
    "aa_single_to_three = {\n",
    "    'A': 'Ala',  # Alanine\n",
    "    'R': 'Arg',  # Arginine\n",
    "    'N': 'Asn',  # Asparagine\n",
    "    'D': 'Asp',  # Aspartic acid\n",
    "    'C': 'Cys',  # Cysteine\n",
    "    'Q': 'Gln',  # Glutamine\n",
    "    'E': 'Glu',  # Glutamic acid\n",
    "    'G': 'Gly',  # Glycine\n",
    "    'H': 'His',  # Histidine\n",
    "    'I': 'Ile',  # Isoleucine\n",
    "    'L': 'Leu',  # Leucine\n",
    "    'K': 'Lys',  # Lysine\n",
    "    'M': 'Met',  # Methionine\n",
    "    'F': 'Phe',  # Phenylalanine\n",
    "    'P': 'Pro',  # Proline\n",
    "    'S': 'Ser',  # Serine\n",
    "    'T': 'Thr',  # Threonine\n",
    "    'W': 'Trp',  # Tryptophan\n",
    "    'Y': 'Tyr',  # Tyrosine\n",
    "    'V': 'Val'   # Valine\n",
    "}\n",
    "\n",
    "for row in dat_info_orig.iter_rows(named=True): #.filter(pl.col(\"hgvs_nt\").is_duplicated()).sort(by=\"hgvs_nt\")\n",
    "    # hgvs_df = dat_info.filter(pl.col(\"hgvs_nt\")==hgvs_nt)\n",
    "    nuc_pos = int(row[\"nt_change\"][:-3])\n",
    "    nuc_r, nuc_v = row[\"nt_change\"].split(\">\")[0][-1], row[\"nt_change\"].split(\">\")[-1][-1]\n",
    "\n",
    "    nuc_ref, nuc_var = row[\"ref_cds\"][nuc_pos-1], row[\"allele_cds\"][nuc_pos-1]\n",
    "    \n",
    "    # print(nuc_r, nuc_v, nuc_ref, nuc_var)\n",
    "\n",
    "    prot_pos = int(row[\"Variant\"].split('_')[1][3:-3])\n",
    "    prot_r, prot_v = row[\"Variant\"].split('_')[1][:3], row[\"Variant\"].split('_')[1][-3:]\n",
    "    prot_ref_seq = Seq(row[\"ref_cds\"]).translate()\n",
    "    prot_var_seq = Seq(row[\"allele_cds\"]).translate()\n",
    "    try:\n",
    "        prot_ref, prot_var = aa_single_to_three[prot_ref_seq[prot_pos-1]], aa_single_to_three[prot_var_seq[prot_pos-1]]\n",
    "        # print(prot_r, prot_v, prot_ref, prot_var)\n",
    "\n",
    "        if nuc_r != nuc_ref or nuc_v != nuc_var or prot_r != prot_ref or prot_v != prot_var:\n",
    "            print(\"Original annotations:\", row[\"Variant\"], row[\"nt_change\"])\n",
    "            print(f\"Actual Nuc Ref:{nuc_ref}, Var:{nuc_var} | \" + \\\n",
    "                f\"Actual Prot Ref:{prot_ref}, Var:{prot_var}\")\n",
    "            print(\"========================================================\")\n",
    "    except:\n",
    "        print(row[\"Variant\"], row[\"nt_change\"], \"| Protein seq len ONLY:\", len(prot_ref_seq))\n",
    "        print(\"========================================================\")\n",
    "    # break"
   ]
  },
  {
   "cell_type": "markdown",
   "id": "2f22fd22",
   "metadata": {},
   "source": [
    "### Updated file is here"
   ]
  },
  {
   "cell_type": "code",
   "execution_count": 58,
   "id": "07a71c09",
   "metadata": {},
   "outputs": [],
   "source": [
    "dat_info = pl.read_csv(\"./B13-14_metadata_update_cleaned_TH.csv\", separator=\"\\t\", schema_overrides={\"chr\": pl.String})\n",
    "# print(dat_info.head())\n",
    "\n",
    "dat_info = dat_info.rename({\"gene_allele\": \"Variant\"})\n",
    "\n",
    "dat_info = dat_info.with_columns(\n",
    "    pl.concat_str([\n",
    "        pl.col(\"symbol\"),\n",
    "        pl.lit(\":n.\"),\n",
    "        pl.col(\"nt_change_cdna\")\n",
    "    ], separator=\"\").alias(\"hgvs_nt\"),\n",
    "    pl.col(\"ensembl_protein_id\").str.replace(r\"\\..*\", \"\", literal=False).alias(\"ensembl_protein_id\"),\n",
    ")\n",
    "\n",
    "dat_info_var = dat_info.filter((pl.col(\"ccsb_mutation_id_orig\")==pl.col(\"ccsb_mutation_id\"))&(~pl.col(\"ccsb_mutation_id\").is_null()))\n",
    "dat_info_var = dat_info_var.unique(subset=[\"symbol\",\"Variant\",\"hgvs_nt\"])"
   ]
  },
  {
   "cell_type": "code",
   "execution_count": 59,
   "id": "01d157eb",
   "metadata": {},
   "outputs": [
    {
     "data": {
      "text/html": [
       "<div><style>\n",
       ".dataframe > thead > tr,\n",
       ".dataframe > tbody > tr {\n",
       "  text-align: right;\n",
       "  white-space: pre-wrap;\n",
       "}\n",
       "</style>\n",
       "<small>shape: (0, 16)</small><table border=\"1\" class=\"dataframe\"><thead><tr><th>symbol</th><th>gene_allele_orig</th><th>Variant</th><th>dest_plate</th><th>dest_well</th><th>orf_id_wt</th><th>ccsb_mutation_id_orig</th><th>ccsb_mutation_id</th><th>nt_change_cdna</th><th>ref</th><th>alt</th><th>pos</th><th>aa_change_orig</th><th>aa_change</th><th>ensembl_protein_id</th><th>hgvs_nt</th></tr><tr><td>str</td><td>str</td><td>str</td><td>str</td><td>str</td><td>i64</td><td>str</td><td>str</td><td>str</td><td>str</td><td>str</td><td>str</td><td>str</td><td>str</td><td>str</td><td>str</td></tr></thead><tbody></tbody></table></div>"
      ],
      "text/plain": [
       "shape: (0, 16)\n",
       "┌────────┬─────────────┬─────────┬────────────┬───┬─────────────┬───────────┬────────────┬─────────┐\n",
       "│ symbol ┆ gene_allele ┆ Variant ┆ dest_plate ┆ … ┆ aa_change_o ┆ aa_change ┆ ensembl_pr ┆ hgvs_nt │\n",
       "│ ---    ┆ _orig       ┆ ---     ┆ ---        ┆   ┆ rig         ┆ ---       ┆ otein_id   ┆ ---     │\n",
       "│ str    ┆ ---         ┆ str     ┆ str        ┆   ┆ ---         ┆ str       ┆ ---        ┆ str     │\n",
       "│        ┆ str         ┆         ┆            ┆   ┆ str         ┆           ┆ str        ┆         │\n",
       "╞════════╪═════════════╪═════════╪════════════╪═══╪═════════════╪═══════════╪════════════╪═════════╡\n",
       "└────────┴─────────────┴─────────┴────────────┴───┴─────────────┴───────────┴────────────┴─────────┘"
      ]
     },
     "execution_count": 59,
     "metadata": {},
     "output_type": "execute_result"
    }
   ],
   "source": [
    "dat_info_var.filter(pl.col(\"hgvs_nt\").is_duplicated())"
   ]
  },
  {
   "cell_type": "code",
   "execution_count": 60,
   "id": "1976996f",
   "metadata": {},
   "outputs": [
    {
     "data": {
      "text/html": [
       "<div><style>\n",
       ".dataframe > thead > tr,\n",
       ".dataframe > tbody > tr {\n",
       "  text-align: right;\n",
       "  white-space: pre-wrap;\n",
       "}\n",
       "</style>\n",
       "<small>shape: (28, 3)</small><table border=\"1\" class=\"dataframe\"><thead><tr><th>symbol</th><th>ensembl_protein_id</th><th>ref_cds</th></tr><tr><td>str</td><td>str</td><td>str</td></tr></thead><tbody><tr><td>&quot;PTPN11&quot;</td><td>&quot;ENSP00000376376&quot;</td><td>&quot;ATGACATCGCGGAGATGGTTTCACCCAAAT…</td></tr><tr><td>&quot;BRAF&quot;</td><td>&quot;ENSP00000493543&quot;</td><td>&quot;ATGGCGGCGCTGAGCGGTGGCGGTGGTGGC…</td></tr><tr><td>&quot;BAP1&quot;</td><td>&quot;ENSP00000417132&quot;</td><td>&quot;ATGAATAAGGGCTGGCTGGAGCTGGAGAGC…</td></tr><tr><td>&quot;CCM2&quot;</td><td>&quot;ENSP00000258781&quot;</td><td>&quot;ATGGAAGAGGAGGGCAAGAAGGGCAAGAAG…</td></tr><tr><td>&quot;KRAS&quot;</td><td>&quot;ENSP00000308495&quot;</td><td>&quot;ATGACTGAATATAAACTTGTGGTAGTTGGA…</td></tr><tr><td>&hellip;</td><td>&hellip;</td><td>&hellip;</td></tr><tr><td>&quot;RET&quot;</td><td>&quot;ENSP00000480088&quot;</td><td>&quot;ATGGCGAAGGCGACGTCCGGTGCCGCGGGG…</td></tr><tr><td>&quot;BCL10&quot;</td><td>&quot;ENSP00000498104&quot;</td><td>&quot;ATGGAGCCCACCGCACCGTCCCTCACCGAG…</td></tr><tr><td>&quot;RHO&quot;</td><td>&quot;ENSP00000296271&quot;</td><td>&quot;ATGAATGGCACAGAAGGCCCTAACTTCTAC…</td></tr><tr><td>&quot;BRIP1&quot;</td><td>&quot;ENSP00000259008&quot;</td><td>&quot;ATGTCTTCAATGTGGTCTGAATATACAATT…</td></tr><tr><td>&quot;FH&quot;</td><td>&quot;ENSP00000355518&quot;</td><td>&quot;ATGTACCGAGCACTTCGGCTCCTCGCGCGC…</td></tr></tbody></table></div>"
      ],
      "text/plain": [
       "shape: (28, 3)\n",
       "┌────────┬────────────────────┬─────────────────────────────────┐\n",
       "│ symbol ┆ ensembl_protein_id ┆ ref_cds                         │\n",
       "│ ---    ┆ ---                ┆ ---                             │\n",
       "│ str    ┆ str                ┆ str                             │\n",
       "╞════════╪════════════════════╪═════════════════════════════════╡\n",
       "│ PTPN11 ┆ ENSP00000376376    ┆ ATGACATCGCGGAGATGGTTTCACCCAAAT… │\n",
       "│ BRAF   ┆ ENSP00000493543    ┆ ATGGCGGCGCTGAGCGGTGGCGGTGGTGGC… │\n",
       "│ BAP1   ┆ ENSP00000417132    ┆ ATGAATAAGGGCTGGCTGGAGCTGGAGAGC… │\n",
       "│ CCM2   ┆ ENSP00000258781    ┆ ATGGAAGAGGAGGGCAAGAAGGGCAAGAAG… │\n",
       "│ KRAS   ┆ ENSP00000308495    ┆ ATGACTGAATATAAACTTGTGGTAGTTGGA… │\n",
       "│ …      ┆ …                  ┆ …                               │\n",
       "│ RET    ┆ ENSP00000480088    ┆ ATGGCGAAGGCGACGTCCGGTGCCGCGGGG… │\n",
       "│ BCL10  ┆ ENSP00000498104    ┆ ATGGAGCCCACCGCACCGTCCCTCACCGAG… │\n",
       "│ RHO    ┆ ENSP00000296271    ┆ ATGAATGGCACAGAAGGCCCTAACTTCTAC… │\n",
       "│ BRIP1  ┆ ENSP00000259008    ┆ ATGTCTTCAATGTGGTCTGAATATACAATT… │\n",
       "│ FH     ┆ ENSP00000355518    ┆ ATGTACCGAGCACTTCGGCTCCTCGCGCGC… │\n",
       "└────────┴────────────────────┴─────────────────────────────────┘"
      ]
     },
     "execution_count": 60,
     "metadata": {},
     "output_type": "execute_result"
    }
   ],
   "source": [
    "# get only gene-level info\n",
    "gene_info = dat_info.select(\n",
    "    [\"symbol\", \"ensembl_protein_id\"] ## , \"ref_cds\"\n",
    ").unique()\n",
    "\n",
    "gene_info = gene_info.join(dat_info_orig.select([\"ensembl_protein_id\", \"ref_cds\"]).unique(), on=\"ensembl_protein_id\")\n",
    "gene_info"
   ]
  },
  {
   "cell_type": "markdown",
   "id": "c1932ebc",
   "metadata": {},
   "source": [
    "We decided that there will be a separate scoreSet for each measurement, so here we keep the localization and abundance scores separate. Each table must have an \"hgvs_nt\" column and a \"score\" column. There can be additional columns that provide complementary stats for the \"score\" (ie. p-value, confidence interval, etc)."
   ]
  },
  {
   "cell_type": "code",
   "execution_count": 61,
   "id": "779edf7c",
   "metadata": {},
   "outputs": [
    {
     "name": "stdout",
     "output_type": "stream",
     "text": [
      "shape: (593, 2)\n",
      "┌─────────────────┬─────────────────┐\n",
      "│ Variant         ┆ hgvs_nt         │\n",
      "│ ---             ┆ ---             │\n",
      "│ str             ┆ str             │\n",
      "╞═════════════════╪═════════════════╡\n",
      "│ CCM2_Val190Met  ┆ CCM2:n.568G>A   │\n",
      "│ FH_Ala308Thr    ┆ FH:n.922G>A     │\n",
      "│ CCM2_Ile432Thr  ┆ CCM2:n.1295T>C  │\n",
      "│ ABCD1_Arg518Gln ┆ ABCD1:n.1553G>A │\n",
      "│ BRCA1_Pro510Ser ┆ BRCA1:n.1528C>T │\n",
      "│ …               ┆ …               │\n",
      "│ CCM2_Val374Met  ┆ CCM2:n.1120G>A  │\n",
      "│ FARS2_His84Pro  ┆ FARS2:n.251A>C  │\n",
      "│ BRAF_Val487Gly  ┆ BRAF:n.1460T>G  │\n",
      "│ G6PD_Ala149Thr  ┆ G6PD:n.445G>A   │\n",
      "│ MSH2_Ser699Pro  ┆ MSH2:n.2095T>C  │\n",
      "└─────────────────┴─────────────────┘\n"
     ]
    }
   ],
   "source": [
    "# Format abundance and localization data\n",
    "var_info = dat_info_var.select([\n",
    "    \"Variant\", \"hgvs_nt\"\n",
    "])\n",
    "print(var_info)"
   ]
  },
  {
   "cell_type": "code",
   "execution_count": 62,
   "id": "58a5243a",
   "metadata": {},
   "outputs": [
    {
     "name": "stdout",
     "output_type": "stream",
     "text": [
      "shape: (447, 3)\n",
      "┌─────────────────┬──────────┬─────────────────────┐\n",
      "│ hgvs_nt         ┆ score    ┆ Mislocalization_hit │\n",
      "│ ---             ┆ ---      ┆ ---                 │\n",
      "│ str             ┆ f64      ┆ bool                │\n",
      "╞═════════════════╪══════════╪═════════════════════╡\n",
      "│ CCM2:n.568G>A   ┆ 0.803612 ┆ false               │\n",
      "│ FH:n.922G>A     ┆ 0.946719 ┆ true                │\n",
      "│ CCM2:n.1295T>C  ┆ 0.986383 ┆ true                │\n",
      "│ ABCD1:n.1553G>A ┆ 0.728458 ┆ false               │\n",
      "│ BRCA1:n.1528C>T ┆ 0.645235 ┆ false               │\n",
      "│ …               ┆ …        ┆ …                   │\n",
      "│ CCM2:n.1177A>G  ┆ 0.787021 ┆ false               │\n",
      "│ CCM2:n.1120G>A  ┆ 0.66408  ┆ false               │\n",
      "│ BRAF:n.1460T>G  ┆ 0.669995 ┆ false               │\n",
      "│ G6PD:n.445G>A   ┆ 0.98663  ┆ true                │\n",
      "│ MSH2:n.2095T>C  ┆ 0.80533  ┆ false               │\n",
      "└─────────────────┴──────────┴─────────────────────┘\n",
      "shape: (447, 3)\n",
      "┌─────────────────┬──────────┬──────────────────────────┐\n",
      "│ hgvs_nt         ┆ score    ┆ Morphological_change_hit │\n",
      "│ ---             ┆ ---      ┆ ---                      │\n",
      "│ str             ┆ f64      ┆ bool                     │\n",
      "╞═════════════════╪══════════╪══════════════════════════╡\n",
      "│ CCM2:n.568G>A   ┆ 0.756499 ┆ false                    │\n",
      "│ FH:n.922G>A     ┆ 0.695432 ┆ false                    │\n",
      "│ CCM2:n.1295T>C  ┆ 0.631154 ┆ false                    │\n",
      "│ ABCD1:n.1553G>A ┆ 0.742313 ┆ false                    │\n",
      "│ BRCA1:n.1528C>T ┆ 0.973084 ┆ true                     │\n",
      "│ …               ┆ …        ┆ …                        │\n",
      "│ CCM2:n.1177A>G  ┆ 0.797133 ┆ false                    │\n",
      "│ CCM2:n.1120G>A  ┆ 0.765138 ┆ false                    │\n",
      "│ BRAF:n.1460T>G  ┆ 0.673611 ┆ false                    │\n",
      "│ G6PD:n.445G>A   ┆ 0.720584 ┆ false                    │\n",
      "│ MSH2:n.2095T>C  ┆ 0.607361 ┆ false                    │\n",
      "└─────────────────┴──────────┴──────────────────────────┘\n"
     ]
    }
   ],
   "source": [
    "# Reformat localization\n",
    "local = (\n",
    "    pl.read_csv(\"/home/shenrunx/igvf/varchamp/2021_09_01_VarChAMP/7.analysis_runxi/output/classify_reimplement/classification_results/2025_01_Batch13-14/je_wAGP/misloc_summary_auroc.csv\")\n",
    ").rename({\"allele_0\": \"Variant\"})\n",
    "\n",
    "# Get the Variant values in local but not in var_info\n",
    "variants_not_in_var_info = local.join(var_info, on=\"Variant\", how=\"anti\").select(\"Variant\")\n",
    "variants_not_in_var_info\n",
    "\n",
    "variants_in_var_info = local.join(var_info, on=\"Variant\", how=\"inner\").select(\"Variant\")\n",
    "variants_in_var_info\n",
    "\n",
    "local = local.join(\n",
    "    var_info, on=\"Variant\"\n",
    ").select([\"hgvs_nt\", \"mean_auroc\", \"mislocalized_both_batches\"]).rename({\n",
    "    \"mislocalized_both_batches\": \"Mislocalization_hit\",\n",
    "    \"mean_auroc\": \"score\",\n",
    "})\n",
    "print(local)\n",
    "\n",
    "## Reformat localization\n",
    "morph = pl.read_csv(\"/home/shenrunx/igvf/varchamp/2021_09_01_VarChAMP/7.analysis_runxi/output/classify_reimplement/classification_results/2025_01_Batch13-14/je_wAGP/morph_summary_auroc.csv\")\n",
    "morph = morph.rename({\"allele_0\": \"Variant\"}).join(\n",
    "    var_info, on=\"Variant\"\n",
    ").select([\"hgvs_nt\", \"mean_auroc\", \"morphological_change_both_batches\"]).rename({\n",
    "    \"morphological_change_both_batches\": \"Morphological_change_hit\",\n",
    "    \"mean_auroc\": \"score\",\n",
    "    })\n",
    "print(morph)\n",
    "\n",
    "## Reformat abundance\n",
    "abun = pl.read_csv(\"/home/shenrunx/igvf/varchamp/2021_09_01_VarChAMP/7.analysis_runxi/output/classify_reimplement/classification_results/2025_01_Batch13-14/je_wAGP/well-level_abundance_changes.csv\").join(\n",
    "    var_info, on=\"Variant\"\n",
    ").select([\"hgvs_nt\", \"U2OS_t\"]).rename({\"U2OS_t\": \"score\"})\n",
    "abun\n",
    "\n",
    "## write out scores\n",
    "local.write_csv(\"./varchamp_data/batch13_14/localization_scores.csv\")\n",
    "morph.write_csv(\"./varchamp_data/batch13_14/morphological_change_scores.csv\")\n",
    "abun.write_csv(\"./varchamp_data/batch13_14/abundance_scores.csv\")"
   ]
  },
  {
   "cell_type": "markdown",
   "id": "64c3e01b",
   "metadata": {},
   "source": [
    "## Format experiment and dataset entries\n",
    "\n",
    "MaveDB requires several pieces of text metadata for each record (see the [upload guide](https://www.mavedb.org/docs/mavedb/upload_guide.html)). These functions populate all of the key fields required to characterize the VarChAMP data. We decided that there will be one \"experimentSet\" for each large batch of submitted data. The \"method_text\" field in format_experiment function describes the basic wet lab protocol used to generate the data. "
   ]
  },
  {
   "cell_type": "code",
   "execution_count": 63,
   "id": "3d8b3ae7-a44c-4e17-91c6-a3b8062c8299",
   "metadata": {},
   "outputs": [],
   "source": [
    "def format_experiment(experiment_set_urn=None):\n",
    "    date = \"January_2025\"\n",
    "    dataset = {\n",
    "        \"title\" : f\"VarChAMP_Imaging_{date}\",\n",
    "        \"short_description\" : \"Protein localization & abundance and cell morphological changes from images of cells.\",\n",
    "        \"abstract_text\" : \"This study measured protein subcellular localization and abundance, and cell morphological changes using fluorescence microscopy.\",\n",
    "        \"method_text\" : \"Entry clones of alleles were transferred using Gateway technology into a mammalian expression pLenti6.2 plasmid containing a C-terminal mNeonGreen fusion (plasmid modified from Addgene 87075). Inserts were verified by restriction digestion and clones that did not produce the expected digestion pattern were omitted from further analysis. Lentiviral constructs were packaged in HEK 293T cells seeded in 96-well plates, then viral supernatant was transferred to spinfect U2OS cells seeded in 384-well plates (4x technical replicates were performed by administering the same viral supernatant to 4 different wells, all viral production and infection was repeated for on a separate day 2x biological replicates). 48 hrs following infection, cells were selected for infection and protein overexpression by applying puromycin for 48 hrs. Cells were then stained with 500 nM MitoTracker Deep Red 1 hr prior to paraformaldehyde fixation. Blocking, permeabilization and staining (8.25 nM Alexa Fluor™ 568 Phalloidin, 1 ug/mL Hoechst 33342, 1.5 ug/mL WGA Alexa Fluor 555) was then performed in one step. All confocal images were captured on a Perkin Elmer Opera Phenix Microscope (20X water objective, 384 wells, 9 fields).\",\n",
    "        \"extra_metadata\" : {},\n",
    "        \"primary_publication_identifiers\" : [],\n",
    "        \"raw_read_identifiers\" : [],\n",
    "    }\n",
    "    if experiment_set_urn:  # add to an existing experiment set\n",
    "        dataset[\"experiment_set_urn\"] = experiment_set_urn\n",
    "    return dataset"
   ]
  },
  {
   "cell_type": "markdown",
   "id": "62031805",
   "metadata": {},
   "source": [
    "The next two functions format each of the scoreSet submissions. Here, the \"method_text\" describes the data processing pipeline used to compute the submitted scores. The \"label\" field for each target_sequence must match the hgvs_nt prefix for the variants to map properly. "
   ]
  },
  {
   "cell_type": "code",
   "execution_count": 64,
   "id": "5be2bf20-e1b7-4522-8b06-30bba3cecfa1",
   "metadata": {},
   "outputs": [],
   "source": [
    "def format_localization_score_set(gene_info, experiment_urn):\n",
    "    date = \"January_2025\"\n",
    "    target_genes = [\n",
    "        {\n",
    "            \"name\": row[\"symbol\"],\n",
    "            \"category\": \"protein_coding\",\n",
    "            \"external_identifiers\": [\n",
    "                {\n",
    "                    \"identifier\": {\n",
    "                        \"dbName\": \"Ensembl\",\n",
    "                        \"identifier\": row[\"ensembl_protein_id\"]\n",
    "                    },\n",
    "                    'offset': 0,\n",
    "                },\n",
    "            ],\n",
    "            \"target_sequence\": {\n",
    "                \"sequence\": row[\"ref_cds\"],\n",
    "                \"sequence_type\": \"dna\",\n",
    "                \"taxonomy\": {\n",
    "                    \"tax_id\": 9606,\n",
    "                },\n",
    "                \"label\": row[\"symbol\"] # THIS MUST MATCH THE PREFIX IN THE hgvs_nt COLUMN OF THE SCORE SET\n",
    "            },\n",
    "        }\n",
    "        for row in gene_info.to_dicts()\n",
    "    ]\n",
    "\n",
    "    dataset = {\n",
    "        \"title\": f\"VarChAMP_Imaging_Localization_{date}\",\n",
    "        \"short_description\": \"Protein localization from images of cells.\",\n",
    "        \"abstract_text\": (\n",
    "            \"This study measured protein subcellular localization using fluorescence microscopy.\"\n",
    "        ),\n",
    "        \"method_text\": (\n",
    "            \"We used CellProfiler to create morphological profiles of single cells using images from the protein channel (GFP). \"\n",
    "            \"Profiles were filtered to remove features with low variance or missing values, and were MAD-normalized within each plate. \"\n",
    "            \"Cells with abnormal cytoplasm:nucleoplasm area ratios or with median GFP intensities > 5 MAD from the median were filtered out. \"\n",
    "            \"A binary XGBoost classifier was trained to distinguish single-cell profiles for each reference-variant pair, with 4-fold cross-validation and data splits by plate. \"\n",
    "            \"Binary XGBoost classifiers were also trained between all possible pairs of control wells that were repeated on each plate, to quantify the well position effect. \"\n",
    "            \"Reference-variant classifier AUROC values were compared to the technical well position null AUROC values to determine which ones showed evidence from differences in the protein channel that exceeded technical artifacts. \"\n",
    "            \"These 'hits' were considered variants that cause protein mislocalization. \"\n",
    "        ),\n",
    "        \"extra_metadata\": {},\n",
    "        \"primary_publication_identifiers\": [],\n",
    "        \"experiment_urn\": experiment_urn,\n",
    "        \"license_id\": 1,\n",
    "        \"target_genes\": target_genes,\n",
    "    }\n",
    "\n",
    "    return dataset\n"
   ]
  },
  {
   "cell_type": "code",
   "execution_count": 65,
   "id": "ed2f70a7",
   "metadata": {},
   "outputs": [],
   "source": [
    "def format_morphological_change_score_set(gene_info, experiment_urn):\n",
    "    date = \"January_2025\"\n",
    "    target_genes = [\n",
    "        {\n",
    "            \"name\": row[\"symbol\"],\n",
    "            \"category\": \"protein_coding\",\n",
    "            \"external_identifiers\": [\n",
    "                {\n",
    "                    \"identifier\": {\n",
    "                        \"dbName\": \"Ensembl\",\n",
    "                        \"identifier\": row[\"ensembl_protein_id\"]\n",
    "                    },\n",
    "                    'offset': 0,\n",
    "                },\n",
    "            ],\n",
    "            \"target_sequence\": {\n",
    "                \"sequence\": row[\"ref_cds\"],\n",
    "                \"sequence_type\": \"dna\",\n",
    "                \"taxonomy\": {\n",
    "                    \"tax_id\": 9606,\n",
    "                },\n",
    "                \"label\": row[\"symbol\"] # THIS MUST MATCH THE PREFIX IN THE hgvs_nt COLUMN OF THE SCORE SET\n",
    "            },\n",
    "        }\n",
    "        for row in gene_info.to_dicts()\n",
    "    ]\n",
    "\n",
    "    dataset = {\n",
    "        \"title\": f\"VarChAMP_Imaging_Morphological_Change_{date}\",\n",
    "        \"short_description\": \"Cell morphological changes from images of cells.\",\n",
    "        \"abstract_text\": (\n",
    "            \"This study measured morphological changes of cells using fluorescence microscopy.\"\n",
    "        ),\n",
    "        \"method_text\": (\n",
    "            \"We used CellProfiler to create morphological profiles of single cells using images from the DNA channel, AGP channel and Mitochondria channel. \"\n",
    "            \"Profiles were filtered to remove features with low variance or missing values, and were MAD-normalized within each plate. \"\n",
    "            \"Cells with abnormal cytoplasm:nucleoplasm area ratios or with median GFP intensities > 5 MAD from the median were filtered out. \"\n",
    "            \"A binary XGBoost classifier was trained to distinguish single-cell profiles for each reference-variant pair, with 4-fold cross-validation and data splits by plate. \"\n",
    "            \"Binary XGBoost classifiers were also trained between all possible pairs of control wells that were repeated on each plate, to quantify the well position effect. \"\n",
    "            \"Reference-variant classifier AUROC values were compared to the technical well position null AUROC values to determine which ones showed evidence from differences in the DNA, AGP and Mitochondria channels that exceeded technical artifacts. \"\n",
    "            \"These 'hits' were considered variants that cause morphological changes of cells. \"\n",
    "        ),\n",
    "        \"extra_metadata\": {},\n",
    "        \"primary_publication_identifiers\": [],\n",
    "        \"experiment_urn\": experiment_urn,\n",
    "        \"license_id\": 1,\n",
    "        \"target_genes\": target_genes,\n",
    "    }\n",
    "\n",
    "    return dataset"
   ]
  },
  {
   "cell_type": "code",
   "execution_count": 66,
   "id": "95cb22c8",
   "metadata": {},
   "outputs": [],
   "source": [
    "def format_abundance_score_set(gene_info, experiment_urn):\n",
    "    date = \"January_2025\"\n",
    "    target_genes = [\n",
    "        {\n",
    "            \"name\": row[\"symbol\"],\n",
    "            \"category\": \"protein_coding\",\n",
    "            \"external_identifiers\": [\n",
    "                {\n",
    "                    \"identifier\": {\n",
    "                        \"dbName\": \"Ensembl\",\n",
    "                        \"identifier\": row[\"ensembl_protein_id\"]\n",
    "                    },\n",
    "                    'offset': 0,\n",
    "                },\n",
    "            ],\n",
    "            \"target_sequence\": {\n",
    "                \"sequence\": row[\"ref_cds\"],\n",
    "                \"sequence_type\": \"dna\",\n",
    "                \"taxonomy\": {\n",
    "                    \"tax_id\": 9606,\n",
    "                },\n",
    "                \"label\": row[\"symbol\"] # THIS MUST MATCH THE PREFIX IN THE hgvs_nt COLUMN OF THE SCORE SET\n",
    "            },\n",
    "        }\n",
    "        for row in gene_info.to_dicts()\n",
    "    ]\n",
    "\n",
    "    dataset = {\n",
    "        \"title\": f\"VarChAMP_Imaging_Abundance_{date}\",\n",
    "        \"short_description\": \"Protein abundance from images of cells.\",\n",
    "        \"abstract_text\": (\n",
    "            \"This study measured protein subcellular abundance using fluorescence microscopy.\"\n",
    "        ),\n",
    "        \"method_text\": (\n",
    "            \"We used CellProfiler to create morphological profiles of single cells using images from the protein channel (GFP). \"\n",
    "            \"Profiles were filtered to remove features with low variance or missing values, and were MAD-normalized within each plate. \"\n",
    "            \"Cells with abnormal cytoplasm:nucleoplasm area ratios or with median GFP intensities > 5 MAD from the median were filtered out. \"\n",
    "            \"We measured changes in protein abundance across reference-variant pairs by computing differences in median protein intensity, while controlling for plate as a random effect.\"\n",
    "        ),\n",
    "        \"extra_metadata\": {},\n",
    "        \"primary_publication_identifiers\": [],\n",
    "        \"experiment_urn\": experiment_urn,\n",
    "        \"license_id\": 1,\n",
    "        \"target_genes\": target_genes,\n",
    "    }\n",
    "\n",
    "    return dataset\n"
   ]
  },
  {
   "cell_type": "markdown",
   "id": "cbcf52ea",
   "metadata": {},
   "source": [
    "## Upload the experiment\n",
    "\n",
    "The next few steps will upload the data to maveDB. When developing this, I made many errors, resulting in half-completed submissions. If you log into your MaveDB account and go to the dashboard, you can see a record of all of your uploaded experiments and their associated scores. From this interface, you can delete submissions which is helpful if you need to start over again.  \n",
    "\n",
    "The first submission creates an experiment \"urn\" ID - this is like creating an experiment folder in your maveDB account. Knowing the IDs is useful, because you can append additional submissions to previously created experiments. There is no need to manually track these IDs - they are available on your maveDB online dashboard. "
   ]
  },
  {
   "cell_type": "code",
   "execution_count": 67,
   "metadata": {},
   "outputs": [
    {
     "name": "stdout",
     "output_type": "stream",
     "text": [
      "uploaded experiment:\ttmp:708988c8-806e-4751-a4cb-9d12079fbe5b\n"
     ]
    }
   ],
   "source": [
    "# Upload to maveDB\n",
    "from timeit import default_timer as timer\n",
    "\n",
    "start = timer()\n",
    "temp_datasets = list()\n",
    "\n",
    "# upload experimentSet info\n",
    "response = requests.post(\n",
    "    api_url+'experiments/',\n",
    "    json=format_experiment(),\n",
    "    headers={\"X-API-Key\": api_key}\n",
    ")\n",
    "response_data = response.json()\n",
    "created_exp = response_data[\"urn\"]\n",
    "print(f\"uploaded experiment:\\t{created_exp}\")"
   ]
  },
  {
   "cell_type": "markdown",
   "id": "8f1e73f5",
   "metadata": {},
   "source": [
    "## Upload the mislocalization score set\n",
    "\n",
    "To submit scoreSets to an experimentSet, we must pass in the experiment urn ID (\"created_exp\") as a parameter to the API request. Each experiment set also returns an urn ID (\"created_ss\"). We use this scoreSet ID to post the actual table with all of the scores (ie. localization_scores.csv) to the correct scoreSet description."
   ]
  },
  {
   "cell_type": "code",
   "execution_count": 68,
   "id": "e3d7b16c",
   "metadata": {},
   "outputs": [
    {
     "name": "stdout",
     "output_type": "stream",
     "text": [
      "uploaded score set:\ttmp:dac239c5-5b08-42d0-81d3-acf379f35b65\n",
      "uploaded scores for score set:\ttmp:dac239c5-5b08-42d0-81d3-acf379f35b65\n",
      "elapsed time:\t4.23\n",
      "\n"
     ]
    }
   ],
   "source": [
    "# upload dataSet info\n",
    "response = requests.post(\n",
    "    api_url+\"score-sets/\",\n",
    "    json={**format_localization_score_set(gene_info, experiment_urn=created_exp)},\n",
    "    headers={\"X-API-Key\": api_key}\n",
    ")\n",
    "response_data = response.json()\n",
    "created_ss = response_data[\"urn\"]\n",
    "print(f\"uploaded score set:\\t{created_ss}\")\n",
    "\n",
    "# upload scores file\n",
    "response = requests.post(\n",
    "    api_url+f\"score-sets/{created_ss}/variants/data\",\n",
    "    files={\n",
    "        \"scores_file\": (\"scores.csv\", pd.read_csv(f\"./varchamp_data/batch13_14/localization_scores.csv\").to_csv()),\n",
    "    },\n",
    "    headers={\"X-API-Key\": api_key}\n",
    ")\n",
    "response.raise_for_status()\n",
    "print(f\"uploaded scores for score set:\\t{created_ss}\")\n",
    "\n",
    "# finish up\n",
    "end = timer()\n",
    "print(f\"elapsed time:\\t{end - start:.2f}\", end=\"\\n\\n\")\n",
    "\n",
    "temp_datasets.append(created_ss)\n",
    "\n",
    "with open(\"temp_accessions.txt\", \"w\") as handle:\n",
    "    for urn_ss in temp_datasets:\n",
    "        print(urn_ss, file=handle)"
   ]
  },
  {
   "cell_type": "markdown",
   "id": "19fd252a",
   "metadata": {},
   "source": [
    "## Upload the morphological change scores\n",
    "\n",
    "Now we repeat the process for the morphological change scores. "
   ]
  },
  {
   "cell_type": "code",
   "execution_count": 69,
   "id": "407c1180",
   "metadata": {},
   "outputs": [
    {
     "name": "stdout",
     "output_type": "stream",
     "text": [
      "uploaded score set:\ttmp:078e8707-c602-4a60-be1e-b75148e593ce\n",
      "uploaded scores for score set:\ttmp:078e8707-c602-4a60-be1e-b75148e593ce\n",
      "elapsed time:\t6.06\n",
      "\n"
     ]
    }
   ],
   "source": [
    "# upload dataSet info\n",
    "response = requests.post(\n",
    "    api_url+\"score-sets/\",\n",
    "    json={**format_morphological_change_score_set(gene_info, experiment_urn=created_exp)},\n",
    "    headers={\"X-API-Key\": api_key}\n",
    ")\n",
    "response_data = response.json()\n",
    "created_ss = response_data[\"urn\"]\n",
    "print(f\"uploaded score set:\\t{created_ss}\")\n",
    "\n",
    "# upload scores file\n",
    "response = requests.post(\n",
    "    api_url+f\"score-sets/{created_ss}/variants/data\",\n",
    "    files={\n",
    "        \"scores_file\": (\"scores.csv\", pd.read_csv(f\"./varchamp_data/batch13_14/morphological_change_scores.csv\").to_csv()),\n",
    "    },\n",
    "    headers={\"X-API-Key\": api_key}\n",
    ")\n",
    "response.raise_for_status()\n",
    "print(f\"uploaded scores for score set:\\t{created_ss}\")\n",
    "\n",
    "# finish up\n",
    "end = timer()\n",
    "print(f\"elapsed time:\\t{end - start:.2f}\", end=\"\\n\\n\")\n",
    "\n",
    "temp_datasets.append(created_ss)\n",
    "\n",
    "with open(\"temp_accessions.txt\", \"w\") as handle:\n",
    "    for urn_ss in temp_datasets:\n",
    "        print(urn_ss, file=handle)"
   ]
  },
  {
   "cell_type": "markdown",
   "id": "5acb2c84",
   "metadata": {},
   "source": [
    "## Upload the abundance scores\n",
    "\n",
    "Now we repeat the process for the abundance scores. "
   ]
  },
  {
   "cell_type": "code",
   "execution_count": 70,
   "id": "84458e58",
   "metadata": {},
   "outputs": [
    {
     "name": "stdout",
     "output_type": "stream",
     "text": [
      "uploaded score set:\ttmp:a863e7b9-d16f-4419-8107-e51ef2a2b1d2\n",
      "uploaded scores for score set:\ttmp:a863e7b9-d16f-4419-8107-e51ef2a2b1d2\n",
      "elapsed time:\t7.94\n",
      "\n"
     ]
    }
   ],
   "source": [
    "# upload dataSet info\n",
    "response = requests.post(\n",
    "    api_url+\"score-sets/\",\n",
    "    json={**format_abundance_score_set(gene_info, experiment_urn=created_exp)},\n",
    "    headers={\"X-API-Key\": api_key}\n",
    ")\n",
    "response_data = response.json()\n",
    "created_ss = response_data[\"urn\"]\n",
    "print(f\"uploaded score set:\\t{created_ss}\")\n",
    "\n",
    "# upload scores file\n",
    "response = requests.post(\n",
    "    api_url+f\"score-sets/{created_ss}/variants/data\",\n",
    "    files={\n",
    "        \"scores_file\": (\"scores.csv\", pd.read_csv(f\"./varchamp_data/batch13_14/abundance_scores.csv\").to_csv()),\n",
    "    },\n",
    "    headers={\"X-API-Key\": api_key}\n",
    ")\n",
    "response.raise_for_status()\n",
    "print(f\"uploaded scores for score set:\\t{created_ss}\")\n",
    "\n",
    "# finish up\n",
    "end = timer()\n",
    "print(f\"elapsed time:\\t{end - start:.2f}\", end=\"\\n\\n\")\n",
    "\n",
    "temp_datasets.append(created_ss)\n",
    "\n",
    "with open(\"temp_accessions.txt\", \"w\") as handle:\n",
    "    for urn_ss in temp_datasets:\n",
    "        print(urn_ss, file=handle)"
   ]
  }
 ],
 "metadata": {
  "kernelspec": {
   "display_name": "py310",
   "language": "python",
   "name": "python3"
  },
  "language_info": {
   "codemirror_mode": {
    "name": "ipython",
    "version": 3
   },
   "file_extension": ".py",
   "mimetype": "text/x-python",
   "name": "python",
   "nbconvert_exporter": "python",
   "pygments_lexer": "ipython3",
   "version": "3.10.13"
  }
 },
 "nbformat": 4,
 "nbformat_minor": 5
}
