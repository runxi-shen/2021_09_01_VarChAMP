{
 "cells": [
  {
   "cell_type": "markdown",
   "id": "cc48870b-c320-45d4-acf3-0aa597c63af3",
   "metadata": {},
   "source": [
    "# CCM2 Alleles"
   ]
  },
  {
   "cell_type": "code",
   "execution_count": 5,
   "id": "b96731b5-d33c-4c6f-8ce1-73b86e140c3d",
   "metadata": {},
   "outputs": [],
   "source": [
    "# Imports\n",
    "import polars as pl\n",
    "import pandas as pd\n",
    "from tqdm import tqdm\n",
    "import statsmodels.formula.api as smf\n",
    "from scipy.stats import ttest_rel"
   ]
  },
  {
   "cell_type": "code",
   "execution_count": 9,
   "id": "5e1d17a9",
   "metadata": {},
   "outputs": [
    {
     "data": {
      "text/plain": [
       "164"
      ]
     },
     "execution_count": 9,
     "metadata": {},
     "output_type": "execute_result"
    }
   ],
   "source": [
    "corrected_meta_df = pl.read_csv(\"../../../../8.1_upstream_analysis_runxi/1.metadata_qc/outputs/corrected_metadata/batch13-14/corrected_metadata.csv\")\n",
    "len(corrected_meta_df.filter(pl.col(\"final_gene_allele\").str.contains(\"CCM2_\"))[\"final_gene_allele\"].unique().to_list())"
   ]
  },
  {
   "cell_type": "code",
   "execution_count": 4,
   "id": "b906b3af",
   "metadata": {},
   "outputs": [
    {
     "data": {
      "text/plain": [
       "['2025_01_27_B13A7A8P2_T1, G22:CCM2_Glu108Lys\\n',\n",
       " '2025_01_27_B13A7A8P2_T2, N09:CCM2_Phe217Leu\\n',\n",
       " '2025_01_27_B13A7A8P2_T2, G22:CCM2_Glu108Lys\\n',\n",
       " '2025_01_27_B13A7A8P2_T2, G24:CCM2_Glu128Ala\\n',\n",
       " '2025_01_27_B13A7A8P2_T3, G22:CCM2_Glu108Lys\\n',\n",
       " '2025_01_27_B13A7A8P2_T3, N09:CCM2_Phe217Leu\\n',\n",
       " '2025_01_27_B13A7A8P2_T4, G22:CCM2_Glu108Lys\\n',\n",
       " '2025_01_27_B13A7A8P2_T4, N09:CCM2_Phe217Leu\\n']"
      ]
     },
     "execution_count": 4,
     "metadata": {},
     "output_type": "execute_result"
    }
   ],
   "source": [
    "log_file = \"../../../../8.2_updated_snakemake_pipeline/outputs/results/2025_01_27_Batch_13/profiles_tcdropped_filtered_var_mad_outlier_featselect/classify.log\"\n",
    "with open(log_file) as f:\n",
    "    lines = f.readlines()\n",
    "\n",
    "dropped_wells = [l for l in lines if l.startswith(\"2025\")]\n",
    "# lines[0].split(':')\n",
    "len(dropped_wells)\n",
    "[well for well in dropped_wells if \"CCM2\" in well]"
   ]
  },
  {
   "cell_type": "code",
   "execution_count": 18,
   "id": "2709b217-345c-4235-94a3-2400d5143273",
   "metadata": {},
   "outputs": [],
   "source": [
    "# Paths\n",
    "metrics_dir = \"../../output/classify_reimplement/classification_results/2025_01_Batch13-14/je_wAGP/\"\n",
    "prof_dir = \"/home/shenrunx/igvf/varchamp/2021_09_01_VarChAMP/6.downstream_analysis_snakemake/outputs/batch_profiles\"\n",
    "metrics_df = pl.read_csv(f\"{metrics_dir}/metrics.csv\", schema_overrides={\"Metadata_Control\": pl.Utf8})\n",
    "metrics_wtvar = pl.read_csv(f\"{metrics_dir}/metrics_summary.csv\", schema_overrides={\"Metadata_Control\": pl.Utf8})\n",
    "thresh = 3  # previously 10\n",
    "min_class_num = 2"
   ]
  },
  {
   "cell_type": "code",
   "execution_count": 25,
   "id": "d93ef566-a335-4326-ad13-36689f583d3d",
   "metadata": {},
   "outputs": [
    {
     "name": "stdout",
     "output_type": "stream",
     "text": [
      "shape: (165, 1)\n",
      "┌──────────────────────┐\n",
      "│ Metadata_gene_allele │\n",
      "│ ---                  │\n",
      "│ str                  │\n",
      "╞══════════════════════╡\n",
      "│ CCM2_Asp440Asn       │\n",
      "│ CCM2_Gly103Arg       │\n",
      "│ CCM2_Arg52Cys        │\n",
      "│ CCM2_Gly24Asp        │\n",
      "│ CCM2_Ala179Ser       │\n",
      "│ …                    │\n",
      "│ CCM2_Glu264Asp       │\n",
      "│ CCM2_Phe91Ile        │\n",
      "│ CCM2_Ile92Thr        │\n",
      "│ CCM2_Arg412Gln       │\n",
      "│ CCM2_Gly436Ser       │\n",
      "└──────────────────────┘\n",
      "shape: (165, 1)\n",
      "┌──────────────────────┐\n",
      "│ Metadata_gene_allele │\n",
      "│ ---                  │\n",
      "│ str                  │\n",
      "╞══════════════════════╡\n",
      "│ CCM2_Glu433Lys       │\n",
      "│ CCM2_Pro77Gln        │\n",
      "│ CCM2_Val45Gly        │\n",
      "│ CCM2_Asp411Asn       │\n",
      "│ CCM2_Glu108Lys       │\n",
      "│ …                    │\n",
      "│ CCM2_Gln72Arg        │\n",
      "│ CCM2_Asn94Ser        │\n",
      "│ CCM2_Arg423His       │\n",
      "│ CCM2_Ile131Asn       │\n",
      "│ CCM2_Asp110Asn       │\n",
      "└──────────────────────┘\n"
     ]
    }
   ],
   "source": [
    "# Get meta features\n",
    "def get_well_profiles(parquet_file):\n",
    "    cell_profiles = (\n",
    "        pl.scan_parquet(\n",
    "            parquet_file\n",
    "        )\n",
    "        .filter(pl.col(\"Metadata_gene_allele\").str.contains_any([\"CCM2\"]))\n",
    "    )\n",
    "\n",
    "    well_profiles = (\n",
    "        cell_profiles.group_by([\"Metadata_Plate\", \"Metadata_Well\", \"Metadata_gene_allele\"])\n",
    "        .agg(\n",
    "            pl.col(col).median().alias(col)\n",
    "                for col in cell_profiles.collect_schema().names()\n",
    "                if not col.startswith(\"Metadata_\")\n",
    "        )\n",
    "    ).collect().sort(by=[\"Metadata_Plate\", \"Metadata_gene_allele\", \"Metadata_Well\"])\n",
    "\n",
    "    return well_profiles\n",
    "\n",
    "\n",
    "for parquet_file in [f\"{prof_dir}/2025_01_27_Batch_13/profiles_tcdropped_filtered_var_mad_outlier_featselect_correct_meta.parquet\", \n",
    "                     f\"{prof_dir}/2025_01_28_Batch_14/profiles_tcdropped_filtered_var_mad_outlier_featselect_correct_meta.parquet\"]:\n",
    "    batch_id = parquet_file.split('/')[-2]\n",
    "    well_profiles = get_well_profiles(parquet_file)\n",
    "    print(well_profiles.select(\"Metadata_gene_allele\").unique())\n",
    "    well_profiles.write_csv(f\"CCM2_alleles_{batch_id}_cp_profiles.csv\")"
   ]
  },
  {
   "cell_type": "code",
   "execution_count": 26,
   "id": "e937075d-e573-4368-8bc2-acf39f80de86",
   "metadata": {},
   "outputs": [],
   "source": [
    "# b7_alleles.collect().sort(by=[\"Metadata_plate_map_name\",\"Metadata_gene_allele\"])\n",
    "# b8_alleles.collect().sort(by=[\"Metadata_plate_map_name\",\"Metadata_gene_allele\"])"
   ]
  },
  {
   "cell_type": "markdown",
   "id": "b6d79290",
   "metadata": {},
   "source": [
    "## Analysis Results"
   ]
  },
  {
   "cell_type": "code",
   "execution_count": null,
   "id": "750d3854",
   "metadata": {},
   "outputs": [
    {
     "data": {
      "text/html": [
       "<div>\n",
       "<style scoped>\n",
       "    .dataframe tbody tr th:only-of-type {\n",
       "        vertical-align: middle;\n",
       "    }\n",
       "\n",
       "    .dataframe tbody tr th {\n",
       "        vertical-align: top;\n",
       "    }\n",
       "\n",
       "    .dataframe thead th {\n",
       "        text-align: right;\n",
       "    }\n",
       "</style>\n",
       "<table border=\"1\" class=\"dataframe\">\n",
       "  <thead>\n",
       "    <tr style=\"text-align: right;\">\n",
       "      <th></th>\n",
       "      <th>allele_0</th>\n",
       "      <th>Allele_set</th>\n",
       "      <th>mislocalized_batch13</th>\n",
       "      <th>mislocalized_batch14</th>\n",
       "      <th>mislocalized_both_batches</th>\n",
       "      <th>auroc_batch13</th>\n",
       "      <th>auroc_batch14</th>\n",
       "      <th>mean_auroc</th>\n",
       "    </tr>\n",
       "  </thead>\n",
       "  <tbody>\n",
       "    <tr>\n",
       "      <th>11</th>\n",
       "      <td>CCM2_Arg412Trp</td>\n",
       "      <td>A7A8P2</td>\n",
       "      <td>0</td>\n",
       "      <td>1</td>\n",
       "      <td>False</td>\n",
       "      <td>0.756599</td>\n",
       "      <td>0.817449</td>\n",
       "      <td>0.787024</td>\n",
       "    </tr>\n",
       "    <tr>\n",
       "      <th>17</th>\n",
       "      <td>CCM2_Asp376His</td>\n",
       "      <td>A7A8P2</td>\n",
       "      <td>0</td>\n",
       "      <td>1</td>\n",
       "      <td>False</td>\n",
       "      <td>0.852681</td>\n",
       "      <td>0.838440</td>\n",
       "      <td>0.845561</td>\n",
       "    </tr>\n",
       "    <tr>\n",
       "      <th>48</th>\n",
       "      <td>CCM2_Ile432Phe</td>\n",
       "      <td>A7A8P2</td>\n",
       "      <td>0</td>\n",
       "      <td>1</td>\n",
       "      <td>False</td>\n",
       "      <td>0.788307</td>\n",
       "      <td>0.820918</td>\n",
       "      <td>0.804613</td>\n",
       "    </tr>\n",
       "    <tr>\n",
       "      <th>49</th>\n",
       "      <td>CCM2_Ile432Thr</td>\n",
       "      <td>A7A8P2</td>\n",
       "      <td>1</td>\n",
       "      <td>1</td>\n",
       "      <td>True</td>\n",
       "      <td>0.986814</td>\n",
       "      <td>0.985951</td>\n",
       "      <td>0.986383</td>\n",
       "    </tr>\n",
       "    <tr>\n",
       "      <th>68</th>\n",
       "      <td>CCM2_Ser251Tyr</td>\n",
       "      <td>A7A8P2</td>\n",
       "      <td>0</td>\n",
       "      <td>1</td>\n",
       "      <td>False</td>\n",
       "      <td>0.767383</td>\n",
       "      <td>0.865958</td>\n",
       "      <td>0.816671</td>\n",
       "    </tr>\n",
       "    <tr>\n",
       "      <th>80</th>\n",
       "      <td>CCM2_Val190Met</td>\n",
       "      <td>A7A8P2</td>\n",
       "      <td>0</td>\n",
       "      <td>1</td>\n",
       "      <td>False</td>\n",
       "      <td>0.787347</td>\n",
       "      <td>0.819877</td>\n",
       "      <td>0.803612</td>\n",
       "    </tr>\n",
       "  </tbody>\n",
       "</table>\n",
       "</div>"
      ],
      "text/plain": [
       "          allele_0 Allele_set  mislocalized_batch13  mislocalized_batch14  \\\n",
       "11  CCM2_Arg412Trp     A7A8P2                     0                     1   \n",
       "17  CCM2_Asp376His     A7A8P2                     0                     1   \n",
       "48  CCM2_Ile432Phe     A7A8P2                     0                     1   \n",
       "49  CCM2_Ile432Thr     A7A8P2                     1                     1   \n",
       "68  CCM2_Ser251Tyr     A7A8P2                     0                     1   \n",
       "80  CCM2_Val190Met     A7A8P2                     0                     1   \n",
       "\n",
       "    mislocalized_both_batches  auroc_batch13  auroc_batch14  mean_auroc  \n",
       "11                      False       0.756599       0.817449    0.787024  \n",
       "17                      False       0.852681       0.838440    0.845561  \n",
       "48                      False       0.788307       0.820918    0.804613  \n",
       "49                       True       0.986814       0.985951    0.986383  \n",
       "68                      False       0.767383       0.865958    0.816671  \n",
       "80                      False       0.787347       0.819877    0.803612  "
      ]
     },
     "execution_count": 49,
     "metadata": {},
     "output_type": "execute_result"
    }
   ],
   "source": [
    "misloc_auroc_df = pd.read_csv(\"/home/shenrunx/igvf/varchamp/2021_09_01_VarChAMP/7.analysis_runxi/output/classify_reimplement/classification_results/2025_01_Batch13-14/je_wAGP/misloc_summary_auroc.csv\")\n",
    "misloc_auroc_df = misloc_auroc_df[misloc_auroc_df[\"allele_0\"].str.contains(\"CCM2\")].sort_values(by=\"allele_0\").copy()\n",
    "misloc_auroc_df.reset_index(drop=True, inplace=True)\n",
    "# misloc_auroc_df.to_csv(\"CCM2_alleles_misloc_summary_auroc.csv\", index=False)\n",
    "\n",
    "misloc_auroc_df[(misloc_auroc_df[\"mislocalized_batch14\"]==1)|(misloc_auroc_df[\"mislocalized_batch13\"]==1)]"
   ]
  },
  {
   "cell_type": "code",
   "execution_count": null,
   "id": "4d6e180b",
   "metadata": {},
   "outputs": [
    {
     "data": {
      "text/html": [
       "<div>\n",
       "<style scoped>\n",
       "    .dataframe tbody tr th:only-of-type {\n",
       "        vertical-align: middle;\n",
       "    }\n",
       "\n",
       "    .dataframe tbody tr th {\n",
       "        vertical-align: top;\n",
       "    }\n",
       "\n",
       "    .dataframe thead th {\n",
       "        text-align: right;\n",
       "    }\n",
       "</style>\n",
       "<table border=\"1\" class=\"dataframe\">\n",
       "  <thead>\n",
       "    <tr style=\"text-align: right;\">\n",
       "      <th></th>\n",
       "      <th>allele_0</th>\n",
       "      <th>Allele_set</th>\n",
       "      <th>morphological_change_batch13</th>\n",
       "      <th>morphological_change_batch14</th>\n",
       "      <th>morphological_change_both_batches</th>\n",
       "      <th>auroc_batch13</th>\n",
       "      <th>auroc_batch14</th>\n",
       "      <th>mean_auroc</th>\n",
       "    </tr>\n",
       "  </thead>\n",
       "  <tbody>\n",
       "    <tr>\n",
       "      <th>63</th>\n",
       "      <td>CCM2_Ser164Phe</td>\n",
       "      <td>A7A8P2</td>\n",
       "      <td>1</td>\n",
       "      <td>0</td>\n",
       "      <td>False</td>\n",
       "      <td>0.978929</td>\n",
       "      <td>0.742814</td>\n",
       "      <td>0.860872</td>\n",
       "    </tr>\n",
       "    <tr>\n",
       "      <th>79</th>\n",
       "      <td>CCM2_Tyr261Asp</td>\n",
       "      <td>A7A8P2</td>\n",
       "      <td>1</td>\n",
       "      <td>0</td>\n",
       "      <td>False</td>\n",
       "      <td>0.982638</td>\n",
       "      <td>0.861139</td>\n",
       "      <td>0.921889</td>\n",
       "    </tr>\n",
       "    <tr>\n",
       "      <th>80</th>\n",
       "      <td>CCM2_Val190Met</td>\n",
       "      <td>A7A8P2</td>\n",
       "      <td>1</td>\n",
       "      <td>0</td>\n",
       "      <td>False</td>\n",
       "      <td>0.941919</td>\n",
       "      <td>0.571079</td>\n",
       "      <td>0.756499</td>\n",
       "    </tr>\n",
       "  </tbody>\n",
       "</table>\n",
       "</div>"
      ],
      "text/plain": [
       "          allele_0 Allele_set  morphological_change_batch13  \\\n",
       "63  CCM2_Ser164Phe     A7A8P2                             1   \n",
       "79  CCM2_Tyr261Asp     A7A8P2                             1   \n",
       "80  CCM2_Val190Met     A7A8P2                             1   \n",
       "\n",
       "    morphological_change_batch14  morphological_change_both_batches  \\\n",
       "63                             0                              False   \n",
       "79                             0                              False   \n",
       "80                             0                              False   \n",
       "\n",
       "    auroc_batch13  auroc_batch14  mean_auroc  \n",
       "63       0.978929       0.742814    0.860872  \n",
       "79       0.982638       0.861139    0.921889  \n",
       "80       0.941919       0.571079    0.756499  "
      ]
     },
     "metadata": {},
     "output_type": "display_data"
    }
   ],
   "source": [
    "misloc_auroc_df = pd.read_csv(\"/home/shenrunx/igvf/varchamp/2021_09_01_VarChAMP/7.analysis_runxi/output/classify_reimplement/classification_results/2025_01_Batch13-14/je_wAGP/morph_summary_auroc.csv\")\n",
    "misloc_auroc_df = misloc_auroc_df[misloc_auroc_df[\"allele_0\"].str.contains(\"CCM2\")].sort_values(by=\"allele_0\").copy()\n",
    "misloc_auroc_df.reset_index(drop=True, inplace=True)\n",
    "# misloc_auroc_df.to_csv(\"CCM2_alleles_morph_summary_auroc.csv\", index=False)\n",
    "display(misloc_auroc_df[(misloc_auroc_df[\"morphological_change_batch14\"]==1)|(misloc_auroc_df[\"morphological_change_batch13\"]==1)])"
   ]
  },
  {
   "cell_type": "code",
   "execution_count": 41,
   "id": "005c8965",
   "metadata": {},
   "outputs": [],
   "source": [
    "abundance_df = pd.read_csv(\"/home/shenrunx/igvf/varchamp/2021_09_01_VarChAMP/7.analysis_runxi/output/classify_reimplement/classification_results/2025_01_Batch13-14/je_wAGP/well-level_abundance_changes.csv\")\n",
    "abundance_df = abundance_df[abundance_df[\"Gene\"].str.contains(\"CCM2\")].reset_index(drop=True).sort_values(by=\"Variant\").copy()\n",
    "abundance_df.reset_index(drop=True, inplace=True)\n",
    "abundance_df.to_csv(\"CCM2_alleles_protein_abundance_change.csv\", index=False)"
   ]
  },
  {
   "cell_type": "code",
   "execution_count": 42,
   "id": "1958991b",
   "metadata": {},
   "outputs": [],
   "source": [
    "cc_df = pd.read_csv(\"/home/shenrunx/igvf/varchamp/2021_09_01_VarChAMP/7.analysis_runxi/output/classify_reimplement/classification_results/2025_01_Batch13-14/je_wAGP/well-level_cell-count_changes.csv\")\n",
    "cc_df = cc_df[cc_df[\"Gene\"].str.contains(\"CCM2\")].dropna(subset=\"U2OS_t\").reset_index(drop=True).sort_values(by=\"Variant\").copy()\n",
    "cc_df.reset_index(drop=True, inplace=True)\n",
    "cc_df.to_csv(\"CCM2_alleles_cell_count_change.csv\", index=False)"
   ]
  },
  {
   "cell_type": "markdown",
   "id": "c851aced",
   "metadata": {},
   "source": []
  }
 ],
 "metadata": {
  "kernelspec": {
   "display_name": "varchamp",
   "language": "python",
   "name": "python3"
  },
  "language_info": {
   "codemirror_mode": {
    "name": "ipython",
    "version": 3
   },
   "file_extension": ".py",
   "mimetype": "text/x-python",
   "name": "python",
   "nbconvert_exporter": "python",
   "pygments_lexer": "ipython3",
   "version": "3.8.18"
  }
 },
 "nbformat": 4,
 "nbformat_minor": 5
}
